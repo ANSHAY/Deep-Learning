{
  "nbformat": 4,
  "nbformat_minor": 0,
  "metadata": {
    "kernelspec": {
      "display_name": "Python 3",
      "language": "python",
      "name": "python3"
    },
    "language_info": {
      "codemirror_mode": {
        "name": "ipython",
        "version": 3
      },
      "file_extension": ".py",
      "mimetype": "text/x-python",
      "name": "python",
      "nbconvert_exporter": "python",
      "pygments_lexer": "ipython3",
      "version": "3.8.2"
    },
    "colab": {
      "name": "GAN_7.ipynb",
      "provenance": [],
      "collapsed_sections": [],
      "toc_visible": true
    },
    "accelerator": "GPU"
  },
  "cells": [
    {
      "cell_type": "markdown",
      "metadata": {
        "id": "TJpQtGG0HY4W"
      },
      "source": [
        "# import libraries\n"
      ]
    },
    {
      "cell_type": "code",
      "metadata": {
        "id": "4YesWZLbHY4Z"
      },
      "source": [
        "import tensorflow as tf\n",
        "import tensorflow.keras.layers as Layers\n",
        "import numpy as np\n",
        "import matplotlib.pyplot as plt\n",
        "import time\n",
        "\n",
        "from IPython import display"
      ],
      "execution_count": null,
      "outputs": []
    },
    {
      "cell_type": "markdown",
      "metadata": {
        "id": "yDmPOMv6HY4k"
      },
      "source": [
        "# define parameters"
      ]
    },
    {
      "cell_type": "code",
      "metadata": {
        "id": "BHmSx0zUHY4p"
      },
      "source": [
        "LEARNING_RATE = 0.0001\n",
        "BETA1 = 0.5\n",
        "OPTIMIZER_D = tf.optimizers.Adam(lr=LEARNING_RATE, beta_1=BETA1)\n",
        "OPTIMIZER_G = tf.optimizers.Adam(lr=LEARNING_RATE, beta_1=BETA1)\n",
        "BCE = tf.keras.losses.BinaryCrossentropy(from_logits=True)\n",
        "\n",
        "INPUT_LENGTH = 64\n",
        "\n",
        "EPOCHS = 200\n",
        "BATCH_SIZE = 128\n",
        "\n",
        "OUTPUT_SIZE = 28\n",
        "OUTPUT_CHANNELS = 1"
      ],
      "execution_count": null,
      "outputs": []
    },
    {
      "cell_type": "markdown",
      "metadata": {
        "id": "BN_2kcSGHY4w"
      },
      "source": [
        "# load data"
      ]
    },
    {
      "cell_type": "code",
      "metadata": {
        "id": "rO8WuyJAHY4z",
        "outputId": "48c8e314-9f9b-4a7a-b508-697c428b9faa",
        "colab": {
          "base_uri": "https://localhost:8080/"
        }
      },
      "source": [
        "(x_train, _), (_, _) = tf.keras.datasets.mnist.load_data()\n",
        "x_train = np.expand_dims(x_train, axis=-1).astype('float32')\n",
        "x_train = (x_train - 127.5)/127.5\n",
        "IMAGE_SHAPE = x_train[0].shape\n",
        "\n",
        "print(x_train.shape)\n",
        "print(np.max(x_train))"
      ],
      "execution_count": null,
      "outputs": [
        {
          "output_type": "stream",
          "text": [
            "(60000, 28, 28, 1)\n",
            "1.0\n"
          ],
          "name": "stdout"
        }
      ]
    },
    {
      "cell_type": "code",
      "metadata": {
        "id": "4DVEykB7yDb1"
      },
      "source": [
        "# Batch and shuffle the data\n",
        "x_train = tf.data.Dataset.from_tensor_slices(x_train)\n",
        "x_train = x_train.batch(BATCH_SIZE, drop_remainder=True)"
      ],
      "execution_count": null,
      "outputs": []
    },
    {
      "cell_type": "markdown",
      "metadata": {
        "id": "kf1TK-f8HY49"
      },
      "source": [
        "# define model"
      ]
    },
    {
      "cell_type": "markdown",
      "metadata": {
        "id": "wGyDMvxfHY49"
      },
      "source": [
        "### generator"
      ]
    },
    {
      "cell_type": "code",
      "metadata": {
        "id": "3OgyUghBHY4_"
      },
      "source": [
        "def generator(input_dim=10, output_channels=1, hidden_channel=64):\n",
        "    model = tf.keras.models.Sequential()\n",
        "\n",
        "    model.add(Layers.Reshape((1, 1, input_dim), input_shape=(input_dim,)))\n",
        "    model.add(Layers.Conv2DTranspose(hidden_channel*4, 3, 2))\n",
        "    model.add(Layers.BatchNormalization())\n",
        "    model.add(Layers.ReLU())\n",
        "\n",
        "    model.add(Layers.Conv2DTranspose(hidden_channel*2, 5, 1))\n",
        "    model.add(Layers.BatchNormalization())\n",
        "    model.add(Layers.ReLU())\n",
        "\n",
        "    model.add(Layers.Conv2DTranspose(hidden_channel, 3, 2))\n",
        "    model.add(Layers.BatchNormalization())\n",
        "    model.add(Layers.ReLU())\n",
        "\n",
        "    model.add(Layers.Conv2DTranspose(1, 5, 2, activation='tanh'))\n",
        "    model.summary()\n",
        "    return model"
      ],
      "execution_count": null,
      "outputs": []
    },
    {
      "cell_type": "markdown",
      "metadata": {
        "id": "9G5uUWTQHY5G"
      },
      "source": [
        "### discriminator"
      ]
    },
    {
      "cell_type": "code",
      "metadata": {
        "id": "lunHJFF_HY5J"
      },
      "source": [
        "def discriminator(input_dim=28, hidden_channel=64):\n",
        "    model = tf.keras.models.Sequential()\n",
        "\n",
        "    model.add(Layers.Conv2D(hidden_channel*2, 4, 2, input_shape=(input_dim,input_dim,1)))\n",
        "    model.add(Layers.BatchNormalization())\n",
        "    model.add(Layers.LeakyReLU(0.2))\n",
        "\n",
        "    model.add(Layers.Conv2D(hidden_channel, 4, 2))\n",
        "    model.add(Layers.BatchNormalization())\n",
        "    model.add(Layers.LeakyReLU(0.2))\n",
        "\n",
        "    model.add(Layers.Conv2D(1, 4, 2, activation='sigmoid'))\n",
        "    model.summary()\n",
        "    return model"
      ],
      "execution_count": null,
      "outputs": []
    },
    {
      "cell_type": "markdown",
      "metadata": {
        "id": "O9K8gwm9HY5e"
      },
      "source": [
        "# Full model"
      ]
    },
    {
      "cell_type": "code",
      "metadata": {
        "id": "uwaOzIp_HY5f",
        "outputId": "32023d54-2c33-4bb2-bd35-8e62060e122f",
        "colab": {
          "base_uri": "https://localhost:8080/"
        }
      },
      "source": [
        "gen = generator(INPUT_LENGTH, OUTPUT_CHANNELS)\n",
        "discr = discriminator(OUTPUT_SIZE)"
      ],
      "execution_count": null,
      "outputs": [
        {
          "output_type": "stream",
          "text": [
            "Model: \"sequential\"\n",
            "_________________________________________________________________\n",
            "Layer (type)                 Output Shape              Param #   \n",
            "=================================================================\n",
            "reshape (Reshape)            (None, 1, 1, 64)          0         \n",
            "_________________________________________________________________\n",
            "conv2d_transpose (Conv2DTran (None, 3, 3, 256)         147712    \n",
            "_________________________________________________________________\n",
            "batch_normalization (BatchNo (None, 3, 3, 256)         1024      \n",
            "_________________________________________________________________\n",
            "re_lu (ReLU)                 (None, 3, 3, 256)         0         \n",
            "_________________________________________________________________\n",
            "conv2d_transpose_1 (Conv2DTr (None, 7, 7, 128)         819328    \n",
            "_________________________________________________________________\n",
            "batch_normalization_1 (Batch (None, 7, 7, 128)         512       \n",
            "_________________________________________________________________\n",
            "re_lu_1 (ReLU)               (None, 7, 7, 128)         0         \n",
            "_________________________________________________________________\n",
            "conv2d_transpose_2 (Conv2DTr (None, 15, 15, 64)        73792     \n",
            "_________________________________________________________________\n",
            "batch_normalization_2 (Batch (None, 15, 15, 64)        256       \n",
            "_________________________________________________________________\n",
            "re_lu_2 (ReLU)               (None, 15, 15, 64)        0         \n",
            "_________________________________________________________________\n",
            "conv2d_transpose_3 (Conv2DTr (None, 33, 33, 1)         1601      \n",
            "=================================================================\n",
            "Total params: 1,044,225\n",
            "Trainable params: 1,043,329\n",
            "Non-trainable params: 896\n",
            "_________________________________________________________________\n",
            "Model: \"sequential_1\"\n",
            "_________________________________________________________________\n",
            "Layer (type)                 Output Shape              Param #   \n",
            "=================================================================\n",
            "conv2d (Conv2D)              (None, 13, 13, 128)       2176      \n",
            "_________________________________________________________________\n",
            "batch_normalization_3 (Batch (None, 13, 13, 128)       512       \n",
            "_________________________________________________________________\n",
            "leaky_re_lu (LeakyReLU)      (None, 13, 13, 128)       0         \n",
            "_________________________________________________________________\n",
            "conv2d_1 (Conv2D)            (None, 5, 5, 64)          131136    \n",
            "_________________________________________________________________\n",
            "batch_normalization_4 (Batch (None, 5, 5, 64)          256       \n",
            "_________________________________________________________________\n",
            "leaky_re_lu_1 (LeakyReLU)    (None, 5, 5, 64)          0         \n",
            "_________________________________________________________________\n",
            "conv2d_2 (Conv2D)            (None, 1, 1, 1)           1025      \n",
            "=================================================================\n",
            "Total params: 135,105\n",
            "Trainable params: 134,721\n",
            "Non-trainable params: 384\n",
            "_________________________________________________________________\n"
          ],
          "name": "stdout"
        }
      ]
    },
    {
      "cell_type": "markdown",
      "metadata": {
        "id": "R96Q4FDvtb3p"
      },
      "source": [
        "# Define train step"
      ]
    },
    {
      "cell_type": "code",
      "metadata": {
        "id": "jID-PP90tvR4"
      },
      "source": [
        "def get_noise(input_dim, num_samples):\n",
        "    return tf.random.normal((num_samples, input_dim))"
      ],
      "execution_count": null,
      "outputs": []
    },
    {
      "cell_type": "code",
      "metadata": {
        "id": "xiZCJAJWUi3A"
      },
      "source": [
        "def get_discr_loss(gen, discr, real, input_dim, num_samples):\n",
        "    noise = get_noise(input_dim, num_samples)\n",
        "    fake_images = gen(noise)\n",
        "    fake_pred = discr(fake_images)\n",
        "    real_pred = discr(real)\n",
        "    fake_loss = BCE(fake_pred, tf.zeros_like(fake_pred))\n",
        "    real_loss = BCE(real_pred, tf.ones_like(real_pred))\n",
        "    return (real_loss+fake_loss)/2"
      ],
      "execution_count": null,
      "outputs": []
    },
    {
      "cell_type": "code",
      "metadata": {
        "id": "EymhV1ZNVcky"
      },
      "source": [
        "def get_gen_loss(gen, discr, input_dim, num_samples):\n",
        "    noise = get_noise(input_dim, num_samples)\n",
        "    fake_images = gen(noise)\n",
        "    fake_pred = discr(fake_images)\n",
        "    gen_loss = BCE(fake_pred, tf.ones_like(fake_pred))\n",
        "    return gen_loss"
      ],
      "execution_count": null,
      "outputs": []
    },
    {
      "cell_type": "code",
      "metadata": {
        "id": "uFTDA24fvHYs"
      },
      "source": [
        "@tf.function\n",
        "def train_step(gen, discr, real, input_dim):\n",
        "    num_samples = len(real)\n",
        "    with tf.GradientTape() as gen_tape, tf.GradientTape() as discr_tape:\n",
        "        gen_loss = get_gen_loss(gen, discr, input_dim, num_samples)\n",
        "        discr_loss = get_discr_loss(gen, discr, real, input_dim, num_samples)\n",
        "    gen_grads = gen_tape.gradient(gen_loss, gen.trainable_variables)\n",
        "    discr_grads = discr_tape.gradient(discr_loss, discr.trainable_variables)\n",
        "    OPTIMIZER_D.apply_gradients(zip(discr_grads, discr.trainable_variables))\n",
        "    OPTIMIZER_G.apply_gradients(zip(gen_grads, gen.trainable_variables))\n",
        "    return (gen_loss, discr_loss)"
      ],
      "execution_count": null,
      "outputs": []
    },
    {
      "cell_type": "markdown",
      "metadata": {
        "id": "MrfZ9JcHHY6E"
      },
      "source": [
        "# Train model"
      ]
    },
    {
      "cell_type": "code",
      "metadata": {
        "id": "7_od1swuCDAC"
      },
      "source": [
        "def generate_and_save_images(model, epoch, test_input):\n",
        "  predictions = model(test_input, training=False)\n",
        "\n",
        "  fig = plt.figure(figsize=(4,4))\n",
        "\n",
        "  for i in range(predictions.shape[0]):\n",
        "      plt.subplot(4, 4, i+1)\n",
        "      plt.imshow(predictions[i, :, :, 0] * 127.5 + 127.5, cmap='gray')\n",
        "      plt.axis('off')\n",
        "\n",
        "  plt.savefig('image_at_epoch_{:04d}.png'.format(epoch))\n",
        "  plt.show()\n"
      ],
      "execution_count": null,
      "outputs": []
    },
    {
      "cell_type": "code",
      "metadata": {
        "id": "Z7wulqNzCNJE"
      },
      "source": [
        "seed = get_noise(INPUT_LENGTH, 16)"
      ],
      "execution_count": null,
      "outputs": []
    },
    {
      "cell_type": "code",
      "metadata": {
        "id": "Jr8Rs0cuuYHE"
      },
      "source": [
        "def print_weight_matrices(model):\n",
        "    weights = []\n",
        "    for l in model.layers:\n",
        "      if l.trainable == True:\n",
        "        weights.append(l.get_weights()[0])\n",
        "    #print(len(weights))\n",
        "    fig = plt.figure(figsize=(4, 4))\n",
        "    for i in range(len(weights)):\n",
        "        plt.subplot(4, 4, i+1)\n",
        "        plt.imshow(weights[i], cmap='gray')\n",
        "        plt.axis('off')\n",
        "    plt.show()"
      ],
      "execution_count": null,
      "outputs": []
    },
    {
      "cell_type": "code",
      "metadata": {
        "id": "g9U1FRzOxzq3"
      },
      "source": [
        "def train(x_train, gen, discr, input_dim, epochs):\n",
        "    for e in range(epochs):\n",
        "      start = time.time()\n",
        "      for image_batch in x_train:\n",
        "          gen_loss, discr_loss = train_step(gen, discr, image_batch, input_dim)\n",
        "      # Produce images for the GIF as we go\n",
        "      display.clear_output(wait=True)\n",
        "      generate_and_save_images(gen, e + 1, seed)\n",
        "      #print_weight_matrices(gen)\n",
        "      #print_weight_matrices(discr)\n",
        "      print(\"Loss - gen: {}, discr: {}\".format(gen_loss, discr_loss))\n",
        "      # print(\"Accuracy - gen: {}, discr: {}\".format(gen_acc, discr_acc))\n",
        "      print ('Time for epoch {} is {} sec'.format(e + 1, time.time()-start))\n",
        "\n",
        "    # Generate after the final epoch\n",
        "    display.clear_output(wait=True)\n",
        "    generate_and_save_images(gen, epochs, seed)\n"
      ],
      "execution_count": null,
      "outputs": []
    },
    {
      "cell_type": "code",
      "metadata": {
        "id": "i9mvdiCOHY6U",
        "outputId": "a5746f76-473f-4447-b1df-1a2d459a9b2f",
        "colab": {
          "base_uri": "https://localhost:8080/",
          "height": 285
        }
      },
      "source": [
        "train(x_train, gen, discr, INPUT_LENGTH, EPOCHS)"
      ],
      "execution_count": null,
      "outputs": [
        {
          "output_type": "display_data",
          "data": {
            "image/png": "[encoded data removed]",
            "text/plain": [
              "<Figure size 288x288 with 16 Axes>"
            ]
          },
          "metadata": {
            "tags": [],
            "needs_background": "light"
          }
        },
        {
          "output_type": "stream",
          "text": [
            "Loss - gen: 0.3132617473602295, discr: 0.5032045841217041\n",
            "Time for epoch 30 is 7.656724214553833 sec\n"
          ],
          "name": "stdout"
        }
      ]
    },
    {
      "cell_type": "markdown",
      "metadata": {
        "id": "xWFwPdRLHY6Y"
      },
      "source": [
        "# Generate new images"
      ]
    },
    {
      "cell_type": "code",
      "metadata": {
        "id": "hyR9VFC5HY6a"
      },
      "source": [
        "num_images = 10\n",
        "noise = get_noise(INPUT_LENGTH, num_images)\n",
        "generated_images = gen(noise, training=False)*127.5+127.5"
      ],
      "execution_count": null,
      "outputs": []
    },
    {
      "cell_type": "markdown",
      "metadata": {
        "id": "sU3sb0OhHY6e"
      },
      "source": [
        "# View generated images"
      ]
    },
    {
      "cell_type": "code",
      "metadata": {
        "id": "bL9M36XBHY6g"
      },
      "source": [
        "plt.imshow(np.squeeze(generated_images[np.random.randint(num_images)]), cmap='gray')"
      ],
      "execution_count": null,
      "outputs": []
    },
    {
      "cell_type": "code",
      "metadata": {
        "id": "ctRvmrcSNas5"
      },
      "source": [
        ""
      ],
      "execution_count": null,
      "outputs": []
    }
  ]
}