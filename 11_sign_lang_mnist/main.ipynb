{
 "cells": [
  {
   "cell_type": "markdown",
   "metadata": {},
   "source": [
    "# Sign language classification on sign-language-mnist data"
   ]
  },
  {
   "cell_type": "code",
   "execution_count": 1,
   "metadata": {},
   "outputs": [],
   "source": [
    "## Import Libraries\n",
    "import tensorflow as tf\n",
    "from tensorflow.keras.optimizers import RMSprop\n",
    "from tensorflow.keras.preprocessing.image import ImageDataGenerator\n",
    "\n",
    "import matplotlib.pyplot as plt\n",
    "import csv\n",
    "import numpy as np"
   ]
  },
  {
   "cell_type": "code",
   "execution_count": 2,
   "metadata": {},
   "outputs": [],
   "source": [
    "## Define Parameters\n",
    "EPOCHS = 20\n",
    "NUM_ROWS = 28\n",
    "NUM_COLS = 28\n",
    "ROW_LEN = NUM_ROWS * NUM_COLS + 1"
   ]
  },
  {
   "cell_type": "code",
   "execution_count": 3,
   "metadata": {},
   "outputs": [],
   "source": [
    "## Function to load csv data\n",
    "def load_csv_data(filename):\n",
    "    data = []\n",
    "    labels = []\n",
    "    with open(filename) as csvFile:\n",
    "        csvReader = csv.reader(csvFile)\n",
    "        first_line = True\n",
    "        for row in csvReader:\n",
    "            if first_line:\n",
    "                # print(\"Ignoring first line\")\n",
    "                first_line = False\n",
    "            else:\n",
    "                labels.append(row[0])\n",
    "                data_row = row[1:ROW_LEN]\n",
    "                data_row = np.array_split(data_row, NUM_ROWS)\n",
    "                data.append(data_row)\n",
    "        data = np.array(data).astype('float')\n",
    "        labels = np.array(labels).astype('float')\n",
    "    return data, labels\n"
   ]
  },
  {
   "cell_type": "code",
   "execution_count": 4,
   "metadata": {},
   "outputs": [
    {
     "name": "stdout",
     "output_type": "stream",
     "text": [
      "(27455, 28, 28)\n",
      "(7172, 28, 28)\n",
      "(27455,)\n",
      "(7172,)\n"
     ]
    }
   ],
   "source": [
    "## Load Data\n",
    "data_dir = \"D://Datasets//sign_lang_mnist//\"\n",
    "train_file = data_dir + \"sign_mnist_train.csv\"\n",
    "test_file = data_dir + \"sign_mnist_test.csv\"\n",
    "\n",
    "train_data, train_labels = load_csv_data(train_file)\n",
    "test_data, test_labels = load_csv_data(test_file)\n",
    "\n",
    "print(train_data.shape)\n",
    "print(test_data.shape)\n",
    "print(train_labels.shape)\n",
    "print(test_labels.shape)"
   ]
  },
  {
   "cell_type": "code",
   "execution_count": 5,
   "metadata": {},
   "outputs": [],
   "source": [
    "## Expand data dimensions to support with Keras\n",
    "train_data = np.expand_dims(train_data, axis=3)\n",
    "test_data = np.expand_dims(test_data, axis=3)"
   ]
  },
  {
   "cell_type": "code",
   "execution_count": 6,
   "metadata": {},
   "outputs": [],
   "source": [
    "## Define ImageDataGenerator\n",
    "train_gen = ImageDataGenerator(rescale=1/255.,\n",
    "                               rotation_range=40,\n",
    "                               width_shift_range=0.2,\n",
    "                               height_shift_range=0.2,\n",
    "                               zoom_range=0.2,\n",
    "                               shear_range=0.2,\n",
    "                               horizontal_flip=True)\n",
    "val_gen = ImageDataGenerator(rescale=1/255.)"
   ]
  },
  {
   "cell_type": "code",
   "execution_count": 7,
   "metadata": {},
   "outputs": [
    {
     "name": "stdout",
     "output_type": "stream",
     "text": [
      "WARNING:tensorflow:From C:\\Users\\XARC\\Anaconda3\\lib\\site-packages\\tensorflow\\python\\ops\\resource_variable_ops.py:435: colocate_with (from tensorflow.python.framework.ops) is deprecated and will be removed in a future version.\n",
      "Instructions for updating:\n",
      "Colocations handled automatically by placer.\n"
     ]
    }
   ],
   "source": [
    "## Define Model\n",
    "model = tf.keras.models.Sequential([tf.keras.layers.Conv2D(256, (3,3), activation='relu', input_shape=(28,28,1)),\n",
    "                                    tf.keras.layers.MaxPooling2D(2,2),\n",
    "                                    tf.keras.layers.Conv2D(128, (3,3), activation='relu'),\n",
    "                                    tf.keras.layers.MaxPooling2D(2,2),\n",
    "                                    tf.keras.layers.Flatten(),\n",
    "                                    tf.keras.layers.Dense(512, activation='relu'),\n",
    "                                    tf.keras.layers.Dense(26, activation='softmax')])"
   ]
  },
  {
   "cell_type": "code",
   "execution_count": 11,
   "metadata": {},
   "outputs": [],
   "source": [
    "## Compile Model\n",
    "model.compile(optimizer=RMSprop(lr=0.001), loss='sparse_categorical_crossentropy', metrics=['acc'])"
   ]
  },
  {
   "cell_type": "code",
   "execution_count": 12,
   "metadata": {},
   "outputs": [],
   "source": [
    "## Define Callback\n",
    "class myCallback(tf.keras.callbacks.Callback):\n",
    "    def on_epoch_end(self, epochs, logs={}):\n",
    "        if (logs.get('acc') > 0.99):\n",
    "            print (\"\\nAccuracy reached 99%. Stopping operations.\")\n",
    "            self.model.stop_training = True\n",
    "callback = myCallback()"
   ]
  },
  {
   "cell_type": "code",
   "execution_count": 13,
   "metadata": {},
   "outputs": [
    {
     "name": "stdout",
     "output_type": "stream",
     "text": [
      "Epoch 1/2\n",
      "225/225 [==============================] - 18s 82ms/step - loss: 1.4636 - acc: 0.5208\n",
      "858/858 [==============================] - 215s 251ms/step - loss: 2.5873 - acc: 0.2123 - val_loss: 1.4636 - val_acc: 0.5208\n",
      "Epoch 2/2\n",
      "225/225 [==============================] - 19s 86ms/step - loss: 0.9840 - acc: 0.6562\n",
      "858/858 [==============================] - 222s 259ms/step - loss: 1.5880 - acc: 0.4901 - val_loss: 0.9840 - val_acc: 0.6562\n"
     ]
    }
   ],
   "source": [
    "## Train Model\n",
    "history = model.fit_generator(train_gen.flow(train_data, train_labels, batch_size=128),\n",
    "                              epochs=EPOCHS,\n",
    "                              validation_data=val_gen.flow(test_data, test_labels, batch_size=128),\n",
    "                              callbacks=[callback],\n",
    "                              verbose=1)"
   ]
  },
  {
   "cell_type": "code",
   "execution_count": 16,
   "metadata": {},
   "outputs": [
    {
     "data": {
      "image/png": "[encoded data removed]",
      "text/plain": [
       "<Figure size 432x288 with 1 Axes>"
      ]
     },
     "metadata": {
      "needs_background": "light"
     },
     "output_type": "display_data"
    }
   ],
   "source": [
    "## Plot Loss and Accuracy\n",
    "train_acc = history.history['acc']\n",
    "val_acc = history.history['val_acc']\n",
    "train_loss = history.history['loss']\n",
    "val_loss = history.history['val_loss']\n",
    "\n",
    "epochs = range(len(train_acc))\n",
    "\n",
    "plt.figure\n",
    "plt.plot(epochs, train_acc, 'r', label='train_acc')\n",
    "plt.plot(epochs, val_acc, 'b', label='val_acc')\n",
    "plt.title('Train and Val accuracies')\n",
    "plt.xlabel('Epochs')\n",
    "plt.ylabel('Accuracies')\n",
    "plt.legend\n",
    "plt.figure\n",
    "\n",
    "plt.plot(epochs, train_loss, 'r', label='train_loss')\n",
    "plt.plot(epochs, val_loss, 'b', label='val_loss')\n",
    "plt.title('Train and Val losses')\n",
    "plt.xlabel('Epochs')\n",
    "plt.ylabel('Accuracies')\n",
    "plt.legend\n",
    "\n",
    "plt.show()"
   ]
  },
  {
   "cell_type": "code",
   "execution_count": 17,
   "metadata": {},
   "outputs": [
    {
     "name": "stdout",
     "output_type": "stream",
     "text": [
      "7172/7172 [==============================] - 18s 2ms/sample - loss: 7.6315 - acc: 0.5197\n"
     ]
    },
    {
     "data": {
      "text/plain": [
       "[7.631528957556295, 0.5196598]"
      ]
     },
     "execution_count": 17,
     "metadata": {},
     "output_type": "execute_result"
    }
   ],
   "source": [
    "## Evaluate Model\n",
    "model.evaluate(test_data, test_labels)"
   ]
  },
  {
   "cell_type": "code",
   "execution_count": null,
   "metadata": {},
   "outputs": [],
   "source": []
  }
 ],
 "metadata": {
  "kernelspec": {
   "display_name": "Python 3",
   "language": "python",
   "name": "python3"
  },
  "language_info": {
   "codemirror_mode": {
    "name": "ipython",
    "version": 3
   },
   "file_extension": ".py",
   "mimetype": "text/x-python",
   "name": "python",
   "nbconvert_exporter": "python",
   "pygments_lexer": "ipython3",
   "version": "3.7.3"
  }
 },
 "nbformat": 4,
 "nbformat_minor": 2
}
