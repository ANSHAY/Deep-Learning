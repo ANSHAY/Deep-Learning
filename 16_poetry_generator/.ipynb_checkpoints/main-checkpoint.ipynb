{
 "cells": [
  {
   "cell_type": "markdown",
   "metadata": {},
   "source": [
    "# Poetry Generator"
   ]
  },
  {
   "cell_type": "markdown",
   "metadata": {},
   "source": [
    "## Import Libraries"
   ]
  },
  {
   "cell_type": "code",
   "execution_count": 1,
   "metadata": {},
   "outputs": [],
   "source": [
    "import tensorflow as tf\n",
    "import numpy as np\n",
    "import matplotlib.pyplot as plt\n",
    "import random\n",
    "\n",
    "from tensorflow.keras.preprocessing.text import Tokenizer\n",
    "from tensorflow.keras.preprocessing.sequence import pad_sequences"
   ]
  },
  {
   "cell_type": "markdown",
   "metadata": {},
   "source": [
    "## Define Parameters"
   ]
  },
  {
   "cell_type": "code",
   "execution_count": 2,
   "metadata": {},
   "outputs": [],
   "source": [
    "filepath = \"poetry_laur.txt\"\n",
    "save_file_path = 'predicted_poetry.txt'\n",
    "PADDING = 'pre'\n",
    "TRUNC = 'pre'\n",
    "\n",
    "VOCAB_SIZE = 10000\n",
    "EMB_DIM = 128\n",
    "\n",
    "OPTIMIZER = 'adam'\n",
    "LOSS = 'categorical_crossentropy'\n",
    "METRICS = ['acc']\n",
    "EPOCHS = 500\n",
    "BATCH_SIZE = 128\n",
    "VAL_SPLIT = 0.1\n",
    "\n",
    "SEEDER = 'sleep my child'    ## Seeder word to start prediction of poetry\n",
    "NUM_PREDICTIONS = 100\n",
    "\n",
    "model_name = \"model_laur.h5\"\n",
    "\n",
    "data = \"This is some random statement \\n being used as placeholder for the actual data that is to be \\n imported later from a file.\""
   ]
  },
  {
   "cell_type": "markdown",
   "metadata": {},
   "source": [
    "## Load Data"
   ]
  },
  {
   "cell_type": "code",
   "execution_count": 3,
   "metadata": {},
   "outputs": [
    {
     "name": "stdout",
     "output_type": "stream",
     "text": [
      "1693\n",
      "and you that are blooming in your prime \n",
      "\n",
      "41\n"
     ]
    }
   ],
   "source": [
    "with open(filepath) as f:\n",
    "    data = f.read()\n",
    "    f.close()\n",
    "data = data.replace('\\n', ' \\n<>')\n",
    "sentences = data.lower().split('<>')\n",
    "print(len(sentences))\n",
    "print(sentences[1])\n",
    "print(len(sentences[1]))"
   ]
  },
  {
   "cell_type": "markdown",
   "metadata": {},
   "source": [
    "## Tokenize Data"
   ]
  },
  {
   "cell_type": "code",
   "execution_count": 4,
   "metadata": {},
   "outputs": [
    {
     "name": "stdout",
     "output_type": "stream",
     "text": [
      "2691\n",
      "1\n"
     ]
    }
   ],
   "source": [
    "tokenizer = Tokenizer(filters='!\"#$%&()*+,-./:;<=>?@[\\\\]^_`{|}~\\t')\n",
    "tokenizer.fit_on_texts(sentences)\n",
    "word_index = tokenizer.word_index\n",
    "total_words = len(word_index) + 1\n",
    "print(total_words)\n",
    "print(word_index['\\n'])"
   ]
  },
  {
   "cell_type": "code",
   "execution_count": 5,
   "metadata": {},
   "outputs": [
    {
     "name": "stdout",
     "output_type": "stream",
     "text": [
      "{1: '\\n', 2: 'the', 3: 'and', 4: 'i', 5: 'to', 6: 'a', 7: 'of', 8: 'my', 9: 'in', 10: 'me', 11: 'for', 12: 'you', 13: 'all', 14: 'was', 15: 'she', 16: 'that', 17: 'on', 18: 'with', 19: 'her', 20: 'but', 21: 'as', 22: 'when', 23: 'love', 24: 'is', 25: 'your', 26: 'it', 27: 'will', 28: 'from', 29: 'by', 30: 'they', 31: 'be', 32: 'are', 33: 'so', 34: 'he', 35: 'old', 36: 'no', 37: 'oh', 38: 'ill', 39: 'at', 40: 'one', 41: 'his', 42: 'there', 43: 'were', 44: 'heart', 45: 'down', 46: 'now', 47: 'we', 48: 'where', 49: 'young', 50: 'never', 51: 'go', 52: 'come', 53: 'then', 54: 'did', 55: 'not', 56: 'said', 57: 'away', 58: 'their', 59: 'sweet', 60: 'them', 61: 'green', 62: 'if', 63: 'take', 64: 'our', 65: 'like', 66: 'night', 67: 'day', 68: 'o', 69: 'out', 70: 'fair', 71: 'this', 72: 'town', 73: 'have', 74: 'can', 75: 'true', 76: 'its', 77: 'thou', 78: 'see', 79: 'dear', 80: 'more', 81: 'theres', 82: 'or', 83: 'had', 84: 'would', 85: 'over', 86: 'hear', 87: 'up', 88: 'ive', 89: 'through', 90: 'home', 91: 'again', 92: 'well', 93: 'oer', 94: 'land', 95: 'good', 96: 'im', 97: 'ye', 98: 'sea', 99: 'left', 100: 'still', 101: 'father', 102: 'long', 103: 'rose', 104: 'could', 105: 'morning', 106: 'wild', 107: 'who', 108: 'eyes', 109: 'came', 110: 'while', 111: 'too', 112: 'back', 113: 'little', 114: 'an', 115: 'took', 116: 'him', 117: 'bow', 118: 'first', 119: 'let', 120: 'man', 121: 'shall', 122: 'know', 123: 'get', 124: 'high', 125: 'gone', 126: 'say', 127: 'ever', 128: 'some', 129: 'mary', 130: 'hand', 131: 'till', 132: 'put', 133: 'own', 134: 'time', 135: 'heard', 136: 'dead', 137: 'may', 138: 'bright', 139: 'mountain', 140: 'early', 141: 'rosin', 142: 'gave', 143: 'thee', 144: 'only', 145: 'far', 146: 'maid', 147: 'must', 148: 'find', 149: 'girl', 150: 'sure', 151: 'round', 152: 'dublin', 153: 'once', 154: 'world', 155: 'delight', 156: 'last', 157: 'johnny', 158: 'seen', 159: 'has', 160: 'fine', 161: 'road', 162: 'mother', 163: 'tis', 164: 'what', 165: 'way', 166: 'moon', 167: 'soul', 168: 'neer', 169: 'id', 170: 'just', 171: 'thats', 172: 'days', 173: 'darling', 174: 'went', 175: 'white', 176: 'die', 177: 'than', 178: 'hair', 179: 'goes', 180: 'meet', 181: 'today', 182: 'do', 183: 'girls', 184: 'shes', 185: 'thyme', 186: 'thy', 187: 'sing', 188: 'pretty', 189: 'new', 190: 'poor', 191: 'into', 192: 'life', 193: 'irish', 194: 'give', 195: 'boy', 196: 'youre', 197: 'make', 198: 'passed', 199: 'lovely', 200: 'black', 201: 'youll', 202: 'died', 203: 'red', 204: 'smile', 205: 'keep', 206: 'loves', 207: 'free', 208: 'leave', 209: 'friends', 210: 'each', 211: 'saw', 212: 'behind', 213: 'song', 214: 'ra', 215: 'dont', 216: 'arms', 217: 'am', 218: 'sun', 219: 'saying', 220: 'made', 221: 'wish', 222: 'cold', 223: 'met', 224: 'before', 225: 'should', 226: 'rocky', 227: 'light', 228: 'wid', 229: 'boys', 230: 'best', 231: 'fields', 232: 'since', 233: 'ball', 234: 'water', 235: 'casey', 236: 'mind', 237: 'along', 238: 'loved', 239: 'place', 240: 'ireland', 241: 'next', 242: 'three', 243: 'many', 244: 'years', 245: 'door', 246: 'us', 247: 'drink', 248: 'got', 249: 'might', 250: 'live', 251: 'roses', 252: 'play', 253: 'soon', 254: 'ground', 255: 'times', 256: 'spent', 257: 'going', 258: 'tree', 259: 'barley', 260: 'grass', 261: 'kind', 262: 'twas', 263: 'bridge', 264: 'around', 265: 'blue', 266: 'tell', 267: 'row', 268: 'how', 269: 'money', 270: 'merry', 271: 'stepped', 272: 'corporal', 273: 'always', 274: 'though', 275: 'near', 276: 'taken', 277: 'ones', 278: 'daughter', 279: 'forever', 280: 'loo', 281: 'shining', 282: 'plenty', 283: 'hes', 284: 'ship', 285: 'banks', 286: 'think', 287: 'very', 288: 'stand', 289: 'heres', 290: 'snow', 291: 'mountains', 292: 'molly', 293: 'wheel', 294: 'street', 295: 'erin', 296: 'side', 297: 'feet', 298: 'star', 299: 'look', 300: 'brave', 301: 'woman', 302: 'sons', 303: 'two', 304: 'says', 305: 'asked', 306: 'lanigans', 307: 'singing', 308: 'men', 309: 'toome', 310: 'stole', 311: 'god', 312: 'hill', 313: 'lonely', 314: 'lover', 315: 'tears', 316: 'fathers', 317: 'low', 318: 'voice', 319: 'quite', 320: 'able', 321: 'nice', 322: 'laid', 323: 'comrades', 324: 'wind', 325: 'another', 326: 'sit', 327: 'face', 328: 'band', 329: 'call', 330: 'colleen', 331: 'until', 332: 'hills', 333: 'mine', 334: 'above', 335: 'upon', 336: 'eer', 337: 'youve', 338: 'fly', 339: 'been', 340: 'late', 341: 'alive', 342: 'ballyjamesduff', 343: 'looked', 344: 'great', 345: 'why', 346: 'every', 347: 'proud', 348: 'found', 349: 'bragh', 350: 'such', 351: 'birds', 352: 'wedding', 353: 'welcome', 354: 'dancing', 355: 'da', 356: 'fell', 357: 'thinking', 358: 'roddy', 359: 'mccorley', 360: 'smiling', 361: 'mallow', 362: 'blooming', 363: 'thought', 364: 'peace', 365: 'soft', 366: 'pure', 367: 'harp', 368: 'dream', 369: 'alas', 370: 'yet', 371: 'clear', 372: 'art', 373: 'off', 374: 'hope', 375: 'fought', 376: 'mothers', 377: 'shore', 378: 'ago', 379: 'fol', 380: 'de', 381: 'house', 382: 'married', 383: 'bound', 384: 'danced', 385: 'devil', 386: 'dawning', 387: 'makes', 388: 'same', 389: 'sat', 390: 'any', 391: 'glass', 392: 'gay', 393: 'relations', 394: 'evening', 395: 'watched', 396: 'right', 397: 'fellows', 398: 'whiskey', 399: 'bonnie', 400: 'grows', 401: 'women', 402: 'flowers', 403: 'beauty', 404: 'cannot', 405: 'handsome', 406: 'happy', 407: 'gold', 408: 'rover', 409: 'none', 410: 'doneen', 411: 'summers', 412: 'people', 413: 'set', 414: 'paddy', 415: 'morn', 416: 'most', 417: 'easy', 418: 'struck', 419: 'beautiful', 420: 'those', 421: 'golden', 422: 'run', 423: 'pipes', 424: 'glen', 425: 'dying', 426: 'here', 427: 'wall', 428: 'across', 429: 'fire', 430: 'eileen', 431: 'longer', 432: 'cheeks', 433: 'valley', 434: 'both', 435: 'dew', 436: 'care', 437: 'bride', 438: 'nothing', 439: 'wont', 440: 'theyre', 441: 'colonel', 442: 'maiden', 443: 'shed', 444: 'til', 445: 'brown', 446: 'breast', 447: 'corn', 448: 'sinking', 449: 'began', 450: 'name', 451: 'cruel', 452: 'sound', 453: 'spancil', 454: 'county', 455: 'lies', 456: 'color', 457: 'thing', 458: 'decay', 459: 'sleep', 460: 'hours', 461: 'loving', 462: 'weary', 463: 'ringing', 464: 'please', 465: 'forget', 466: 'lie', 467: 'ran', 468: 'tore', 469: 'country', 470: 'fear', 471: 'fortune', 472: 'kissed', 473: 'alone', 474: 'ould', 475: 'cry', 476: 'dreams', 477: 'used', 478: 'horse', 479: 'break', 480: 'bells', 481: 'didnt', 482: 'weeks', 483: 'without', 484: 'raw', 485: 'nor', 486: 'twenty', 487: 'tune', 488: 'hed', 489: 'roving', 490: 'leaves', 491: 'cant', 492: 'death', 493: 'ten', 494: 'prison', 495: 'judge', 496: 'against', 497: 'lads', 498: 'shell', 499: 'fill', 500: 'valleys', 501: 'other', 502: 'pale', 503: 'joy', 504: 'wide', 505: 'bring', 506: 'ah', 507: 'cliffs', 508: 'city', 509: 'end', 510: 'turn', 511: 'sky', 512: 'born', 513: 'knew', 514: 'smiled', 515: 'rosie', 516: 'comes', 517: 'sayin', 518: 'lord', 519: 'dungannon', 520: 'blood', 521: 'air', 522: 'danny', 523: 'calling', 524: 'sunshine', 525: 'spring', 526: 'bid', 527: 'grow', 528: 'truth', 529: 'tear', 530: 'rings', 531: 'guns', 532: 'bay', 533: 'oflynn', 534: 'och', 535: 'stick', 536: 'rest', 537: 'four', 538: 'jewel', 539: 'tried', 540: 'grief', 541: 'answer', 542: 'kathleen', 543: 'fond', 544: 'eye', 545: 'goin', 546: 'pistols', 547: 'musha', 548: 'whack', 549: 'creole', 550: 'together', 551: 'room', 552: 'fall', 553: 'swore', 554: 'being', 555: 'step', 556: 'lark', 557: 'cailã\\xadn', 558: 'deas', 559: 'crãºite', 560: 'na', 561: 'mbã³', 562: 'sir', 563: 'isle', 564: 'waiting', 565: 'magic', 566: 'skibbereen', 567: 'loud', 568: 'raise', 569: 'bent', 570: 'aged', 571: 'summer', 572: 'jenny', 573: 'excise', 574: 'rigadoo', 575: 'auld', 576: 'hearts', 577: 'nay', 578: 'stool', 579: 'farrell', 580: 'garden', 581: 'precious', 582: 'child', 583: 'slumber', 584: 'sleeping', 585: 'watch', 586: 'gently', 587: 'minstrel', 588: 'praise', 589: 'bell', 590: 'shaken', 591: 'immortal', 592: 'pray', 593: 'stay', 594: 'spoke', 595: 'cross', 596: 'brothers', 597: 'much', 598: 'past', 599: 'killarney', 600: 'sang', 601: 'tones', 602: 'ral', 603: 'wander', 604: 'cot', 605: 'feel', 606: 'yore', 607: 'answered', 608: 'divil', 609: 'middle', 610: 'bit', 611: 'led', 612: 'soldiers', 613: 'lily', 614: 'bed', 615: 'lassie', 616: 'clothes', 617: 'return', 618: 'broken', 619: 'derry', 620: 'sighed', 621: 'english', 622: 'tomorrow', 623: 'souls', 624: 'van', 625: 'diemans', 626: 'law', 627: 'neither', 628: 'winds', 629: 'rather', 630: 'doesnt', 631: 'rosy', 632: 'neatest', 633: 'hands', 634: 'whereon', 635: 'stands', 636: 'write', 637: 'thousand', 638: 'fare', 639: 'youd', 640: 'velvet', 641: 'neat', 642: 'landed', 643: 'health', 644: 'kellswater', 645: 'quiet', 646: 'stars', 647: 'beside', 648: 'warm', 649: 'sunday', 650: 'grey', 651: 'ocean', 652: 'sad', 653: 'spend', 654: 'kilkenny', 655: 'silver', 656: 'view', 657: 'west', 658: 'plain', 659: 'barrow', 660: 'broad', 661: 'narrow', 662: 'crying', 663: 'wonder', 664: 'save', 665: 'stop', 666: 'tender', 667: 'told', 668: 'lip', 669: 'dance', 670: 'foot', 671: 'kilrain', 672: 'saint', 673: 'visit', 674: 'mossy', 675: 'wexford', 676: 'irishmen', 677: 'shadow', 678: 'tho', 679: 'salley', 680: 'gardens', 681: 'foolish', 682: 'youth', 683: 'fade', 684: 'war', 685: 'believe', 686: 'which', 687: 'change', 688: 'entwine', 689: 'turns', 690: 'turned', 691: 'crown', 692: 'played', 693: 'captain', 694: 'blow', 695: 'children', 696: 'slainte', 697: 'gentle', 698: 'heavens', 699: 'bloom', 700: 'grand', 701: 'bush', 702: 'nest', 703: 'rich', 704: 'parting', 705: 'better', 706: 'window', 707: 'haste', 708: 'fresh', 709: 'stream', 710: 'rays', 711: 'ma', 712: 'ring', 713: 'lad', 714: 'athy', 715: 'drop', 716: 'hardly', 717: 'done', 718: 'arm', 719: 'leg', 720: 'beg', 721: 'drew', 722: 'bold', 723: 'drawn', 724: 'jail', 725: 'writin', 726: 'farewell', 727: 'tired', 728: 'lake', 729: 'want', 730: 'ringlets', 731: 'myself', 732: 'songs', 733: 'reel', 734: 'steps', 735: 'hearty', 736: 'fainted', 737: 'called', 738: 'under', 739: 'toe', 740: 'mairi', 741: 'fairest', 742: 'darlin', 743: 'bird', 744: 'memory', 745: 'lips', 746: 'sweetly', 747: 'morrow', 748: 'consent', 749: 'else', 750: 'sold', 751: 'stout', 752: 'pair', 753: 'drinking', 754: 'meself', 755: 'fray', 756: 'pike', 757: 'coat', 758: 'beneath', 759: 'rent', 760: 'part', 761: 'half', 762: 'head', 763: 'friend', 764: 'standing', 765: 'floor', 766: 'bare', 767: 'wed', 768: 'son', 769: 'pride', 770: 'vision', 771: 'sword', 772: 'after', 773: 'won', 774: 'farmers', 775: 'flower', 776: 'nut', 777: 'surely', 778: 'stood', 779: 'wandered', 780: 'athenry', 781: 'rising', 782: 'beating', 783: 'form', 784: 'dhu', 785: 'buy', 786: 'laughter', 787: 'wear', 788: 'raking', 789: 'rakes', 790: 'claret', 791: 'shure', 792: 'tralee', 793: 'slower', 794: 'lower', 795: 'deep', 796: 'wearin', 797: 'duram', 798: 'takes', 799: 'beware', 800: 'steal', 801: 'brings', 802: 'things', 803: 'joys', 804: 'bunch', 805: 'sailor', 806: 'chanced', 807: 'pass', 808: 'angels', 809: 'send', 810: 'drowsy', 811: 'keeping', 812: 'spirit', 813: 'stealing', 814: 'feeling', 815: 'roam', 816: 'presence', 817: 'heavenward', 818: 'dust', 819: 'dim', 820: 'journey', 821: 'waves', 822: 'frightened', 823: 'leaving', 824: 'struggle', 825: 'parents', 826: 'courage', 827: 'weeping', 828: 'pain', 829: 'mist', 830: 'felt', 831: 'roared', 832: 'making', 833: 'fever', 834: 'moment', 835: 'distance', 836: 'wailing', 837: 'oft', 838: 'held', 839: 'fast', 840: 'cabin', 841: 'honey', 842: 'diddle', 843: 'clearly', 844: 'open', 845: 'opened', 846: 'table', 847: 'wine', 848: 'lay', 849: 'shells', 850: 'sailed', 851: 'drown', 852: 'fetters', 853: 'chains', 854: 'wives', 855: 'sorrow', 856: 'thoughts', 857: 'cursed', 858: 'hell', 859: 'five', 860: 'buried', 861: 'lost', 862: 'endless', 863: 'slavery', 864: 'gun', 865: 'rain', 866: 'cares', 867: 'ghosts', 868: 'runaway', 869: 'twill', 870: 'month', 871: 'meadows', 872: 'prettiest', 873: 'winters', 874: 'satisfied', 875: 'few', 876: 'short', 877: 'lines', 878: 'shone', 879: 'shoulder', 880: 'belfast', 881: 'trade', 882: 'bad', 883: 'caused', 884: 'stray', 885: 'meaning', 886: 'damsel', 887: 'appear', 888: 'seven', 889: 'sentence', 890: 'jolly', 891: 'whenever', 892: 'wee', 893: 'wife', 894: 'lives', 895: 'martha', 896: 'courted', 897: 'bridgit', 898: 'omalley', 899: 'desolation', 900: 'thorn', 901: 'gaze', 902: 'stone', 903: 'approaching', 904: 'sets', 905: 'carrigfergus', 906: 'nights', 907: 'swim', 908: 'wings', 909: 'sober', 910: 'travel', 911: 'native', 912: 'places', 913: 'slopes', 914: 'hares', 915: 'lofty', 916: 'malone', 917: 'wheeled', 918: 'streets', 919: 'enough', 920: 'reilly', 921: 'tough', 922: 'whispers', 923: 'phil', 924: 'threw', 925: 'straight', 926: 'belles', 927: 'moor', 928: 'brand', 929: 'shapes', 930: 'work', 931: 'vow', 932: 'blarney', 933: 'paid', 934: 'bower', 935: 'remain', 936: 'charming', 937: 'storied', 938: 'chieftains', 939: 'slaughter', 940: 'bann', 941: 'boyne', 942: 'liffey', 943: 'gallant', 944: 'awake', 945: 'greet', 946: 'meadow', 947: 'sweeter', 948: 'dirty', 949: 'cats', 950: 'crossed', 951: 'field', 952: 'river', 953: 'full', 954: 'aroon', 955: 'sends', 956: 'woe', 957: 'chain', 958: 'main', 959: 'charms', 960: 'fondly', 961: 'fleet', 962: 'fairy', 963: 'thine', 964: 'known', 965: 'truly', 966: 'close', 967: 'story', 968: 'flag', 969: 'sweetest', 970: 'honor', 971: 'playing', 972: 'mauser', 973: 'music', 974: 'tom', 975: 'hurrah', 976: 'big', 977: 'lead', 978: 'south', 979: 'generation', 980: 'freedom', 981: 'agin', 982: 'creature', 983: 'dad', 984: 'venture', 985: 'word', 986: 'wonderful', 987: 'crazy', 988: 'lazy', 989: 'grave', 990: 'jest', 991: 'remark', 992: 'strangers', 993: 'strong', 994: 'shook', 995: 'walk', 996: 'north', 997: 'ours', 998: 'cease', 999: 'strife', 1000: 'whats', 1001: 'lilacs', 1002: 'prove', 1003: 'sweetheart', 1004: 'letters', 1005: 'sent', 1006: 'speak', 1007: 'brow', 1008: 'albert', 1009: 'mooney', 1010: 'fighting', 1011: 'fingers', 1012: 'toes', 1013: 'john', 1014: 'hurroo', 1015: 'drums', 1016: 'beguiled', 1017: 'carry', 1018: 'bone', 1019: 'havent', 1020: 'walkin', 1021: 'kilgary', 1022: 'pepper', 1023: 'countin', 1024: 'forth', 1025: 'deliver', 1026: 'daddy', 1027: 'em', 1028: 'deceive', 1029: 'between', 1030: 'even', 1031: 'prisoner', 1032: 'fists', 1033: 'knocked', 1034: 'carriages', 1035: 'rollin', 1036: 'juice', 1037: 'courtin', 1038: 'ponchartrain', 1039: 'does', 1040: 'stranger', 1041: 'marry', 1042: 'adieu', 1043: 'ask', 1044: 'tipped', 1045: 'arrived', 1046: 'ladies', 1047: 'potatoes', 1048: 'courting', 1049: 'miss', 1050: 'small', 1051: 'ned', 1052: 'ribbons', 1053: 'heel', 1054: 'bonny', 1055: 'pipe', 1056: 'thrush', 1057: 'sweethearts', 1058: 'unto', 1059: 'rise', 1060: 'softly', 1061: 'milking', 1062: 'rare', 1063: 'pity', 1064: 'treasure', 1065: 'noon', 1066: 'sailing', 1067: 'banish', 1068: 'riches', 1069: 'comfort', 1070: 'yonder', 1071: 'flows', 1072: 'fairer', 1073: 'lass', 1074: 'woods', 1075: 'strayed', 1076: 'locks', 1077: 'breaking', 1078: 'june', 1079: 'started', 1080: 'hearted', 1081: 'beer', 1082: 'daylight', 1083: 'among', 1084: 'bundle', 1085: 'connaught', 1086: 'quay', 1087: 'erins', 1088: 'galway', 1089: 'fearless', 1090: 'bravely', 1091: 'marches', 1092: 'fate', 1093: 'neck', 1094: 'trod', 1095: 'marched', 1096: 'antrim', 1097: 'sash', 1098: 'flashed', 1099: 'hath', 1100: 'foemans', 1101: 'fight', 1102: 'heavy', 1103: 'bore', 1104: 'mans', 1105: 'counter', 1106: 'dozen', 1107: 'gallon', 1108: 'bottles', 1109: 'diamond', 1110: 'resemble', 1111: 'tiny', 1112: 'friendly', 1113: 'weather', 1114: 'inside', 1115: 'remember', 1116: 'someone', 1117: 'hat', 1118: 'body', 1119: 'dancers', 1120: 'hanging', 1121: 'empty', 1122: 'shoes', 1123: 'broke', 1124: 'december', 1125: 'move', 1126: 'reason', 1127: 'roof', 1128: 'naught', 1129: 'tower', 1130: 'power', 1131: 'king', 1132: 'dreaming', 1133: 'crew', 1134: 'whos', 1135: 'mccann', 1136: 'smoke', 1137: 'notes', 1138: 'yeoman', 1139: 'cavalry', 1140: 'guard', 1141: 'forced', 1142: 'brother', 1143: 'cousin', 1144: 'blame', 1145: 'croppy', 1146: 'dressed', 1147: 'trees', 1148: 'wore', 1149: 'words', 1150: 'swiftly', 1151: 'dawn', 1152: 'lovd', 1153: 'voices', 1154: 'moaning', 1155: 'dark', 1156: 'gather', 1157: 'tay', 1158: 'swinging', 1159: 'drinkin', 1160: 'sitting', 1161: 'stile', 1162: 'springing', 1163: 'yours', 1164: 'kept', 1165: 'aisey', 1166: 'rub', 1167: 'dub', 1168: 'dow', 1169: 'shelah', 1170: 'fairly', 1171: 'beggarman', 1172: 'begging', 1173: 'slept', 1174: 'holes', 1175: 'coming', 1176: 'thru', 1177: 'boo', 1178: 'lady', 1179: 'kerry', 1180: 'pipers', 1181: 'laugh', 1182: 'beaming', 1183: 'guineas', 1184: 'least', 1185: 'diggin', 1186: 'mourne', 1187: 'spending', 1188: 'mellow', 1189: 'plying', 1190: 'slowly', 1191: 'mooncoin', 1192: 'flow', 1193: 'sounds', 1194: 'shine', 1195: 'cool', 1196: 'crystal', 1197: 'fountain', 1198: 'moonlight', 1199: 'grandmother', 1200: 'crooning', 1201: 'merrily', 1202: 'spins', 1203: 'lightly', 1204: 'moving', 1205: 'lattice', 1206: 'grove', 1207: 'swings', 1208: 'finger', 1209: 'shamrock', 1210: 'pocket', 1211: 'springtime', 1212: 'gilgarra', 1213: 'rapier', 1214: 'ringum', 1215: 'mornin', 1216: 'heather', 1217: 'build', 1218: 'maidens', 1219: 'prime', 1220: 'nlyme', 1221: 'flavours', 1222: 'lusty', 1223: 'reminded', 1224: 'attend', 1225: 'guardian', 1226: 'creeping', 1227: 'dale', 1228: 'vigil', 1229: 'visions', 1230: 'revealing', 1231: 'breathes', 1232: 'holy', 1233: 'strains', 1234: 'hover', 1235: 'hark', 1236: 'solemn', 1237: 'winging', 1238: 'earthly', 1239: 'shalt', 1240: 'awaken', 1241: 'destiny', 1242: 'emigrants', 1243: 'amid', 1244: 'longing', 1245: 'parted', 1246: 'townland', 1247: 'vessel', 1248: 'crowded', 1249: 'disquieted', 1250: 'folk', 1251: 'escape', 1252: 'hardship', 1253: 'sustaining', 1254: 'glimpse', 1255: 'faded', 1256: 'strangely', 1257: 'seas', 1258: 'anger', 1259: 'desperate', 1260: 'plight', 1261: 'worsened', 1262: 'delirium', 1263: 'possessed', 1264: 'clouded', 1265: 'prayers', 1266: 'begged', 1267: 'forgiveness', 1268: 'seeking', 1269: 'distant', 1270: 'mither', 1271: 'simple', 1272: 'ditty', 1273: 'ld', 1274: 'li', 1275: 'hush', 1276: 'lullaby', 1277: 'huggin', 1278: 'hummin', 1279: 'rock', 1280: 'asleep', 1281: 'outside', 1282: 'modestly', 1283: 'ry', 1284: 'ay', 1285: 'di', 1286: 're', 1287: 'dai', 1288: 'rie', 1289: 'shc', 1290: 'bridle', 1291: 'stable', 1292: 'oats', 1293: 'eat', 1294: 'soldier', 1295: 'aisy', 1296: 'arose', 1297: 'christmas', 1298: '1803', 1299: 'australia', 1300: 'marks', 1301: 'carried', 1302: 'rusty', 1303: 'iron', 1304: 'wains', 1305: 'mainsails', 1306: 'unfurled', 1307: 'curses', 1308: 'hurled', 1309: 'swell', 1310: 'moth', 1311: 'firelights', 1312: 'horses', 1313: 'rode', 1314: 'taking', 1315: 'hades', 1316: 'twilight', 1317: 'forty', 1318: 'slime', 1319: 'climate', 1320: 'bravery', 1321: 'ended', 1322: 'bond', 1323: 'rebel', 1324: 'iii', 1325: 'violin', 1326: 'clay', 1327: 'sooner', 1328: 'sport', 1329: 'colour', 1330: 'knows', 1331: 'earth', 1332: 'serve', 1333: 'clyde', 1334: 'mourn', 1335: 'weep', 1336: 'suffer', 1337: 'diamonds', 1338: 'queen', 1339: 'hung', 1340: 'tied', 1341: 'apprenticed', 1342: 'happiness', 1343: 'misfortune', 1344: 'follow', 1345: 'strolling', 1346: 'selling', 1347: 'bar', 1348: 'customer', 1349: 'slipped', 1350: 'luck', 1351: 'jury', 1352: 'trial', 1353: 'case', 1354: 'warning', 1355: 'liquor', 1356: 'porter', 1357: 'pleasures', 1358: 'fishing', 1359: 'farming', 1360: 'glens', 1361: 'softest', 1362: 'dripping', 1363: 'snare', 1364: 'lose', 1365: 'court', 1366: 'primrose', 1367: 'bee', 1368: 'hopeless', 1369: 'wonders', 1370: 'admiration', 1371: 'haunt', 1372: 'wherever', 1373: 'sands', 1374: 'purer', 1375: 'within', 1376: 'grieve', 1377: 'drumslieve', 1378: 'ballygrant', 1379: 'deepest', 1380: 'boatsman', 1381: 'ferry', 1382: 'childhood', 1383: 'reflections', 1384: 'boyhood', 1385: 'melting', 1386: 'roaming', 1387: 'reported', 1388: 'marble', 1389: 'stones', 1390: 'ink', 1391: 'support', 1392: 'drunk', 1393: 'seldom', 1394: 'sick', 1395: 'numbered', 1396: 'foam', 1397: 'compare', 1398: 'sights', 1399: 'coast', 1400: 'clare', 1401: 'kilkee', 1402: 'kilrush', 1403: 'watching', 1404: 'pheasants', 1405: 'homes', 1406: 'streams', 1407: 'dublins', 1408: 'cockles', 1409: 'mussels', 1410: 'fish', 1411: 'monger', 1412: 'ghost', 1413: 'wheels', 1414: 'eden', 1415: 'vanished', 1416: 'finea', 1417: 'halfway', 1418: 'cootehill', 1419: 'gruff', 1420: 'whispering', 1421: 'crow', 1422: 'newborn', 1423: 'babies', 1424: 'huff', 1425: 'start', 1426: 'sorrowful', 1427: 'squall', 1428: 'babys', 1429: 'toil', 1430: 'worn', 1431: 'fore', 1432: 'flute', 1433: 'yer', 1434: 'boot', 1435: 'magee', 1436: 'scruff', 1437: 'slanderin', 1438: 'marchin', 1439: 'assisted', 1440: 'drain', 1441: 'dudeen', 1442: 'puff', 1443: 'whisperings', 1444: 'barrin', 1445: 'chocolate', 1446: 'feegee', 1447: 'sort', 1448: 'moonshiny', 1449: 'stuff', 1450: 'addle', 1451: 'brain', 1452: 'ringin', 1453: 'glamour', 1454: 'gas', 1455: 'guff', 1456: 'whisper', 1457: 'oil', 1458: 'remarkable', 1459: 'policeman', 1460: 'bluff', 1461: 'maintain', 1462: 'guril', 1463: 'sic', 1464: 'passage', 1465: 'rough', 1466: 'borne', 1467: 'breeze', 1468: 'boundless', 1469: 'stupendous', 1470: 'roll', 1471: 'thundering', 1472: 'motion', 1473: 'mermaids', 1474: 'fierce', 1475: 'tempest', 1476: 'gathers', 1477: 'oneill', 1478: 'odonnell', 1479: 'lucan', 1480: 'oconnell', 1481: 'brian', 1482: 'drove', 1483: 'danes', 1484: 'patrick', 1485: 'vermin', 1486: 'whose', 1487: 'benburb', 1488: 'blackwater', 1489: 'owen', 1490: 'roe', 1491: 'munroe', 1492: 'lambs', 1493: 'skip', 1494: 'views', 1495: 'enchanting', 1496: 'rostrevor', 1497: 'groves', 1498: 'lakes', 1499: 'ride', 1500: 'tide', 1501: 'majestic', 1502: 'shannon', 1503: 'sail', 1504: 'loch', 1505: 'neagh', 1506: 'ross', 1507: 'gorey', 1508: 'saxon', 1509: 'tory', 1510: 'soil', 1511: 'sanctified', 1512: 'enemies', 1513: 'links', 1514: 'encumbered', 1515: 'resound', 1516: 'hosannahs', 1517: 'bide', 1518: 'hushed', 1519: 'lying', 1520: 'kneel', 1521: 'ave', 1522: 'tread', 1523: 'fail', 1524: 'simply', 1525: 'gasworks', 1526: 'croft', 1527: 'dreamed', 1528: 'canal', 1529: 'factory', 1530: 'clouds', 1531: 'drifting', 1532: 'prowling', 1533: 'beat', 1534: 'springs', 1535: 'siren', 1536: 'docks', 1537: 'train', 1538: 'smelled', 1539: 'smokey', 1540: 'sharp', 1541: 'axe', 1542: 'steel', 1543: 'tempered', 1544: 'chop', 1545: 't', 1546: 'agree', 1547: 'leaning', 1548: 'weirs', 1549: 'ray', 1550: 'glow', 1551: 'changeless', 1552: 'constant', 1553: 'bounding', 1554: 'castles', 1555: 'sacked', 1556: 'scattered', 1557: 'fixed', 1558: 'endearing', 1559: 'gifts', 1560: 'fading', 1561: 'wouldst', 1562: 'adored', 1563: 'loveliness', 1564: 'ruin', 1565: 'itself', 1566: 'verdantly', 1567: 'unprofaned', 1568: 'fervor', 1569: 'faith', 1570: 'forgets', 1571: 'sunflower', 1572: 'rag', 1573: 'games', 1574: 'hold', 1575: 'defend', 1576: 'veteran', 1577: 'volunteers', 1578: 'pat', 1579: 'pearse', 1580: 'clark', 1581: 'macdonagh', 1582: 'macdiarmada', 1583: 'mcbryde', 1584: 'james', 1585: 'connolly', 1586: 'placed', 1587: 'machine', 1588: 'ranting', 1589: 'hour', 1590: 'bullet', 1591: 'stuck', 1592: 'craw', 1593: 'poisoning', 1594: 'ceannt', 1595: 'lions', 1596: 'union', 1597: 'poured', 1598: 'dismay', 1599: 'horror', 1600: 'englishmen', 1601: 'khaki', 1602: 'renown', 1603: 'fame', 1604: 'forefathers', 1605: 'blaze', 1606: 'priests', 1607: 'offer', 1608: 'charmin', 1609: 'variety', 1610: 'renownd', 1611: 'learnin', 1612: 'piety', 1613: 'advance', 1614: 'widout', 1615: 'impropriety', 1616: 'flowr', 1617: 'cho', 1618: 'powrfulest', 1619: 'preacher', 1620: 'tenderest', 1621: 'teacher', 1622: 'kindliest', 1623: 'donegal', 1624: 'talk', 1625: 'provost', 1626: 'trinity', 1627: 'famous', 1628: 'greek', 1629: 'latinity', 1630: 'divils', 1631: 'divinity', 1632: 'd', 1633: 'likes', 1634: 'logic', 1635: 'mythology', 1636: 'thayology', 1637: 'conchology', 1638: 'sinners', 1639: 'wishful', 1640: 'childer', 1641: 'avick', 1642: 'gad', 1643: 'flock', 1644: 'grandest', 1645: 'control', 1646: 'checking', 1647: 'coaxin', 1648: 'onaisy', 1649: 'lifting', 1650: 'avoidin', 1651: 'frivolity', 1652: 'seasons', 1653: 'innocent', 1654: 'jollity', 1655: 'playboy', 1656: 'claim', 1657: 'equality', 1658: 'comicality', 1659: 'bishop', 1660: 'lave', 1661: 'gaiety', 1662: 'laity', 1663: 'clergy', 1664: 'jewels', 1665: 'plundering', 1666: 'pillage', 1667: 'starved', 1668: 'cries', 1669: 'thems', 1670: 'bondage', 1671: 'fourth', 1672: 'tabhair', 1673: 'dom', 1674: 'lã¡mh', 1675: 'harmony', 1676: 'east', 1677: 'destroy', 1678: 'command', 1679: 'gesture', 1680: 'troubles', 1681: 'weak', 1682: 'peoples', 1683: 'creeds', 1684: 'lets', 1685: 'needs', 1686: 'passion', 1687: 'fashion', 1688: 'guide', 1689: 'share', 1690: 'sparkling', 1691: 'meeting', 1692: 'iull', 1693: 'contented', 1694: 'ache', 1695: 'painful', 1696: 'wrote', 1697: 'twisted', 1698: 'twined', 1699: 'cheek', 1700: 'bedim', 1701: 'holds', 1702: 'smiles', 1703: 'scarcely', 1704: 'darkning', 1705: 'beyond', 1706: 'yearn', 1707: 'laughs', 1708: 'humble', 1709: 'brightest', 1710: 'gleam', 1711: 'forgot', 1712: 'pulled', 1713: 'comb', 1714: 'counting', 1715: 'knock', 1716: 'murray', 1717: 'fellow', 1718: 'hail', 1719: 'tumblin', 1720: 'apple', 1721: 'pie', 1722: 'gets', 1723: 'doleful', 1724: 'enemy', 1725: 'nearly', 1726: 'slew', 1727: 'queer', 1728: 'mild', 1729: 'legs', 1730: 'indeed', 1731: 'island', 1732: 'sulloon', 1733: 'flesh', 1734: 'yere', 1735: 'armless', 1736: 'boneless', 1737: 'chickenless', 1738: 'egg', 1739: 'yell', 1740: 'bowl', 1741: 'rolling', 1742: 'swearing', 1743: 'rattled', 1744: 'saber', 1745: 'deceiver', 1746: 'rig', 1747: 'um', 1748: 'du', 1749: 'rum', 1750: 'jar', 1751: 'shinin', 1752: 'coins', 1753: 'promised', 1754: 'vowed', 1755: 'devils', 1756: 'awakened', 1757: 'six', 1758: 'guards', 1759: 'numbers', 1760: 'odd', 1761: 'flew', 1762: 'mistaken', 1763: 'mollys', 1764: 'robbing', 1765: 'sentry', 1766: 'sligo', 1767: 'fishin', 1768: 'bowlin', 1769: 'others', 1770: 'railroad', 1771: 'ties', 1772: 'crossings', 1773: 'swamps', 1774: 'elevations', 1775: 'resolved', 1776: 'sunset', 1777: 'higher', 1778: 'win', 1779: 'allegators', 1780: 'wood', 1781: 'treated', 1782: 'shoulders', 1783: 'paint', 1784: 'picture', 1785: 'vain', 1786: 'returned', 1787: 'cottage', 1788: 'sociable', 1789: 'foaming', 1790: 'n', 1791: 'jeremy', 1792: 'lanigan', 1793: 'battered', 1794: 'hadnt', 1795: 'pound', 1796: 'farm', 1797: 'acres', 1798: 'party', 1799: 'listen', 1800: 'glisten', 1801: 'rows', 1802: 'ructions', 1803: 'invitation', 1804: 'minute', 1805: 'bees', 1806: 'cask', 1807: 'judy', 1808: 'odaly', 1809: 'milliner', 1810: 'wink', 1811: 'peggy', 1812: 'mcgilligan', 1813: 'lashings', 1814: 'punch', 1815: 'cakes', 1816: 'bacon', 1817: 'tea', 1818: 'nolans', 1819: 'dolans', 1820: 'ogradys', 1821: 'sounded', 1822: 'taras', 1823: 'hall', 1824: 'nelly', 1825: 'gray', 1826: 'rat', 1827: 'catchers', 1828: 'doing', 1829: 'kinds', 1830: 'nonsensical', 1831: 'polkas', 1832: 'whirligig', 1833: 'julia', 1834: 'banished', 1835: 'nonsense', 1836: 'twist', 1837: 'jig', 1838: 'mavrone', 1839: 'mad', 1840: 'ceiling', 1841: 'brooks', 1842: 'academy', 1843: 'learning', 1844: 'learn', 1845: 'couples', 1846: 'groups', 1847: 'accident', 1848: 'happened', 1849: 'terrance', 1850: 'mccarthy', 1851: 'finnertys', 1852: 'hoops', 1853: 'cried', 1854: 'meelia', 1855: 'murther', 1856: 'gathered', 1857: 'carmody', 1858: 'further', 1859: 'satisfaction', 1860: 'midst', 1861: 'kerrigan', 1862: 'declared', 1863: 'painted', 1864: 'suppose', 1865: 'morgan', 1866: 'powerful', 1867: 'stretched', 1868: 'smashed', 1869: 'chaneys', 1870: 'runctions', 1871: 'lick', 1872: 'phelim', 1873: 'mchugh', 1874: 'replied', 1875: 'introduction', 1876: 'kicked', 1877: 'terrible', 1878: 'hullabaloo', 1879: 'piper', 1880: 'strangled', 1881: 'squeezed', 1882: 'bellows', 1883: 'chanters', 1884: 'entangled', 1885: 'gaily', 1886: 'mairis', 1887: 'hillways', 1888: 'myrtle', 1889: 'bracken', 1890: 'sheilings', 1891: 'sake', 1892: 'rowans', 1893: 'herring', 1894: 'meal', 1895: 'peat', 1896: 'creel', 1897: 'bairns', 1898: 'weel', 1899: 'toast', 1900: 'soar', 1901: 'blackbird', 1902: 'note', 1903: 'linnet', 1904: 'lure', 1905: 'cozy', 1906: 'catch', 1907: 'company', 1908: 'harm', 1909: 'wit', 1910: 'recall', 1911: 'leisure', 1912: 'awhile', 1913: 'sorely', 1914: 'ruby', 1915: 'enthralled', 1916: 'sorry', 1917: 'theyd', 1918: 'falls', 1919: 'lot', 1920: 'tuned', 1921: 'bough', 1922: 'cow', 1923: 'chanting', 1924: 'melodious', 1925: 'scarce', 1926: 'soothed', 1927: 'solace', 1928: 'courtesy', 1929: 'salute', 1930: 'amiable', 1931: 'captive', 1932: 'slave', 1933: 'future', 1934: 'banter', 1935: 'enamour', 1936: 'indies', 1937: 'afford', 1938: 'transparently', 1939: 'flame', 1940: 'add', 1941: 'fuel', 1942: 'grant', 1943: 'desire', 1944: 'expire', 1945: 'wealth', 1946: 'damer', 1947: 'african', 1948: 'devonshire', 1949: 'lamp', 1950: 'alladin', 1951: 'genie', 1952: 'also', 1953: 'withdraw', 1954: 'tease', 1955: 'single', 1956: 'airy', 1957: 'embarrass', 1958: 'besides', 1959: 'almanack', 1960: 'useless', 1961: 'date', 1962: 'ware', 1963: 'rate', 1964: 'fragrance', 1965: 'loses', 1966: 'consumed', 1967: 'october', 1968: 'knowing', 1969: 'steer', 1970: 'blast', 1971: 'danger', 1972: 'farthing', 1973: 'affection', 1974: 'enjoy', 1975: 'choose', 1976: 'killarneys', 1977: 'sister', 1978: 'pains', 1979: 'loss', 1980: 'tuam', 1981: 'saluted', 1982: 'drank', 1983: 'pint', 1984: 'smother', 1985: 'reap', 1986: 'cut', 1987: 'goblins', 1988: 'bought', 1989: 'brogues', 1990: 'rattling', 1991: 'bogs', 1992: 'frightning', 1993: 'dogs', 1994: 'hunt', 1995: 'hare', 1996: 'follol', 1997: 'rah', 1998: 'mullingar', 1999: 'rested', 2000: 'limbs', 2001: 'blithe', 2002: 'heartfrom', 2003: 'paddys', 2004: 'cure', 2005: 'lassies', 2006: 'laughing', 2007: 'curious', 2008: 'style', 2009: 'twould', 2010: 'bubblin', 2011: 'hired', 2012: 'wages', 2013: 'required', 2014: 'almost', 2015: 'deprived', 2016: 'stroll', 2017: 'quality', 2018: 'locality', 2019: 'something', 2020: 'wobblin', 2021: 'enquiring', 2022: 'rogue', 2023: 'brogue', 2024: 'wasnt', 2025: 'vogue', 2026: 'spirits', 2027: 'falling', 2028: 'jumped', 2029: 'aboard', 2030: 'pigs', 2031: 'rigs', 2032: 'jigs', 2033: 'bubbling', 2034: 'holyhead', 2035: 'wished', 2036: 'instead', 2037: 'bouys', 2038: 'liverpool', 2039: 'safely', 2040: 'fool', 2041: 'boil', 2042: 'temper', 2043: 'losing', 2044: 'abusing', 2045: 'shillelagh', 2046: 'nigh', 2047: 'hobble', 2048: 'load', 2049: 'hurray', 2050: 'joined', 2051: 'affray', 2052: 'quitely', 2053: 'cleared', 2054: 'host', 2055: 'march', 2056: 'faces', 2057: 'farmstead', 2058: 'fishers', 2059: 'ban', 2060: 'vengeance', 2061: 'hapless', 2062: 'about', 2063: 'hemp', 2064: 'rope', 2065: 'clung', 2066: 'grim', 2067: 'array', 2068: 'earnest', 2069: 'stalwart', 2070: 'stainless', 2071: 'banner', 2072: 'marching', 2073: 'torn', 2074: 'furious', 2075: 'odds', 2076: 'keen', 2077: 'toomebridge', 2078: 'treads', 2079: 'upwards', 2080: 'traveled', 2081: 'quarters', 2082: 'below', 2083: 'hogshead', 2084: 'stack', 2085: 'stagger', 2086: 'dig', 2087: 'hole', 2088: 'couple', 2089: 'scratch', 2090: 'consolation', 2091: 'tyrant', 2092: 'remorseless', 2093: 'foe', 2094: 'lift', 2095: 'stranded', 2096: 'prince', 2097: 'edward', 2098: 'coffee', 2099: 'trace', 2100: 'fiddlin', 2101: 'dime', 2102: 'shy', 2103: 'hello', 2104: 'wintry', 2105: 'yellow', 2106: 'somewhere', 2107: 'written', 2108: 'begin', 2109: 'tap', 2110: 'caught', 2111: 'leap', 2112: 'clumsy', 2113: 'graceful', 2114: 'fiddlers', 2115: 'everywhere', 2116: 'boots', 2117: 'laughtcr', 2118: 'suits', 2119: 'easter', 2120: 'gowns', 2121: 'sailors', 2122: 'pianos', 2123: 'setting', 2124: 'someones', 2125: 'hats', 2126: 'rack', 2127: 'chair', 2128: 'wooden', 2129: 'feels', 2130: 'touch', 2131: 'awaitin', 2132: 'thc', 2133: 'fiddles', 2134: 'closet', 2135: 'strings', 2136: 'tbe', 2137: 'covers', 2138: 'buttoned', 2139: 'sometimes', 2140: 'melody', 2141: 'passes', 2142: 'slight', 2143: 'lack', 2144: 'moved', 2145: 'homeward', 2146: 'swan', 2147: 'moves', 2148: 'goods', 2149: 'gear', 2150: 'din', 2151: 'rude', 2152: 'wherein', 2153: 'dwell', 2154: 'abandon', 2155: 'energy', 2156: 'blight', 2157: 'praties', 2158: 'sheep', 2159: 'cattle', 2160: 'taxes', 2161: 'unpaid', 2162: 'redeem', 2163: 'bleak', 2164: 'landlord', 2165: 'sheriff', 2166: 'spleen', 2167: 'heaved', 2168: 'sigh', 2169: 'bade', 2170: 'goodbye', 2171: 'stony', 2172: 'anguish', 2173: 'seeing', 2174: 'feeble', 2175: 'frame', 2176: 'wrapped', 2177: 'cï¿½ta', 2178: 'mï¿½r', 2179: 'unseen', 2180: 'stern', 2181: 'rally', 2182: 'cheer', 2183: 'revenge', 2184: 'waking', 2185: 'wisdom', 2186: 'dwelling', 2187: 'battleshield', 2188: 'dignity', 2189: 'shelter', 2190: 'heed', 2191: 'inheritance', 2192: 'heavem', 2193: 'heaven', 2194: 'victory', 2195: 'reach', 2196: 'whatever', 2197: 'befall', 2198: 'ruler', 2199: 'pleasant', 2200: 'rambling', 2201: 'board', 2202: 'followed', 2203: 'shortly', 2204: 'anchor', 2205: '23rd', 2206: 'lrelands', 2207: 'daughters', 2208: 'crowds', 2209: 'assembled', 2210: 'fulfill', 2211: 'jovial', 2212: 'conversations', 2213: 'neighbors', 2214: 'turning', 2215: 'tailor', 2216: 'quigley', 2217: 'bould', 2218: 'britches', 2219: 'lived', 2220: 'flying', 2221: 'dove', 2222: 'hiii', 2223: 'dreamt', 2224: 'joking', 2225: 'manys', 2226: 'cock', 2227: 'shrill', 2228: 'awoke', 2229: 'california', 2230: 'miles', 2231: 'banbridge', 2232: 'july', 2233: 'boreen', 2234: 'sheen', 2235: 'coaxing', 2236: 'elf', 2237: 'shake', 2238: 'bantry', 2239: 'onward', 2240: 'sped', 2241: 'gazed', 2242: 'passerby', 2243: 'gem', 2244: 'irelands', 2245: 'travelled', 2246: 'hit', 2247: 'career', 2248: 'square', 2249: 'surrendered', 2250: 'tenant', 2251: 'shawl', 2252: 'gown', 2253: 'crossroads', 2254: 'dress', 2255: 'try', 2256: 'sheeps', 2257: 'deludhering', 2258: 'yoke', 2259: 'rust', 2260: 'plow', 2261: 'fireside', 2262: 'sits', 2263: 'whistle', 2264: 'changing', 2265: 'fright', 2266: 'downfall', 2267: 'cornwall', 2268: 'parlour', 2269: 'passing', 2270: 'william', 2271: 'betray', 2272: 'guinea', 2273: 'walking', 2274: 'mounted', 2275: 'platform', 2276: 'deny', 2277: 'walked', 2278: 'margin', 2279: 'lough', 2280: 'leane', 2281: 'bloomed', 2282: 'whom', 2283: 'cap', 2284: 'cloak', 2285: 'glossy', 2286: 'pail', 2287: 'palm', 2288: 'venus', 2289: 'bank', 2290: 'travelians', 2291: 'babes', 2292: 'freebirds', 2293: 'grew', 2294: 'matters', 2295: 'famine', 2296: 'rebelled', 2297: 'windswept', 2298: 'harbour', 2299: 'botany', 2300: 'whilst', 2301: 'wan', 2302: 'cloud', 2303: 'shannons', 2304: 'returnd', 2305: 'doubts', 2306: 'fears', 2307: 'aching', 2308: 'seemd', 2309: 'mingling', 2310: 'flood', 2311: 'path', 2312: 'wrath', 2313: 'lamenting', 2314: 'sudden', 2315: 'kissd', 2316: 'showrs', 2317: 'flowing', 2318: 'laughd', 2319: 'beam', 2320: 'soared', 2321: 'aloft', 2322: 'phantom', 2323: 'outspread', 2324: 'throbbing', 2325: 'hid', 2326: 'treasures', 2327: 'pots', 2328: 'tin', 2329: 'cans', 2330: 'mash', 2331: 'bran', 2332: 'barney', 2333: 'peeled', 2334: 'searching', 2335: 'connemara', 2336: 'butcher', 2337: 'quart', 2338: 'bottle', 2339: 'help', 2340: 'gate', 2341: 'glory', 2342: 'lane', 2343: 'village', 2344: 'church', 2345: 'spire', 2346: 'graveyard', 2347: 'baby', 2348: 'blessing', 2349: 'hoping', 2350: 'trust', 2351: 'strength', 2352: 'thank', 2353: 'bidding', 2354: 'bread', 2355: 'shines', 2356: 'fifty', 2357: 'often', 2358: 'shut', 2359: 'frisky', 2360: 'pig', 2361: 'whisky', 2362: 'uncle', 2363: 'enlisted', 2364: 'trudged', 2365: 'bosom', 2366: 'daisy', 2367: 'drubbing', 2368: 'shirts', 2369: 'battle', 2370: 'blows', 2371: 'pate', 2372: 'bothered', 2373: 'rarely', 2374: 'dropped', 2375: 'honest', 2376: 'thinks', 2377: 'eight', 2378: 'score', 2379: 'basin', 2380: 'zoo', 2381: 'everybody', 2382: 'calls', 2383: 'trades', 2384: 'dinner', 2385: 'slip', 2386: 'corner', 2387: 'barn', 2388: 'currabawn', 2389: 'shocking', 2390: 'wet', 2391: 'raindrops', 2392: 'rats', 2393: 'peek', 2394: 'waken', 2395: 'spotted', 2396: 'apron', 2397: 'calico', 2398: 'blouse', 2399: 'frighten', 2400: 'afraid', 2401: 'flaxen', 2402: 'haired', 2403: 'rags', 2404: 'tags', 2405: 'leggins', 2406: 'collar', 2407: 'tie', 2408: 'goggles', 2409: 'fashioned', 2410: 'bag', 2411: 'bulging', 2412: 'sack', 2413: 'peeping', 2414: 'skin', 2415: 'rink', 2416: 'doodle', 2417: 'getting', 2418: 'raked', 2419: 'gladness', 2420: 'tuning', 2421: 'fills', 2422: 'eily', 2423: 'prouder', 2424: 'thady', 2425: 'boldly', 2426: 'lasses', 2427: 'fled', 2428: 'silent', 2429: 'glad', 2430: 'echo', 2431: 'companions', 2432: 'soars', 2433: 'enchanted', 2434: 'granted', 2435: 'adoration', 2436: 'gives', 2437: 'joyous', 2438: 'elation', 2439: 'covered', 2440: 'winter', 2441: 'riding', 2442: 'cherry', 2443: 'coal', 2444: 'falter', 2445: 'bowed', 2446: 'bonnet', 2447: 'courteous', 2448: 'looks', 2449: 'engaging', 2450: 'sell', 2451: 'purse', 2452: 'yearly', 2453: 'need', 2454: 'market', 2455: 'gain', 2456: 'dearly', 2457: 'tarry', 2458: 'although', 2459: 'parlay', 2460: 'ranks', 2461: 'girded', 2462: 'slung', 2463: 'warrior', 2464: 'bard', 2465: 'betrays', 2466: 'rights', 2467: 'faithful', 2468: 'chords', 2469: 'asunder', 2470: 'sully', 2471: 'bravry', 2472: 'londons', 2473: 'sight', 2474: 'workin', 2475: 'sow', 2476: 'wheat', 2477: 'gangs', 2478: 'sweep', 2479: 'expressed', 2480: 'london', 2481: 'top', 2482: 'dresses', 2483: 'bath', 2484: 'startin', 2485: 'fashions', 2486: 'mccree', 2487: 'nature', 2488: 'designed', 2489: 'complexions', 2490: 'cream', 2491: 'regard', 2492: 'sip', 2493: 'colors', 2494: 'wait', 2495: 'waitin', 2496: 'sweeps', 2497: 'beauing', 2498: 'belling', 2499: 'windows', 2500: 'cursing', 2501: 'faster', 2502: 'waiters', 2503: 'bailiffs', 2504: 'duns', 2505: 'bacchus', 2506: 'begotten', 2507: 'politicians', 2508: 'funds', 2509: 'dadda', 2510: 'living', 2511: 'drives', 2512: 'having', 2513: 'racking', 2514: 'tenants', 2515: 'stewards', 2516: 'teasing', 2517: 'raising', 2518: 'wishing', 2519: 'sunny', 2520: 'doves', 2521: 'coo', 2522: 'neath', 2523: 'sunbeam', 2524: 'robin', 2525: 'waters', 2526: 'larks', 2527: 'join', 2528: 'breaks', 2529: 'oftimes', 2530: 'lilies', 2531: 'declining', 2532: 'vale', 2533: 'shades', 2534: 'mantle', 2535: 'spreading', 2536: 'listening', 2537: 'shedding', 2538: 'beginning', 2539: 'spinning', 2540: 'blind', 2541: 'drowsily', 2542: 'knitting', 2543: 'cheerily', 2544: 'noiselessly', 2545: 'whirring', 2546: 'foots', 2547: 'stirring', 2548: 'sprightly', 2549: 'chara', 2550: 'tapping', 2551: 'ivy', 2552: 'flapping', 2553: 'somebody', 2554: 'sighing', 2555: 'autumn', 2556: 'noise', 2557: 'chirping', 2558: 'holly', 2559: 'shoving', 2560: 'wrong', 2561: 'coolin', 2562: 'casement', 2563: 'rove', 2564: 'moons', 2565: 'brightly', 2566: 'shakes', 2567: 'lays', 2568: 'longs', 2569: 'lingers', 2570: 'glance', 2571: 'puts', 2572: 'lazily', 2573: 'easily', 2574: 'lowly', 2575: 'reels', 2576: 'noiseless', 2577: 'leaps', 2578: 'ere', 2579: 'lovers', 2580: 'roved', 2581: 'verdant', 2582: 'braes', 2583: 'skreen', 2584: 'countrie', 2585: 'foreign', 2586: 'strand', 2587: 'dewy', 2588: 'climb', 2589: 'rob', 2590: 'boat', 2591: 'sails', 2592: 'loaded', 2593: 'sink', 2594: 'leaned', 2595: 'oak', 2596: 'trusty', 2597: 'false', 2598: 'reached', 2599: 'pricked', 2600: 'waxes', 2601: 'fades', 2602: 'wholl', 2603: 'cockle', 2604: 'gloom', 2605: 'news', 2606: 'forbid', 2607: 'patricks', 2608: 'napper', 2609: 'tandy', 2610: 'hows', 2611: 'distressful', 2612: 'englands', 2613: 'remind', 2614: 'pull', 2615: 'throw', 2616: 'sod', 2617: 'root', 2618: 'underfoot', 2619: 'laws', 2620: 'blades', 2621: 'growin', 2622: 'dare', 2623: 'show', 2624: 'caubeen', 2625: 'year', 2626: 'returning', 2627: 'store', 2628: 'ale', 2629: 'frequent', 2630: 'landlady', 2631: 'credit', 2632: 'custom', 2633: 'sovereigns', 2634: 'landladys', 2635: 'wines', 2636: 'confess', 2637: 'pardon', 2638: 'prodigal', 2639: 'caress', 2640: 'forgive', 2641: 'ofttimes', 2642: 'wondering', 2643: 'powr', 2644: 'beguile', 2645: 'teardrop', 2646: 'lilting', 2647: 'laughters', 2648: 'twinkle', 2649: 'lilt', 2650: 'seems', 2651: 'linnets', 2652: 'real', 2653: 'regret', 2654: 'throughout', 2655: 'youths', 2656: 'chance', 2657: 'spied', 2658: 'receiver', 2659: 'counted', 2660: 'penny', 2661: 'bu', 2662: 'rungum', 2663: 'chamber', 2664: 'course', 2665: 'charges', 2666: 'filled', 2667: 'ready', 2668: 'footmen', 2669: 'likewise', 2670: 'draw', 2671: 'pistol', 2672: 'couldnt', 2673: 'shoot', 2674: 'robbin', 2675: 'jailer', 2676: 'tight', 2677: 'fisted', 2678: 'army', 2679: 'stationed', 2680: 'cork', 2681: 'roamin', 2682: 'swear', 2683: 'treat', 2684: 'sportin', 2685: 'hurley', 2686: 'bollin', 2687: 'maids', 2688: 'summertime', 2689: 'pluck', 2690: 'yon'}\n"
     ]
    }
   ],
   "source": [
    "## create reverse_word_index\n",
    "reverse_word_index = {}\n",
    "for word, i in word_index.items():\n",
    "    reverse_word_index[i] = word\n",
    "print(reverse_word_index)"
   ]
  },
  {
   "cell_type": "markdown",
   "metadata": {},
   "source": [
    "## Change Sentences to Sequences"
   ]
  },
  {
   "cell_type": "code",
   "execution_count": 6,
   "metadata": {},
   "outputs": [
    {
     "name": "stdout",
     "output_type": "stream",
     "text": [
      "[ 0  0  0  0  0  0  0  0  0  0  0  0  0  0  0 52 13]\n"
     ]
    }
   ],
   "source": [
    "sequences = tokenizer.texts_to_sequences(sentences)\n",
    "new_seq = []\n",
    "for row in sequences:\n",
    "    for i in range(2, len(row)+1):\n",
    "        new_seq.append(row[:i])\n",
    "padded_seq = pad_sequences(new_seq, padding=PADDING, truncating=TRUNC)\n",
    "print(padded_seq[0])"
   ]
  },
  {
   "cell_type": "markdown",
   "metadata": {},
   "source": [
    "## Extract trainX and trainY from sequences"
   ]
  },
  {
   "cell_type": "code",
   "execution_count": 7,
   "metadata": {},
   "outputs": [
    {
     "name": "stdout",
     "output_type": "stream",
     "text": [
      "(13730, 16)\n",
      "(13730, 2691)\n"
     ]
    }
   ],
   "source": [
    "trainX = padded_seq[:,:-1]\n",
    "trainY = padded_seq[:,-1]\n",
    "trainY = tf.keras.utils.to_categorical(trainY, num_classes=total_words)\n",
    "\n",
    "INP_LEN = trainX.shape[1]\n",
    "OUT_LEN = trainY.shape[1]\n",
    "\n",
    "print(trainX.shape)\n",
    "print(trainY.shape)"
   ]
  },
  {
   "cell_type": "markdown",
   "metadata": {},
   "source": [
    "## Define Callback"
   ]
  },
  {
   "cell_type": "code",
   "execution_count": 8,
   "metadata": {},
   "outputs": [],
   "source": [
    "class myCallback(tf.keras.callbacks.Callback):\n",
    "    def on_epoch_end(self, epochs, log={}):\n",
    "        if (log.get('acc')>0.90):\n",
    "            self.model.stop_training = True\n",
    "            print(\"\\n Stopped training since model reached accuracy of 90%\")\n",
    "callback = myCallback()"
   ]
  },
  {
   "cell_type": "markdown",
   "metadata": {},
   "source": [
    "## Define Model"
   ]
  },
  {
   "cell_type": "code",
   "execution_count": 9,
   "metadata": {},
   "outputs": [
    {
     "name": "stdout",
     "output_type": "stream",
     "text": [
      "WARNING:tensorflow:From C:\\Users\\XARC\\Anaconda3\\lib\\site-packages\\tensorflow\\python\\ops\\resource_variable_ops.py:435: colocate_with (from tensorflow.python.framework.ops) is deprecated and will be removed in a future version.\n",
      "Instructions for updating:\n",
      "Colocations handled automatically by placer.\n"
     ]
    }
   ],
   "source": [
    "model = tf.keras.models.Sequential([\n",
    "    tf.keras.layers.Embedding(total_words, EMB_DIM, input_length=INP_LEN),\n",
    "    tf.keras.layers.Bidirectional(tf.keras.layers.LSTM(32)),\n",
    "    tf.keras.layers.Dense(total_words, activation='softmax')\n",
    "])"
   ]
  },
  {
   "cell_type": "code",
   "execution_count": 10,
   "metadata": {},
   "outputs": [
    {
     "name": "stdout",
     "output_type": "stream",
     "text": [
      "_________________________________________________________________\n",
      "Layer (type)                 Output Shape              Param #   \n",
      "=================================================================\n",
      "embedding (Embedding)        (None, 16, 128)           344448    \n",
      "_________________________________________________________________\n",
      "bidirectional (Bidirectional (None, 64)                41216     \n",
      "_________________________________________________________________\n",
      "dense (Dense)                (None, 2691)              174915    \n",
      "=================================================================\n",
      "Total params: 560,579\n",
      "Trainable params: 560,579\n",
      "Non-trainable params: 0\n",
      "_________________________________________________________________\n"
     ]
    }
   ],
   "source": [
    "model.compile(optimizer=OPTIMIZER, loss=LOSS, metrics=METRICS)\n",
    "model.summary()"
   ]
  },
  {
   "cell_type": "markdown",
   "metadata": {},
   "source": [
    "## Train Model"
   ]
  },
  {
   "cell_type": "code",
   "execution_count": null,
   "metadata": {
    "scrolled": true
   },
   "outputs": [
    {
     "name": "stdout",
     "output_type": "stream",
     "text": [
      "Train on 12357 samples, validate on 1373 samples\n",
      "WARNING:tensorflow:From C:\\Users\\XARC\\Anaconda3\\lib\\site-packages\\tensorflow\\python\\ops\\math_ops.py:3066: to_int32 (from tensorflow.python.ops.math_ops) is deprecated and will be removed in a future version.\n",
      "Instructions for updating:\n",
      "Use tf.cast instead.\n",
      "Epoch 1/500\n",
      "12357/12357 [==============================] - 9s 729us/sample - loss: 6.7922 - acc: 0.1160 - val_loss: 6.2226 - val_acc: 0.1253\n",
      "Epoch 2/500\n",
      "12357/12357 [==============================] - 6s 499us/sample - loss: 6.0098 - acc: 0.1230 - val_loss: 6.2186 - val_acc: 0.1253\n",
      "Epoch 3/500\n",
      "12357/12357 [==============================] - 6s 474us/sample - loss: 5.8807 - acc: 0.1230 - val_loss: 6.2006 - val_acc: 0.1253\n",
      "Epoch 4/500\n",
      "12357/12357 [==============================] - 6s 470us/sample - loss: 5.7892 - acc: 0.1230 - val_loss: 6.2192 - val_acc: 0.1253\n",
      "Epoch 5/500\n",
      "12357/12357 [==============================] - 6s 469us/sample - loss: 5.7213 - acc: 0.1283 - val_loss: 6.2344 - val_acc: 0.1333\n",
      "Epoch 6/500\n",
      "12357/12357 [==============================] - 6s 505us/sample - loss: 5.6626 - acc: 0.1451 - val_loss: 6.2509 - val_acc: 0.1420\n",
      "Epoch 7/500\n",
      "12357/12357 [==============================] - 6s 517us/sample - loss: 5.6155 - acc: 0.1533 - val_loss: 6.2520 - val_acc: 0.1435\n",
      "Epoch 8/500\n",
      "12357/12357 [==============================] - 7s 551us/sample - loss: 5.5727 - acc: 0.1586 - val_loss: 6.2593 - val_acc: 0.1486\n",
      "Epoch 9/500\n",
      "12357/12357 [==============================] - 6s 508us/sample - loss: 5.5340 - acc: 0.1646 - val_loss: 6.2763 - val_acc: 0.1464\n",
      "Epoch 10/500\n",
      "12357/12357 [==============================] - 6s 517us/sample - loss: 5.4987 - acc: 0.1682 - val_loss: 6.2668 - val_acc: 0.1486\n",
      "Epoch 11/500\n",
      "12357/12357 [==============================] - 6s 463us/sample - loss: 5.4635 - acc: 0.1699 - val_loss: 6.2790 - val_acc: 0.1500\n",
      "Epoch 12/500\n",
      "12357/12357 [==============================] - 6s 484us/sample - loss: 5.4301 - acc: 0.1712 - val_loss: 6.2750 - val_acc: 0.1479\n",
      "Epoch 13/500\n",
      "12357/12357 [==============================] - 6s 495us/sample - loss: 5.3947 - acc: 0.1726 - val_loss: 6.2788 - val_acc: 0.1486\n",
      "Epoch 14/500\n",
      "12357/12357 [==============================] - 6s 491us/sample - loss: 5.3532 - acc: 0.1737 - val_loss: 6.2756 - val_acc: 0.1537\n",
      "Epoch 15/500\n",
      "12357/12357 [==============================] - 6s 513us/sample - loss: 5.2987 - acc: 0.1762 - val_loss: 6.2588 - val_acc: 0.1566\n",
      "Epoch 16/500\n",
      "12357/12357 [==============================] - 6s 487us/sample - loss: 5.2479 - acc: 0.1778 - val_loss: 6.2724 - val_acc: 0.1602\n",
      "Epoch 17/500\n",
      "12357/12357 [==============================] - 6s 490us/sample - loss: 5.1979 - acc: 0.1829 - val_loss: 6.2652 - val_acc: 0.1595\n",
      "Epoch 18/500\n",
      "12357/12357 [==============================] - 6s 518us/sample - loss: 5.1505 - acc: 0.1889 - val_loss: 6.2616 - val_acc: 0.1631\n",
      "Epoch 19/500\n",
      "12357/12357 [==============================] - 6s 497us/sample - loss: 5.1052 - acc: 0.1962 - val_loss: 6.2624 - val_acc: 0.1595\n",
      "Epoch 20/500\n",
      "12357/12357 [==============================] - 6s 498us/sample - loss: 5.0578 - acc: 0.2045 - val_loss: 6.2944 - val_acc: 0.1537\n",
      "Epoch 21/500\n",
      "12357/12357 [==============================] - 6s 479us/sample - loss: 5.0126 - acc: 0.2081 - val_loss: 6.2724 - val_acc: 0.1631\n",
      "Epoch 22/500\n",
      "12357/12357 [==============================] - 6s 491us/sample - loss: 4.9637 - acc: 0.2111 - val_loss: 6.2975 - val_acc: 0.1588\n",
      "Epoch 23/500\n",
      "12357/12357 [==============================] - 6s 486us/sample - loss: 4.9093 - acc: 0.2143 - val_loss: 6.3328 - val_acc: 0.1559\n",
      "Epoch 24/500\n",
      "12357/12357 [==============================] - 6s 500us/sample - loss: 4.8576 - acc: 0.2195 - val_loss: 6.3652 - val_acc: 0.1566\n",
      "Epoch 25/500\n",
      "12357/12357 [==============================] - 6s 501us/sample - loss: 4.8014 - acc: 0.2227 - val_loss: 6.3867 - val_acc: 0.1551\n",
      "Epoch 26/500\n",
      "12357/12357 [==============================] - 6s 496us/sample - loss: 4.7504 - acc: 0.2267 - val_loss: 6.4081 - val_acc: 0.1529\n",
      "Epoch 27/500\n",
      "12357/12357 [==============================] - 6s 486us/sample - loss: 4.7023 - acc: 0.2280 - val_loss: 6.4377 - val_acc: 0.1529\n",
      "Epoch 28/500\n",
      "12357/12357 [==============================] - 6s 525us/sample - loss: 4.6552 - acc: 0.2294 - val_loss: 6.4290 - val_acc: 0.1653\n",
      "Epoch 29/500\n",
      "12357/12357 [==============================] - 6s 493us/sample - loss: 4.6094 - acc: 0.2328 - val_loss: 6.4699 - val_acc: 0.1544\n",
      "Epoch 30/500\n",
      "12357/12357 [==============================] - 6s 494us/sample - loss: 4.5629 - acc: 0.2371 - val_loss: 6.4751 - val_acc: 0.1573\n",
      "Epoch 31/500\n",
      "12357/12357 [==============================] - 6s 495us/sample - loss: 4.5162 - acc: 0.2399 - val_loss: 6.4999 - val_acc: 0.1602\n",
      "Epoch 32/500\n",
      "12357/12357 [==============================] - 6s 492us/sample - loss: 4.4714 - acc: 0.2436 - val_loss: 6.5106 - val_acc: 0.1631\n",
      "Epoch 33/500\n",
      "12357/12357 [==============================] - 6s 500us/sample - loss: 4.4316 - acc: 0.2454 - val_loss: 6.5312 - val_acc: 0.1588\n",
      "Epoch 34/500\n",
      "12357/12357 [==============================] - 6s 501us/sample - loss: 4.3874 - acc: 0.2489 - val_loss: 6.5316 - val_acc: 0.1551\n",
      "Epoch 35/500\n",
      "12357/12357 [==============================] - 6s 508us/sample - loss: 4.3464 - acc: 0.2516 - val_loss: 6.5618 - val_acc: 0.1537\n",
      "Epoch 36/500\n",
      "12357/12357 [==============================] - 6s 504us/sample - loss: 4.3026 - acc: 0.2558 - val_loss: 6.5811 - val_acc: 0.1551\n",
      "Epoch 37/500\n",
      "12357/12357 [==============================] - 6s 505us/sample - loss: 4.2586 - acc: 0.2589 - val_loss: 6.5944 - val_acc: 0.1595\n",
      "Epoch 38/500\n",
      "12357/12357 [==============================] - 7s 538us/sample - loss: 4.2148 - acc: 0.2616 - val_loss: 6.6259 - val_acc: 0.1551\n",
      "Epoch 39/500\n",
      "12357/12357 [==============================] - 6s 494us/sample - loss: 4.1709 - acc: 0.2669 - val_loss: 6.6532 - val_acc: 0.1566\n",
      "Epoch 40/500\n",
      "12357/12357 [==============================] - 6s 506us/sample - loss: 4.1294 - acc: 0.2725 - val_loss: 6.6628 - val_acc: 0.1573\n",
      "Epoch 41/500\n",
      "12357/12357 [==============================] - 6s 502us/sample - loss: 4.0865 - acc: 0.2748 - val_loss: 6.6661 - val_acc: 0.1639\n",
      "Epoch 42/500\n",
      "12357/12357 [==============================] - ETA: 0s - loss: 4.0462 - acc: 0.279 - 6s 497us/sample - loss: 4.0475 - acc: 0.2795 - val_loss: 6.7022 - val_acc: 0.1617\n",
      "Epoch 43/500\n",
      "12357/12357 [==============================] - 6s 493us/sample - loss: 4.0033 - acc: 0.2832 - val_loss: 6.7205 - val_acc: 0.1580\n",
      "Epoch 44/500\n",
      "12357/12357 [==============================] - 6s 502us/sample - loss: 3.9594 - acc: 0.2857 - val_loss: 6.7404 - val_acc: 0.1573\n",
      "Epoch 45/500\n",
      "12357/12357 [==============================] - 6s 509us/sample - loss: 3.9145 - acc: 0.2917 - val_loss: 6.7689 - val_acc: 0.1544\n",
      "Epoch 46/500\n",
      "12357/12357 [==============================] - 6s 510us/sample - loss: 3.8662 - acc: 0.2933 - val_loss: 6.7935 - val_acc: 0.1515\n",
      "Epoch 47/500\n",
      "12357/12357 [==============================] - 7s 545us/sample - loss: 3.8186 - acc: 0.2972 - val_loss: 6.8210 - val_acc: 0.1537\n",
      "Epoch 48/500\n",
      "12357/12357 [==============================] - 6s 512us/sample - loss: 3.7764 - acc: 0.3029 - val_loss: 6.8426 - val_acc: 0.1529\n",
      "Epoch 49/500\n",
      "12357/12357 [==============================] - 6s 513us/sample - loss: 3.7366 - acc: 0.3057 - val_loss: 6.8540 - val_acc: 0.1522\n",
      "Epoch 50/500\n",
      "12357/12357 [==============================] - 6s 513us/sample - loss: 3.6966 - acc: 0.3112 - val_loss: 6.8869 - val_acc: 0.1515\n",
      "Epoch 51/500\n",
      "12357/12357 [==============================] - 6s 513us/sample - loss: 3.6471 - acc: 0.3144 - val_loss: 6.9077 - val_acc: 0.1529\n",
      "Epoch 52/500\n",
      "12357/12357 [==============================] - 6s 516us/sample - loss: 3.5967 - acc: 0.3171 - val_loss: 6.9274 - val_acc: 0.1493\n",
      "Epoch 53/500\n",
      "12357/12357 [==============================] - 6s 517us/sample - loss: 3.5502 - acc: 0.3247 - val_loss: 6.9441 - val_acc: 0.1479\n",
      "Epoch 54/500\n",
      "12357/12357 [==============================] - 6s 520us/sample - loss: 3.5034 - acc: 0.3285 - val_loss: 6.9715 - val_acc: 0.1493\n",
      "Epoch 55/500\n",
      "12357/12357 [==============================] - 6s 521us/sample - loss: 3.4533 - acc: 0.3344 - val_loss: 6.9842 - val_acc: 0.1500\n",
      "Epoch 56/500\n"
     ]
    },
    {
     "name": "stdout",
     "output_type": "stream",
     "text": [
      "12357/12357 [==============================] - 6s 466us/sample - loss: 3.4108 - acc: 0.3395 - val_loss: 7.0137 - val_acc: 0.1508\n",
      "Epoch 57/500\n",
      "12357/12357 [==============================] - 6s 516us/sample - loss: 3.3747 - acc: 0.3434 - val_loss: 7.0259 - val_acc: 0.1544\n",
      "Epoch 58/500\n",
      "12357/12357 [==============================] - 6s 477us/sample - loss: 3.3290 - acc: 0.3483 - val_loss: 7.0651 - val_acc: 0.1508\n",
      "Epoch 59/500\n",
      "12357/12357 [==============================] - 6s 468us/sample - loss: 3.2899 - acc: 0.3587 - val_loss: 7.0613 - val_acc: 0.1500\n",
      "Epoch 60/500\n",
      "12357/12357 [==============================] - 6s 483us/sample - loss: 3.2439 - acc: 0.3621 - val_loss: 7.1071 - val_acc: 0.1508\n",
      "Epoch 61/500\n",
      "12357/12357 [==============================] - 6s 493us/sample - loss: 3.2038 - acc: 0.3651 - val_loss: 7.1468 - val_acc: 0.1537\n",
      "Epoch 62/500\n",
      "12357/12357 [==============================] - 6s 497us/sample - loss: 3.1643 - acc: 0.3728 - val_loss: 7.1591 - val_acc: 0.1515\n",
      "Epoch 63/500\n",
      "12357/12357 [==============================] - 6s 487us/sample - loss: 3.1216 - acc: 0.3766 - val_loss: 7.1703 - val_acc: 0.1522\n",
      "Epoch 64/500\n",
      "12357/12357 [==============================] - 6s 489us/sample - loss: 3.0842 - acc: 0.3801 - val_loss: 7.2233 - val_acc: 0.1551\n",
      "Epoch 65/500\n",
      "12357/12357 [==============================] - 6s 493us/sample - loss: 3.0475 - acc: 0.3880 - val_loss: 7.2164 - val_acc: 0.1508\n",
      "Epoch 66/500\n",
      "12357/12357 [==============================] - 6s 489us/sample - loss: 3.0054 - acc: 0.3939 - val_loss: 7.2544 - val_acc: 0.1559\n",
      "Epoch 67/500\n",
      "12357/12357 [==============================] - 7s 553us/sample - loss: 2.9657 - acc: 0.3986 - val_loss: 7.2827 - val_acc: 0.1515\n",
      "Epoch 68/500\n",
      "12357/12357 [==============================] - 7s 562us/sample - loss: 2.9349 - acc: 0.4028 - val_loss: 7.3127 - val_acc: 0.1559\n",
      "Epoch 69/500\n",
      "12357/12357 [==============================] - 6s 471us/sample - loss: 2.9014 - acc: 0.4094 - val_loss: 7.3452 - val_acc: 0.1544\n",
      "Epoch 70/500\n",
      "12357/12357 [==============================] - 6s 471us/sample - loss: 2.8637 - acc: 0.4159 - val_loss: 7.3734 - val_acc: 0.1515\n",
      "Epoch 71/500\n",
      "12357/12357 [==============================] - ETA: 0s - loss: 2.8242 - acc: 0.421 - 6s 470us/sample - loss: 2.8272 - acc: 0.4208 - val_loss: 7.3806 - val_acc: 0.1500\n",
      "Epoch 72/500\n",
      "12357/12357 [==============================] - 6s 471us/sample - loss: 2.7945 - acc: 0.4287 - val_loss: 7.4188 - val_acc: 0.1522\n",
      "Epoch 73/500\n",
      "12357/12357 [==============================] - 6s 471us/sample - loss: 2.7668 - acc: 0.4301 - val_loss: 7.4547 - val_acc: 0.1515\n",
      "Epoch 74/500\n",
      "12357/12357 [==============================] - 6s 501us/sample - loss: 2.7320 - acc: 0.4360 - val_loss: 7.4594 - val_acc: 0.1529\n",
      "Epoch 75/500\n",
      "12357/12357 [==============================] - 6s 495us/sample - loss: 2.7053 - acc: 0.4407 - val_loss: 7.4776 - val_acc: 0.1580\n",
      "Epoch 76/500\n",
      "12357/12357 [==============================] - 7s 591us/sample - loss: 2.6793 - acc: 0.4461 - val_loss: 7.4988 - val_acc: 0.1537\n",
      "Epoch 77/500\n",
      "12357/12357 [==============================] - 7s 589us/sample - loss: 2.6431 - acc: 0.4516 - val_loss: 7.5161 - val_acc: 0.1559\n",
      "Epoch 78/500\n",
      "12357/12357 [==============================] - 6s 510us/sample - loss: 2.6096 - acc: 0.4607 - val_loss: 7.5460 - val_acc: 0.1544\n",
      "Epoch 79/500\n",
      "12357/12357 [==============================] - 7s 564us/sample - loss: 2.5798 - acc: 0.4648 - val_loss: 7.5850 - val_acc: 0.1529\n",
      "Epoch 80/500\n",
      "12357/12357 [==============================] - 7s 546us/sample - loss: 2.5490 - acc: 0.4721 - val_loss: 7.5830 - val_acc: 0.1508\n",
      "Epoch 81/500\n",
      "12357/12357 [==============================] - 6s 497us/sample - loss: 2.5215 - acc: 0.4744 - val_loss: 7.6107 - val_acc: 0.1522\n",
      "Epoch 82/500\n",
      "12357/12357 [==============================] - 6s 508us/sample - loss: 2.4992 - acc: 0.4805 - val_loss: 7.6457 - val_acc: 0.1449\n",
      "Epoch 83/500\n",
      "12357/12357 [==============================] - 6s 513us/sample - loss: 2.4746 - acc: 0.4855 - val_loss: 7.6710 - val_acc: 0.1471\n",
      "Epoch 84/500\n",
      "12357/12357 [==============================] - 6s 508us/sample - loss: 2.4517 - acc: 0.4877 - val_loss: 7.6953 - val_acc: 0.1500\n",
      "Epoch 85/500\n",
      "12357/12357 [==============================] - 6s 495us/sample - loss: 2.4200 - acc: 0.4934 - val_loss: 7.7172 - val_acc: 0.1508\n",
      "Epoch 86/500\n",
      "12357/12357 [==============================] - 7s 530us/sample - loss: 2.3963 - acc: 0.5011 - val_loss: 7.7587 - val_acc: 0.1493\n",
      "Epoch 87/500\n",
      "12357/12357 [==============================] - 6s 502us/sample - loss: 2.3714 - acc: 0.5034 - val_loss: 7.7606 - val_acc: 0.1522\n",
      "Epoch 88/500\n",
      "12357/12357 [==============================] - 6s 494us/sample - loss: 2.3555 - acc: 0.5051 - val_loss: 7.7751 - val_acc: 0.1428\n",
      "Epoch 89/500\n",
      "12357/12357 [==============================] - 6s 505us/sample - loss: 2.3219 - acc: 0.5105 - val_loss: 7.8098 - val_acc: 0.1428\n",
      "Epoch 90/500\n",
      "12357/12357 [==============================] - 6s 504us/sample - loss: 2.3062 - acc: 0.5133 - val_loss: 7.8378 - val_acc: 0.1435\n",
      "Epoch 91/500\n",
      "12357/12357 [==============================] - 6s 489us/sample - loss: 2.2872 - acc: 0.5185 - val_loss: 7.8502 - val_acc: 0.1391\n",
      "Epoch 92/500\n",
      "12357/12357 [==============================] - 6s 491us/sample - loss: 2.2605 - acc: 0.5232 - val_loss: 7.8663 - val_acc: 0.1398\n",
      "Epoch 93/500\n",
      "12357/12357 [==============================] - 6s 495us/sample - loss: 2.2448 - acc: 0.5265 - val_loss: 7.9109 - val_acc: 0.1406\n",
      "Epoch 94/500\n",
      "12357/12357 [==============================] - 6s 500us/sample - loss: 2.2210 - acc: 0.5242 - val_loss: 7.9281 - val_acc: 0.1406\n",
      "Epoch 95/500\n",
      "12357/12357 [==============================] - 7s 528us/sample - loss: 2.1920 - acc: 0.5319 - val_loss: 7.9355 - val_acc: 0.142033 - acc: 0.531\n",
      "Epoch 96/500\n",
      "12357/12357 [==============================] - 6s 493us/sample - loss: 2.1625 - acc: 0.5393 - val_loss: 7.9964 - val_acc: 0.1406\n",
      "Epoch 97/500\n",
      "12357/12357 [==============================] - 6s 491us/sample - loss: 2.1494 - acc: 0.5401 - val_loss: 8.0221 - val_acc: 0.1362\n",
      "Epoch 98/500\n",
      "12357/12357 [==============================] - 6s 507us/sample - loss: 2.1281 - acc: 0.5461 - val_loss: 8.0179 - val_acc: 0.1420\n",
      "Epoch 99/500\n",
      "12357/12357 [==============================] - 7s 560us/sample - loss: 2.1004 - acc: 0.5546 - val_loss: 8.0493 - val_acc: 0.1398\n",
      "Epoch 100/500\n",
      "12357/12357 [==============================] - 6s 514us/sample - loss: 2.0854 - acc: 0.5520 - val_loss: 8.0556 - val_acc: 0.1406\n",
      "Epoch 101/500\n",
      "12357/12357 [==============================] - 6s 509us/sample - loss: 2.0656 - acc: 0.5616 - val_loss: 8.0975 - val_acc: 0.1398\n",
      "Epoch 102/500\n",
      "12357/12357 [==============================] - 6s 516us/sample - loss: 2.0453 - acc: 0.5611 - val_loss: 8.1091 - val_acc: 0.1377\n",
      "Epoch 103/500\n",
      "12357/12357 [==============================] - 6s 520us/sample - loss: 2.0340 - acc: 0.5650 - val_loss: 8.1087 - val_acc: 0.1369\n",
      "Epoch 104/500\n",
      "12357/12357 [==============================] - 6s 525us/sample - loss: 2.0127 - acc: 0.5726 - val_loss: 8.1580 - val_acc: 0.1326\n",
      "Epoch 105/500\n",
      "12357/12357 [==============================] - 9s 694us/sample - loss: 1.9976 - acc: 0.5724 - val_loss: 8.1494 - val_acc: 0.1406\n",
      "Epoch 106/500\n",
      "12357/12357 [==============================] - 6s 486us/sample - loss: 1.9735 - acc: 0.5748 - val_loss: 8.2267 - val_acc: 0.1377\n",
      "Epoch 107/500\n",
      "12357/12357 [==============================] - 6s 463us/sample - loss: 1.9650 - acc: 0.5791 - val_loss: 8.2019 - val_acc: 0.1369\n",
      "Epoch 108/500\n",
      "12357/12357 [==============================] - 7s 558us/sample - loss: 1.9404 - acc: 0.5844 - val_loss: 8.2309 - val_acc: 0.1406\n",
      "Epoch 109/500\n",
      "12357/12357 [==============================] - 7s 537us/sample - loss: 1.9221 - acc: 0.5883 - val_loss: 8.2647 - val_acc: 0.1391\n",
      "Epoch 110/500\n",
      " 6272/12357 [==============>...............] - ETA: 3s - loss: 1.8928 - acc: 0.5974"
     ]
    }
   ],
   "source": [
    "history = model.fit(trainX, trainY, validation_split=VAL_SPLIT, verbose=1, epochs = EPOCHS, batch_size=BATCH_SIZE, callbacks=[callback])"
   ]
  },
  {
   "cell_type": "markdown",
   "metadata": {},
   "source": [
    "## Save Model"
   ]
  },
  {
   "cell_type": "code",
   "execution_count": null,
   "metadata": {},
   "outputs": [],
   "source": [
    "model.save(model_name)"
   ]
  },
  {
   "cell_type": "markdown",
   "metadata": {},
   "source": [
    "## Plot Results"
   ]
  },
  {
   "cell_type": "code",
   "execution_count": null,
   "metadata": {},
   "outputs": [],
   "source": [
    "acc = history.history['acc']\n",
    "val_acc = history.history['val_acc']\n",
    "\n",
    "loss = history.history['loss']\n",
    "val_loss = history.history['val_loss']\n",
    "\n",
    "epochs = range(EPOCHS)\n",
    "\n",
    "plt.plot(epochs, acc, 'r')\n",
    "plt.plot(epochs, val_acc, 'b')\n",
    "plt.xlabel('EPOCHS')\n",
    "plt.ylabel('Accuracies')\n",
    "plt.legend('Train Acc', 'Val Acc')\n",
    "plt.figure()\n",
    "\n",
    "plt.plot(epochs, loss, 'r')\n",
    "plt.plot(epochs, val_loss, 'b')\n",
    "plt.xlabel('EPOCHS')\n",
    "plt.ylabel('Losses')\n",
    "plt.legend('Train Loss', 'Val Loss')\n",
    "plt.figure()"
   ]
  },
  {
   "cell_type": "markdown",
   "metadata": {},
   "source": [
    "## Generate Poetry by iterating over the predictor from the model"
   ]
  },
  {
   "cell_type": "code",
   "execution_count": null,
   "metadata": {},
   "outputs": [],
   "source": [
    "sentence = SEEDER.lower()\n",
    "corpus = ''\n",
    "print (sentence, end=' ')\n",
    "for i in range(NUM_PREDICTIONS):\n",
    "    seq = tokenizer.texts_to_sequences([sentence])\n",
    "    seq = pad_sequences(seq, padding=PADDING, truncating=TRUNC, maxlen=INP_LEN)\n",
    "    new_word = model.predict([seq])[0]\n",
    "    new_word = reverse_word_index[np.argmax(new_word)]\n",
    "    if new_word=='\\n':\n",
    "        sentence = reverse_word_index[random.randint(1, total_words)]\n",
    "    else:\n",
    "        sentence = sentence + ' ' + new_word\n",
    "    corpus = corpus + ' ' + new_word\n",
    "    print (new_word, end=' ')"
   ]
  },
  {
   "cell_type": "markdown",
   "metadata": {},
   "source": [
    "## Save Poetry in a file"
   ]
  },
  {
   "cell_type": "code",
   "execution_count": null,
   "metadata": {},
   "outputs": [],
   "source": [
    "try:\n",
    "    with open(save_file_path, 'w') as f:\n",
    "        f.write(corpus)\n",
    "        f.close()\n",
    "except:\n",
    "    print(\"\\nWrite was Unsuccessful\")"
   ]
  },
  {
   "cell_type": "code",
   "execution_count": null,
   "metadata": {},
   "outputs": [],
   "source": []
  },
  {
   "cell_type": "code",
   "execution_count": null,
   "metadata": {},
   "outputs": [],
   "source": []
  }
 ],
 "metadata": {
  "kernelspec": {
   "display_name": "Python 3",
   "language": "python",
   "name": "python3"
  },
  "language_info": {
   "codemirror_mode": {
    "name": "ipython",
    "version": 3
   },
   "file_extension": ".py",
   "mimetype": "text/x-python",
   "name": "python",
   "nbconvert_exporter": "python",
   "pygments_lexer": "ipython3",
   "version": "3.7.3"
  }
 },
 "nbformat": 4,
 "nbformat_minor": 2
}
