{
 "cells": [
  {
   "cell_type": "markdown",
   "metadata": {},
   "source": [
    "# Chatty the chatterbox"
   ]
  },
  {
   "cell_type": "markdown",
   "metadata": {},
   "source": [
    "## Import Libraries"
   ]
  },
  {
   "cell_type": "code",
   "execution_count": 1,
   "metadata": {},
   "outputs": [],
   "source": [
    "import tensorflow as tf\n",
    "import matplotlib.pyplot as plt\n",
    "import random\n",
    "import numpy as np\n",
    "\n",
    "from tensorflow.keras.preprocessing.text import Tokenizer\n",
    "from tensorflow.keras.preprocessing.sequence import pad_sequences"
   ]
  },
  {
   "cell_type": "markdown",
   "metadata": {},
   "source": [
    "## Define Parameters"
   ]
  },
  {
   "cell_type": "code",
   "execution_count": 2,
   "metadata": {},
   "outputs": [],
   "source": [
    "dataset_type = 'conversation'\n",
    "\n",
    "files = [dataset_type + '_train.txt', dataset_type + '_train2.txt']\n",
    "save_file_path = dataset_type + '_predicted.txt'\n",
    "PADDING = 'pre'\n",
    "TRUNC = 'pre'\n",
    "MAXLEN = 7\n",
    "\n",
    "VOCAB_SIZE = 10000\n",
    "EMB_DIM = 128\n",
    "\n",
    "OPTIMIZER = 'adam'\n",
    "LOSS = 'categorical_crossentropy'\n",
    "METRICS = ['acc']\n",
    "EPOCHS = 100\n",
    "BATCH_SIZE = 128\n",
    "VAL_SPLIT = 0.1\n",
    "\n",
    "SEEDER = 'Hi, Whats up'    ## Seeder word to start prediction of poetry\n",
    "\n",
    "model_name = dataset_type + \"_model.h5\"\n",
    "\n",
    "data = \"This is some random statement \\n being used as placeholder for the actual data that is to be \\n imported later from a file.\""
   ]
  },
  {
   "cell_type": "markdown",
   "metadata": {},
   "source": [
    "## Load Data"
   ]
  },
  {
   "cell_type": "code",
   "execution_count": 3,
   "metadata": {},
   "outputs": [
    {
     "name": "stdout",
     "output_type": "stream",
     "text": [
      "825\n",
      "hi, how are you doing?\n",
      "22\n"
     ]
    }
   ],
   "source": [
    "corpus = ''\n",
    "for file in files:\n",
    "    with open(file) as f:\n",
    "        data = f.read()\n",
    "        corpus += data + '\\n'\n",
    "        f.close()\n",
    "#data = data.replace('\\n', ' \\n<>')\n",
    "sentences = corpus.lower().split('\\n')\n",
    "print(len(sentences))\n",
    "print(sentences[0])\n",
    "print(len(sentences[0]))"
   ]
  },
  {
   "cell_type": "markdown",
   "metadata": {},
   "source": [
    "## Tokenize Data"
   ]
  },
  {
   "cell_type": "code",
   "execution_count": 4,
   "metadata": {},
   "outputs": [
    {
     "name": "stdout",
     "output_type": "stream",
     "text": [
      "665\n",
      "7\n"
     ]
    }
   ],
   "source": [
    "tokenizer = Tokenizer(filters='!\"#$%&()*+,-./:;<=>?@[\\\\]^_`{|}~\\t')\n",
    "tokenizer.fit_on_texts(sentences)\n",
    "word_index = tokenizer.word_index\n",
    "total_words = len(word_index) + 1\n",
    "print(total_words)\n",
    "print(word_index['a'])"
   ]
  },
  {
   "cell_type": "code",
   "execution_count": 5,
   "metadata": {},
   "outputs": [
    {
     "name": "stdout",
     "output_type": "stream",
     "text": [
      "i\n"
     ]
    }
   ],
   "source": [
    "## create reverse_word_index\n",
    "reverse_word_index = {}\n",
    "for word, i in word_index.items():\n",
    "    reverse_word_index[i] = word\n",
    "print(reverse_word_index[1])"
   ]
  },
  {
   "cell_type": "markdown",
   "metadata": {},
   "source": [
    "## Change Sentences to Sequences"
   ]
  },
  {
   "cell_type": "code",
   "execution_count": 6,
   "metadata": {},
   "outputs": [
    {
     "name": "stdout",
     "output_type": "stream",
     "text": [
      "[  0   0 346  22  26   2  79]\n"
     ]
    }
   ],
   "source": [
    "sequences = tokenizer.texts_to_sequences(sentences)\n",
    "padded_seq = pad_sequences(sequences, padding=PADDING, truncating=TRUNC, maxlen=MAXLEN)\n",
    "print(padded_seq[0])"
   ]
  },
  {
   "cell_type": "markdown",
   "metadata": {},
   "source": [
    "## Extract trainX and trainY from sequences"
   ]
  },
  {
   "cell_type": "code",
   "execution_count": 7,
   "metadata": {},
   "outputs": [
    {
     "name": "stdout",
     "output_type": "stream",
     "text": [
      "(824, 7)\n",
      "(824, 7, 665)\n"
     ]
    }
   ],
   "source": [
    "trainX = padded_seq[:-1,:]\n",
    "trainY = padded_seq[1:,:]\n",
    "\n",
    "INP_LEN = trainX.shape[1]\n",
    "OUT_LEN = trainY.shape[1]\n",
    "trainY = tf.keras.utils.to_categorical(trainY, num_classes=total_words)\n",
    "\n",
    "print(trainX.shape)\n",
    "print(trainY.shape)"
   ]
  },
  {
   "cell_type": "code",
   "execution_count": 8,
   "metadata": {},
   "outputs": [
    {
     "name": "stdout",
     "output_type": "stream",
     "text": [
      "[  0   0  10 267  22  33 347]\n",
      "[[1. 0. 0. ... 0. 0. 0.]\n",
      " [1. 0. 0. ... 0. 0. 0.]\n",
      " [0. 0. 0. ... 0. 0. 0.]\n",
      " ...\n",
      " [0. 0. 0. ... 0. 0. 0.]\n",
      " [0. 0. 0. ... 0. 0. 0.]\n",
      " [0. 0. 0. ... 0. 0. 0.]]\n"
     ]
    }
   ],
   "source": [
    "print(padded_seq[1])\n",
    "print(trainY[0])"
   ]
  },
  {
   "cell_type": "markdown",
   "metadata": {},
   "source": [
    "## Define Callback"
   ]
  },
  {
   "cell_type": "code",
   "execution_count": 9,
   "metadata": {},
   "outputs": [],
   "source": [
    "class myCallback(tf.keras.callbacks.Callback):\n",
    "    def on_epoch_end(self, epochs, log={}):\n",
    "        if (log.get('acc')>0.90):\n",
    "            self.model.stop_training = True\n",
    "            print(\"\\n Stopped training since model reached accuracy of 90%\")\n",
    "callback = myCallback()"
   ]
  },
  {
   "cell_type": "markdown",
   "metadata": {},
   "source": [
    "## Define Model"
   ]
  },
  {
   "cell_type": "code",
   "execution_count": 10,
   "metadata": {},
   "outputs": [
    {
     "name": "stdout",
     "output_type": "stream",
     "text": [
      "\n",
      "Model not loaded. Building new...\n",
      "WARNING:tensorflow:From C:\\Users\\XARC\\Anaconda3\\lib\\site-packages\\tensorflow\\python\\ops\\resource_variable_ops.py:435: colocate_with (from tensorflow.python.framework.ops) is deprecated and will be removed in a future version.\n",
      "Instructions for updating:\n",
      "Colocations handled automatically by placer.\n"
     ]
    }
   ],
   "source": [
    "LOAD_MODEL = True\n",
    "\n",
    "if LOAD_MODEL == True:\n",
    "    try:\n",
    "        model = tf.keras.models.load_model(model_name)\n",
    "        print(\"\\nModel loaded successfully\")\n",
    "    except:\n",
    "        print(\"\\nModel not loaded. Building new...\")\n",
    "        LOAD_MODEL = False\n",
    "if LOAD_MODEL == False:\n",
    "    model = tf.keras.models.Sequential([\n",
    "        tf.keras.layers.Embedding(total_words, EMB_DIM, input_length=INP_LEN),\n",
    "        tf.keras.layers.Bidirectional(tf.keras.layers.LSTM(128, return_sequences=True)),\n",
    "        tf.keras.layers.Bidirectional(tf.keras.layers.LSTM(64, return_sequences=True)),\n",
    "        tf.keras.layers.Dense(total_words, activation='softmax')\n",
    "    ])\n",
    "    "
   ]
  },
  {
   "cell_type": "code",
   "execution_count": 11,
   "metadata": {},
   "outputs": [
    {
     "name": "stdout",
     "output_type": "stream",
     "text": [
      "_________________________________________________________________\n",
      "Layer (type)                 Output Shape              Param #   \n",
      "=================================================================\n",
      "embedding (Embedding)        (None, 7, 128)            85120     \n",
      "_________________________________________________________________\n",
      "bidirectional (Bidirectional (None, 7, 256)            263168    \n",
      "_________________________________________________________________\n",
      "bidirectional_1 (Bidirection (None, 7, 128)            164352    \n",
      "_________________________________________________________________\n",
      "dense (Dense)                (None, 7, 665)            85785     \n",
      "=================================================================\n",
      "Total params: 598,425\n",
      "Trainable params: 598,425\n",
      "Non-trainable params: 0\n",
      "_________________________________________________________________\n"
     ]
    }
   ],
   "source": [
    "model.compile(optimizer=OPTIMIZER, loss=LOSS, metrics=METRICS)\n",
    "model.summary()"
   ]
  },
  {
   "cell_type": "markdown",
   "metadata": {},
   "source": [
    "## Train Model"
   ]
  },
  {
   "cell_type": "code",
   "execution_count": 12,
   "metadata": {
    "scrolled": false
   },
   "outputs": [
    {
     "name": "stdout",
     "output_type": "stream",
     "text": [
      "Train on 741 samples, validate on 83 samples\n",
      "WARNING:tensorflow:From C:\\Users\\XARC\\Anaconda3\\lib\\site-packages\\tensorflow\\python\\ops\\math_ops.py:3066: to_int32 (from tensorflow.python.ops.math_ops) is deprecated and will be removed in a future version.\n",
      "Instructions for updating:\n",
      "Use tf.cast instead.\n",
      "WARNING:tensorflow:From C:\\Users\\XARC\\Anaconda3\\lib\\site-packages\\tensorflow\\python\\ops\\math_grad.py:102: div (from tensorflow.python.ops.math_ops) is deprecated and will be removed in a future version.\n",
      "Instructions for updating:\n",
      "Deprecated in favor of operator or tf.math.divide.\n",
      "Epoch 1/100\n",
      "741/741 [==============================] - 6s 9ms/sample - loss: 6.4914 - acc: 0.1631 - val_loss: 6.4793 - val_acc: 0.1566\n",
      "Epoch 2/100\n",
      "741/741 [==============================] - 1s 1ms/sample - loss: 6.4343 - acc: 0.2061 - val_loss: 6.3910 - val_acc: 0.1566\n",
      "Epoch 3/100\n",
      "741/741 [==============================] - 1s 1ms/sample - loss: 6.1581 - acc: 0.2061 - val_loss: 5.9833 - val_acc: 0.1566\n",
      "Epoch 4/100\n",
      "741/741 [==============================] - 1s 1ms/sample - loss: 5.3422 - acc: 0.2061 - val_loss: 5.4617 - val_acc: 0.1566\n",
      "Epoch 5/100\n",
      "741/741 [==============================] - 1s 1ms/sample - loss: 4.8866 - acc: 0.2061 - val_loss: 5.5241 - val_acc: 0.1566\n",
      "Epoch 6/100\n",
      "741/741 [==============================] - 1s 1ms/sample - loss: 4.6931 - acc: 0.2061 - val_loss: 5.4800 - val_acc: 0.1566\n",
      "Epoch 7/100\n",
      "741/741 [==============================] - 1s 1ms/sample - loss: 4.6385 - acc: 0.2113 - val_loss: 5.5280 - val_acc: 0.1532\n",
      "Epoch 8/100\n",
      "741/741 [==============================] - 1s 1ms/sample - loss: 4.6150 - acc: 0.2200 - val_loss: 5.5772 - val_acc: 0.1532\n",
      "Epoch 9/100\n",
      "741/741 [==============================] - 1s 1ms/sample - loss: 4.5852 - acc: 0.2204 - val_loss: 5.6201 - val_acc: 0.1532\n",
      "Epoch 10/100\n",
      "741/741 [==============================] - 1s 1ms/sample - loss: 4.5632 - acc: 0.2204 - val_loss: 5.6451 - val_acc: 0.1532\n",
      "Epoch 11/100\n",
      "741/741 [==============================] - 1s 1ms/sample - loss: 4.5405 - acc: 0.2204 - val_loss: 5.6798 - val_acc: 0.1497\n",
      "Epoch 12/100\n",
      "741/741 [==============================] - 1s 1ms/sample - loss: 4.5214 - acc: 0.2206 - val_loss: 5.7247 - val_acc: 0.1480\n",
      "Epoch 13/100\n",
      "741/741 [==============================] - 1s 1ms/sample - loss: 4.5020 - acc: 0.2217 - val_loss: 5.7624 - val_acc: 0.1463\n",
      "Epoch 14/100\n",
      "741/741 [==============================] - 1s 1ms/sample - loss: 4.4833 - acc: 0.2227 - val_loss: 5.7845 - val_acc: 0.1394\n",
      "Epoch 15/100\n",
      "741/741 [==============================] - 1s 2ms/sample - loss: 4.4654 - acc: 0.2236 - val_loss: 5.8016 - val_acc: 0.1377\n",
      "Epoch 16/100\n",
      "741/741 [==============================] - 1s 1ms/sample - loss: 4.4489 - acc: 0.2248 - val_loss: 5.8169 - val_acc: 0.1360\n",
      "Epoch 17/100\n",
      "741/741 [==============================] - 1s 1ms/sample - loss: 4.4328 - acc: 0.2256 - val_loss: 5.8321 - val_acc: 0.1360\n",
      "Epoch 18/100\n",
      "741/741 [==============================] - 1s 2ms/sample - loss: 4.4178 - acc: 0.2267 - val_loss: 5.8498 - val_acc: 0.1360\n",
      "Epoch 19/100\n",
      "741/741 [==============================] - 1s 1ms/sample - loss: 4.4038 - acc: 0.2277 - val_loss: 5.8713 - val_acc: 0.1325\n",
      "Epoch 20/100\n",
      "741/741 [==============================] - 1s 1ms/sample - loss: 4.3901 - acc: 0.2281 - val_loss: 5.8945 - val_acc: 0.1325\n",
      "Epoch 21/100\n",
      "741/741 [==============================] - 1s 1ms/sample - loss: 4.3768 - acc: 0.2281 - val_loss: 5.9180 - val_acc: 0.1291\n",
      "Epoch 22/100\n",
      "741/741 [==============================] - 1s 1ms/sample - loss: 4.3640 - acc: 0.2290 - val_loss: 5.9416 - val_acc: 0.1291\n",
      "Epoch 23/100\n",
      "741/741 [==============================] - 1s 1ms/sample - loss: 4.3517 - acc: 0.2296 - val_loss: 5.9653 - val_acc: 0.1274\n",
      "Epoch 24/100\n",
      "741/741 [==============================] - 1s 1ms/sample - loss: 4.3400 - acc: 0.2306 - val_loss: 5.9878 - val_acc: 0.1291\n",
      "Epoch 25/100\n",
      "741/741 [==============================] - 1s 1ms/sample - loss: 4.3285 - acc: 0.2321 - val_loss: 6.0095 - val_acc: 0.1291\n",
      "Epoch 26/100\n",
      "741/741 [==============================] - 1s 1ms/sample - loss: 4.3173 - acc: 0.2333 - val_loss: 6.0310 - val_acc: 0.1291\n",
      "Epoch 27/100\n",
      "741/741 [==============================] - 1s 1ms/sample - loss: 4.3061 - acc: 0.2344 - val_loss: 6.0510 - val_acc: 0.1308\n",
      "Epoch 28/100\n",
      "741/741 [==============================] - 1s 1ms/sample - loss: 4.2950 - acc: 0.2366 - val_loss: 6.0690 - val_acc: 0.1291\n",
      "Epoch 29/100\n",
      "741/741 [==============================] - 1s 1ms/sample - loss: 4.2839 - acc: 0.2373 - val_loss: 6.0873 - val_acc: 0.1274\n",
      "Epoch 30/100\n",
      "741/741 [==============================] - 1s 1ms/sample - loss: 4.2726 - acc: 0.2377 - val_loss: 6.1033 - val_acc: 0.1274\n",
      "Epoch 31/100\n",
      "741/741 [==============================] - 1s 1ms/sample - loss: 4.2611 - acc: 0.2396 - val_loss: 6.1179 - val_acc: 0.1291\n",
      "Epoch 32/100\n",
      "741/741 [==============================] - 1s 1ms/sample - loss: 4.2500 - acc: 0.2400 - val_loss: 6.1345 - val_acc: 0.1256\n",
      "Epoch 33/100\n",
      "741/741 [==============================] - 1s 1ms/sample - loss: 4.2384 - acc: 0.2408 - val_loss: 6.1501 - val_acc: 0.1274\n",
      "Epoch 34/100\n",
      "741/741 [==============================] - 1s 1ms/sample - loss: 4.2287 - acc: 0.2408 - val_loss: 6.1674 - val_acc: 0.1205\n",
      "Epoch 35/100\n",
      "741/741 [==============================] - 1s 1ms/sample - loss: 4.2193 - acc: 0.2421 - val_loss: 6.1835 - val_acc: 0.1256\n",
      "Epoch 36/100\n",
      "741/741 [==============================] - 1s 1ms/sample - loss: 4.2152 - acc: 0.2394 - val_loss: 6.1947 - val_acc: 0.1136\n",
      "Epoch 37/100\n",
      "741/741 [==============================] - 1s 1ms/sample - loss: 4.2173 - acc: 0.2414 - val_loss: 6.2200 - val_acc: 0.1205\n",
      "Epoch 38/100\n",
      "741/741 [==============================] - 1s 1ms/sample - loss: 4.1998 - acc: 0.2427 - val_loss: 6.2257 - val_acc: 0.1153\n",
      "Epoch 39/100\n",
      "741/741 [==============================] - 1s 1ms/sample - loss: 4.1774 - acc: 0.2420 - val_loss: 6.2370 - val_acc: 0.1153\n",
      "Epoch 40/100\n",
      "741/741 [==============================] - 1s 1ms/sample - loss: 4.1622 - acc: 0.2466 - val_loss: 6.2563 - val_acc: 0.1153\n",
      "Epoch 41/100\n",
      "741/741 [==============================] - 1s 1ms/sample - loss: 4.1462 - acc: 0.2450 - val_loss: 6.2770 - val_acc: 0.1136\n",
      "Epoch 42/100\n",
      "741/741 [==============================] - 1s 1ms/sample - loss: 4.1341 - acc: 0.2454 - val_loss: 6.2926 - val_acc: 0.1136\n",
      "Epoch 43/100\n",
      "741/741 [==============================] - 1s 1ms/sample - loss: 4.1220 - acc: 0.2458 - val_loss: 6.3078 - val_acc: 0.1084\n",
      "Epoch 44/100\n",
      "741/741 [==============================] - 1s 1ms/sample - loss: 4.1111 - acc: 0.2475 - val_loss: 6.3202 - val_acc: 0.1102\n",
      "Epoch 45/100\n",
      "741/741 [==============================] - 1s 1ms/sample - loss: 4.1012 - acc: 0.2493 - val_loss: 6.3435 - val_acc: 0.1119\n",
      "Epoch 46/100\n",
      "741/741 [==============================] - 1s 1ms/sample - loss: 4.0937 - acc: 0.2468 - val_loss: 6.3403 - val_acc: 0.1015\n",
      "Epoch 47/100\n",
      "741/741 [==============================] - 1s 1ms/sample - loss: 4.1002 - acc: 0.2481 - val_loss: 6.3781 - val_acc: 0.1067\n",
      "Epoch 48/100\n",
      "741/741 [==============================] - 1s 1ms/sample - loss: 4.0909 - acc: 0.2470 - val_loss: 6.3979 - val_acc: 0.1067\n",
      "Epoch 49/100\n",
      "741/741 [==============================] - 1s 1ms/sample - loss: 4.0728 - acc: 0.2485 - val_loss: 6.3817 - val_acc: 0.0998\n",
      "Epoch 50/100\n",
      "741/741 [==============================] - 1s 1ms/sample - loss: 4.0646 - acc: 0.2495 - val_loss: 6.4200 - val_acc: 0.1102\n",
      "Epoch 51/100\n",
      "741/741 [==============================] - 1s 1ms/sample - loss: 4.0378 - acc: 0.2497 - val_loss: 6.4129 - val_acc: 0.1050\n",
      "Epoch 52/100\n",
      "741/741 [==============================] - 1s 1ms/sample - loss: 4.0239 - acc: 0.2504 - val_loss: 6.4323 - val_acc: 0.1067\n",
      "Epoch 53/100\n",
      "741/741 [==============================] - 1s 1ms/sample - loss: 4.0109 - acc: 0.2512 - val_loss: 6.4523 - val_acc: 0.1050\n",
      "Epoch 54/100\n",
      "741/741 [==============================] - 1s 1ms/sample - loss: 3.9991 - acc: 0.2514 - val_loss: 6.4649 - val_acc: 0.1033\n",
      "Epoch 55/100\n",
      "741/741 [==============================] - 1s 1ms/sample - loss: 3.9895 - acc: 0.2518 - val_loss: 6.4707 - val_acc: 0.1015\n",
      "Epoch 56/100\n",
      "741/741 [==============================] - 1s 1ms/sample - loss: 3.9853 - acc: 0.2527 - val_loss: 6.5013 - val_acc: 0.1067\n",
      "Epoch 57/100\n"
     ]
    },
    {
     "name": "stdout",
     "output_type": "stream",
     "text": [
      "741/741 [==============================] - 1s 1ms/sample - loss: 3.9813 - acc: 0.2539 - val_loss: 6.5136 - val_acc: 0.1015\n",
      "Epoch 58/100\n",
      "741/741 [==============================] - 1s 1ms/sample - loss: 3.9849 - acc: 0.2504 - val_loss: 6.5000 - val_acc: 0.0895\n",
      "Epoch 59/100\n",
      "741/741 [==============================] - 1s 1ms/sample - loss: 3.9762 - acc: 0.2510 - val_loss: 6.5612 - val_acc: 0.0981\n",
      "Epoch 60/100\n",
      "741/741 [==============================] - 1s 1ms/sample - loss: 3.9572 - acc: 0.2522 - val_loss: 6.5372 - val_acc: 0.0912\n",
      "Epoch 61/100\n",
      "741/741 [==============================] - 1s 1ms/sample - loss: 3.9384 - acc: 0.2543 - val_loss: 6.5439 - val_acc: 0.0895\n",
      "Epoch 62/100\n",
      "741/741 [==============================] - 1s 1ms/sample - loss: 3.9180 - acc: 0.2547 - val_loss: 6.5680 - val_acc: 0.0895\n",
      "Epoch 63/100\n",
      "741/741 [==============================] - 1s 1ms/sample - loss: 3.9020 - acc: 0.2578 - val_loss: 6.5669 - val_acc: 0.0895\n",
      "Epoch 64/100\n",
      "741/741 [==============================] - 1s 1ms/sample - loss: 3.8914 - acc: 0.2599 - val_loss: 6.5795 - val_acc: 0.0929\n",
      "Epoch 65/100\n",
      "741/741 [==============================] - 1s 1ms/sample - loss: 3.8798 - acc: 0.2591 - val_loss: 6.6099 - val_acc: 0.0947\n",
      "Epoch 66/100\n",
      "741/741 [==============================] - 1s 1ms/sample - loss: 3.8705 - acc: 0.2587 - val_loss: 6.6066 - val_acc: 0.0929\n",
      "Epoch 67/100\n",
      "741/741 [==============================] - 1s 1ms/sample - loss: 3.8708 - acc: 0.2576 - val_loss: 6.5981 - val_acc: 0.0843\n",
      "Epoch 68/100\n",
      "741/741 [==============================] - 1s 1ms/sample - loss: 3.8754 - acc: 0.2591 - val_loss: 6.6614 - val_acc: 0.0929\n",
      "Epoch 69/100\n",
      "741/741 [==============================] - 1s 1ms/sample - loss: 3.8725 - acc: 0.2576 - val_loss: 6.6383 - val_acc: 0.0843\n",
      "Epoch 70/100\n",
      "741/741 [==============================] - 1s 1ms/sample - loss: 3.8540 - acc: 0.2580 - val_loss: 6.6340 - val_acc: 0.0878\n",
      "Epoch 71/100\n",
      "741/741 [==============================] - 1s 1ms/sample - loss: 3.8302 - acc: 0.2626 - val_loss: 6.6680 - val_acc: 0.0912\n",
      "Epoch 72/100\n",
      "741/741 [==============================] - 1s 1ms/sample - loss: 3.8148 - acc: 0.2597 - val_loss: 6.6541 - val_acc: 0.0912\n",
      "Epoch 73/100\n",
      "741/741 [==============================] - 1s 1ms/sample - loss: 3.7997 - acc: 0.2639 - val_loss: 6.6854 - val_acc: 0.0912\n",
      "Epoch 74/100\n",
      "741/741 [==============================] - 1s 1ms/sample - loss: 3.7844 - acc: 0.2634 - val_loss: 6.7035 - val_acc: 0.0947\n",
      "Epoch 75/100\n",
      "741/741 [==============================] - 1s 1ms/sample - loss: 3.7747 - acc: 0.2641 - val_loss: 6.7048 - val_acc: 0.0912\n",
      "Epoch 76/100\n",
      "741/741 [==============================] - 1s 1ms/sample - loss: 3.7639 - acc: 0.2651 - val_loss: 6.7287 - val_acc: 0.0826\n",
      "Epoch 77/100\n",
      "741/741 [==============================] - 1s 1ms/sample - loss: 3.7571 - acc: 0.2639 - val_loss: 6.7467 - val_acc: 0.0929\n",
      "Epoch 78/100\n",
      "741/741 [==============================] - 1s 1ms/sample - loss: 3.7524 - acc: 0.2655 - val_loss: 6.7381 - val_acc: 0.0912\n",
      "Epoch 79/100\n",
      "741/741 [==============================] - 1s 1ms/sample - loss: 3.7414 - acc: 0.2655 - val_loss: 6.7666 - val_acc: 0.0757\n",
      "Epoch 80/100\n",
      "741/741 [==============================] - 1s 1ms/sample - loss: 3.7500 - acc: 0.2630 - val_loss: 6.7767 - val_acc: 0.0929\n",
      "Epoch 81/100\n",
      "741/741 [==============================] - 1s 1ms/sample - loss: 3.7381 - acc: 0.2651 - val_loss: 6.7666 - val_acc: 0.0843\n",
      "Epoch 82/100\n",
      "741/741 [==============================] - 1s 2ms/sample - loss: 3.7167 - acc: 0.2659 - val_loss: 6.7828 - val_acc: 0.0826\n",
      "Epoch 83/100\n",
      "741/741 [==============================] - 1s 1ms/sample - loss: 3.7051 - acc: 0.2693 - val_loss: 6.7997 - val_acc: 0.0895\n",
      "Epoch 84/100\n",
      "741/741 [==============================] - 1s 1ms/sample - loss: 3.6868 - acc: 0.2691 - val_loss: 6.8085 - val_acc: 0.0843\n",
      "Epoch 85/100\n",
      "741/741 [==============================] - 1s 1ms/sample - loss: 3.6775 - acc: 0.2686 - val_loss: 6.8076 - val_acc: 0.0878\n",
      "Epoch 86/100\n",
      "741/741 [==============================] - 1s 1ms/sample - loss: 3.6654 - acc: 0.2691 - val_loss: 6.8334 - val_acc: 0.0878\n",
      "Epoch 87/100\n",
      "741/741 [==============================] - 1s 1ms/sample - loss: 3.6483 - acc: 0.2751 - val_loss: 6.8565 - val_acc: 0.0809\n",
      "Epoch 88/100\n",
      "741/741 [==============================] - 1s 1ms/sample - loss: 3.6445 - acc: 0.2699 - val_loss: 6.8524 - val_acc: 0.0809\n",
      "Epoch 89/100\n",
      "741/741 [==============================] - 1s 1ms/sample - loss: 3.6341 - acc: 0.2724 - val_loss: 6.8691 - val_acc: 0.0878\n",
      "Epoch 90/100\n",
      "741/741 [==============================] - 1s 1ms/sample - loss: 3.6210 - acc: 0.2751 - val_loss: 6.8922 - val_acc: 0.0792\n",
      "Epoch 91/100\n",
      "741/741 [==============================] - 1s 1ms/sample - loss: 3.6173 - acc: 0.2703 - val_loss: 6.8911 - val_acc: 0.0826\n",
      "Epoch 92/100\n",
      "741/741 [==============================] - 1s 1ms/sample - loss: 3.6001 - acc: 0.2759 - val_loss: 6.8989 - val_acc: 0.0895\n",
      "Epoch 93/100\n",
      "741/741 [==============================] - 1s 1ms/sample - loss: 3.5858 - acc: 0.2784 - val_loss: 6.9199 - val_acc: 0.0757\n",
      "Epoch 94/100\n",
      "741/741 [==============================] - 1s 1ms/sample - loss: 3.5773 - acc: 0.2761 - val_loss: 6.9264 - val_acc: 0.0809\n",
      "Epoch 95/100\n",
      "741/741 [==============================] - 1s 1ms/sample - loss: 3.5624 - acc: 0.2811 - val_loss: 6.9388 - val_acc: 0.0861\n",
      "Epoch 96/100\n",
      "741/741 [==============================] - 1s 1ms/sample - loss: 3.5502 - acc: 0.2822 - val_loss: 6.9509 - val_acc: 0.0792\n",
      "Epoch 97/100\n",
      "741/741 [==============================] - 1s 1ms/sample - loss: 3.5397 - acc: 0.2842 - val_loss: 6.9731 - val_acc: 0.0740\n",
      "Epoch 98/100\n",
      "741/741 [==============================] - 1s 1ms/sample - loss: 3.5244 - acc: 0.2826 - val_loss: 6.9646 - val_acc: 0.0878\n",
      "Epoch 99/100\n",
      "741/741 [==============================] - 1s 1ms/sample - loss: 3.5175 - acc: 0.2846 - val_loss: 6.9784 - val_acc: 0.0809\n",
      "Epoch 100/100\n",
      "741/741 [==============================] - 1s 1ms/sample - loss: 3.5074 - acc: 0.2871 - val_loss: 7.0067 - val_acc: 0.0723\n"
     ]
    }
   ],
   "source": [
    "history = model.fit(trainX, trainY, validation_split=VAL_SPLIT, verbose=1, epochs = EPOCHS, shuffle=False, batch_size=BATCH_SIZE, callbacks=[callback])"
   ]
  },
  {
   "cell_type": "markdown",
   "metadata": {},
   "source": [
    "## Save Model"
   ]
  },
  {
   "cell_type": "code",
   "execution_count": 16,
   "metadata": {},
   "outputs": [],
   "source": [
    "model.save(model_name)"
   ]
  },
  {
   "cell_type": "markdown",
   "metadata": {},
   "source": [
    "## Plot Results"
   ]
  },
  {
   "cell_type": "code",
   "execution_count": 13,
   "metadata": {},
   "outputs": [
    {
     "name": "stderr",
     "output_type": "stream",
     "text": [
      "C:\\Users\\XARC\\Anaconda3\\lib\\site-packages\\matplotlib\\legend.py:798: UserWarning: Legend does not support 'T' instances.\n",
      "A proxy artist may be used instead.\n",
      "See: http://matplotlib.org/users/legend_guide.html#creating-artists-specifically-for-adding-to-the-legend-aka-proxy-artists\n",
      "  \"aka-proxy-artists\".format(orig_handle)\n",
      "C:\\Users\\XARC\\Anaconda3\\lib\\site-packages\\matplotlib\\legend.py:798: UserWarning: Legend does not support 'r' instances.\n",
      "A proxy artist may be used instead.\n",
      "See: http://matplotlib.org/users/legend_guide.html#creating-artists-specifically-for-adding-to-the-legend-aka-proxy-artists\n",
      "  \"aka-proxy-artists\".format(orig_handle)\n",
      "C:\\Users\\XARC\\Anaconda3\\lib\\site-packages\\matplotlib\\legend.py:798: UserWarning: Legend does not support 'a' instances.\n",
      "A proxy artist may be used instead.\n",
      "See: http://matplotlib.org/users/legend_guide.html#creating-artists-specifically-for-adding-to-the-legend-aka-proxy-artists\n",
      "  \"aka-proxy-artists\".format(orig_handle)\n",
      "C:\\Users\\XARC\\Anaconda3\\lib\\site-packages\\matplotlib\\legend.py:798: UserWarning: Legend does not support 'i' instances.\n",
      "A proxy artist may be used instead.\n",
      "See: http://matplotlib.org/users/legend_guide.html#creating-artists-specifically-for-adding-to-the-legend-aka-proxy-artists\n",
      "  \"aka-proxy-artists\".format(orig_handle)\n",
      "C:\\Users\\XARC\\Anaconda3\\lib\\site-packages\\matplotlib\\legend.py:798: UserWarning: Legend does not support 'n' instances.\n",
      "A proxy artist may be used instead.\n",
      "See: http://matplotlib.org/users/legend_guide.html#creating-artists-specifically-for-adding-to-the-legend-aka-proxy-artists\n",
      "  \"aka-proxy-artists\".format(orig_handle)\n",
      "C:\\Users\\XARC\\Anaconda3\\lib\\site-packages\\matplotlib\\legend.py:798: UserWarning: Legend does not support ' ' instances.\n",
      "A proxy artist may be used instead.\n",
      "See: http://matplotlib.org/users/legend_guide.html#creating-artists-specifically-for-adding-to-the-legend-aka-proxy-artists\n",
      "  \"aka-proxy-artists\".format(orig_handle)\n",
      "C:\\Users\\XARC\\Anaconda3\\lib\\site-packages\\matplotlib\\legend.py:798: UserWarning: Legend does not support 'A' instances.\n",
      "A proxy artist may be used instead.\n",
      "See: http://matplotlib.org/users/legend_guide.html#creating-artists-specifically-for-adding-to-the-legend-aka-proxy-artists\n",
      "  \"aka-proxy-artists\".format(orig_handle)\n",
      "C:\\Users\\XARC\\Anaconda3\\lib\\site-packages\\matplotlib\\legend.py:798: UserWarning: Legend does not support 'L' instances.\n",
      "A proxy artist may be used instead.\n",
      "See: http://matplotlib.org/users/legend_guide.html#creating-artists-specifically-for-adding-to-the-legend-aka-proxy-artists\n",
      "  \"aka-proxy-artists\".format(orig_handle)\n",
      "C:\\Users\\XARC\\Anaconda3\\lib\\site-packages\\matplotlib\\legend.py:798: UserWarning: Legend does not support 'o' instances.\n",
      "A proxy artist may be used instead.\n",
      "See: http://matplotlib.org/users/legend_guide.html#creating-artists-specifically-for-adding-to-the-legend-aka-proxy-artists\n",
      "  \"aka-proxy-artists\".format(orig_handle)\n"
     ]
    },
    {
     "data": {
      "text/plain": [
       "<Figure size 432x288 with 0 Axes>"
      ]
     },
     "execution_count": 13,
     "metadata": {},
     "output_type": "execute_result"
    },
    {
     "data": {
      "image/png": "[encoded data removed]",
      "text/plain": [
       "<Figure size 432x288 with 1 Axes>"
      ]
     },
     "metadata": {
      "needs_background": "light"
     },
     "output_type": "display_data"
    },
    {
     "data": {
      "image/png": "[encoded data removed]",
      "text/plain": [
       "<Figure size 432x288 with 1 Axes>"
      ]
     },
     "metadata": {
      "needs_background": "light"
     },
     "output_type": "display_data"
    },
    {
     "data": {
      "text/plain": [
       "<Figure size 432x288 with 0 Axes>"
      ]
     },
     "metadata": {},
     "output_type": "display_data"
    }
   ],
   "source": [
    "acc = history.history['acc']\n",
    "val_acc = history.history['val_acc']\n",
    "\n",
    "loss = history.history['loss']\n",
    "val_loss = history.history['val_loss']\n",
    "\n",
    "epochs = range(EPOCHS)\n",
    "\n",
    "plt.plot(epochs, acc, 'r')\n",
    "plt.plot(epochs, val_acc, 'b')\n",
    "plt.xlabel('EPOCHS')\n",
    "plt.ylabel('Accuracies')\n",
    "plt.legend('Train Acc', 'Val Acc')\n",
    "plt.figure()\n",
    "\n",
    "plt.plot(epochs, loss, 'r')\n",
    "plt.plot(epochs, val_loss, 'b')\n",
    "plt.xlabel('EPOCHS')\n",
    "plt.ylabel('Losses')\n",
    "plt.legend('Train Loss', 'Val Loss')\n",
    "plt.figure()"
   ]
  },
  {
   "cell_type": "markdown",
   "metadata": {},
   "source": [
    "## Generate Poetry by iterating over the predictor from the model"
   ]
  },
  {
   "cell_type": "code",
   "execution_count": 14,
   "metadata": {},
   "outputs": [],
   "source": [
    "reverse_word_index[0] = ' '"
   ]
  },
  {
   "cell_type": "code",
   "execution_count": 15,
   "metadata": {},
   "outputs": [
    {
     "name": "stdout",
     "output_type": "stream",
     "text": [
      "hi, whats up\n",
      "how are you\n",
      "        you you you\n",
      "i i i \n",
      "  you you you to to weekend\n",
      "lets plaay on weekend\n",
      "      you you you you\n",
      "what the hell\n",
      "        you you you\n",
      "dont say you\n",
      "    i you you to you\n",
      "lol\n",
      "        you you you\n",
      "stop\n",
      "Bye, See ya later!!!\n"
     ]
    }
   ],
   "source": [
    "sentence = SEEDER.lower()\n",
    "corpus = SEEDER.lower()\n",
    "new_line = False\n",
    "print (sentence, end='\\n')\n",
    "\n",
    "sentence = input()\n",
    "while(sentence != 'stop'):\n",
    "    corpus += '\\n' + sentence\n",
    "    seq = tokenizer.texts_to_sequences([sentence])\n",
    "    seq = pad_sequences(seq, padding=PADDING, truncating=TRUNC, maxlen=INP_LEN)\n",
    "    pred_seq = model.predict(seq)\n",
    "    pred_seq = np.argmax(pred_seq, axis=2)\n",
    "    pred_sent = [reverse_word_index[x] for x in pred_seq[0]]\n",
    "    pred_sent = ' '.join(pred_sent)\n",
    "    print(pred_sent)\n",
    "    corpus += '\\n' + pred_sent\n",
    "    sentence = input()\n",
    "print (\"Bye, See ya later!!!\")\n"
   ]
  },
  {
   "cell_type": "markdown",
   "metadata": {},
   "source": [
    "## Save Poetry in a file"
   ]
  },
  {
   "cell_type": "code",
   "execution_count": 23,
   "metadata": {},
   "outputs": [],
   "source": [
    "try:\n",
    "    with open(save_file_path, 'w') as f:\n",
    "        f.write(corpus)\n",
    "        f.close()\n",
    "except:\n",
    "    print(\"\\nWrite was Unsuccessful\")"
   ]
  },
  {
   "cell_type": "code",
   "execution_count": null,
   "metadata": {},
   "outputs": [],
   "source": []
  },
  {
   "cell_type": "code",
   "execution_count": null,
   "metadata": {},
   "outputs": [],
   "source": []
  }
 ],
 "metadata": {
  "kernelspec": {
   "display_name": "Python 3",
   "language": "python",
   "name": "python3"
  },
  "language_info": {
   "codemirror_mode": {
    "name": "ipython",
    "version": 3
   },
   "file_extension": ".py",
   "mimetype": "text/x-python",
   "name": "python",
   "nbconvert_exporter": "python",
   "pygments_lexer": "ipython3",
   "version": "3.7.3"
  }
 },
 "nbformat": 4,
 "nbformat_minor": 2
}
