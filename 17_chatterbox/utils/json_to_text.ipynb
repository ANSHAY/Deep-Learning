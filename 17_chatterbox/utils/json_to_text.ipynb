{
 "cells": [
  {
   "cell_type": "code",
   "execution_count": 2,
   "metadata": {},
   "outputs": [],
   "source": [
    "input_file_path = \"..//data//chats.json\"\n",
    "output_file_path = \"..//data//chats.txt\""
   ]
  },
  {
   "cell_type": "code",
   "execution_count": 3,
   "metadata": {},
   "outputs": [],
   "source": [
    "import pandas as pd\n",
    "import re\n"
   ]
  },
  {
   "cell_type": "code",
   "execution_count": 4,
   "metadata": {},
   "outputs": [],
   "source": [
    "corpus = ''\n",
    "df = pd.read_json(input_file_path)\n",
    "\n",
    "## read data from json file into corpus\n",
    "#print(len(df['chats']['list']))\n",
    "for item in df['chats']['list']:\n",
    "    for m in item['messages']:\n",
    "        if m['type'] == 'message' and type(m['text'])==str:\n",
    "            corpus += m['text'] + '\\n'"
   ]
  },
  {
   "cell_type": "code",
   "execution_count": 5,
   "metadata": {},
   "outputs": [
    {
     "name": "stdout",
     "output_type": "stream",
     "text": [
      "I send you\n"
     ]
    }
   ],
   "source": [
    "print (corpus[:10])"
   ]
  },
  {
   "cell_type": "code",
   "execution_count": 7,
   "metadata": {},
   "outputs": [
    {
     "name": "stdout",
     "output_type": "stream",
     "text": [
      "I send you thst moaning audio\n",
      "ðŸ˜’\n",
      "What do you want?\n",
      "u deleted it all\n",
      "?\n",
      "Tello\n",
      "...........\n",
      "Ya\n",
      "U pe to hogi saved\n",
      "ðŸ˜³\n",
      "nooo\n",
      "ðŸ˜’ðŸ˜’\n",
      "I'll send again if u want\n",
      "i mean chatss\n",
      "Vo saara hi clear hogaya yar.. i just wanted to remove mediaðŸ¥º\n",
      "Do you have backup?\n",
      "u mera chutiya kyu banata h !!!!!!! u didnt even ask\n",
      "wtf\n",
      "ðŸ˜¡\n",
      "Sarry\n",
      "ðŸ¥º\n",
      "fuck off\n",
      "We'll message again\n",
      "seriouly\n",
      "I'm here u are here\n",
      "i dont wanna be now\n",
      "ðŸ¥º\n",
      "Kyooo\n",
      "u didnt even ask !!!!!!!!!!!!!!!!!!!!!!\n",
      "i m so mad rn\n",
      "Do you read those messages?\n",
      "\n",
      "--------------------------------------------------------------------\n",
      "I send you thst moaning audio\n",
      "ðŸ\n",
      "What do you want\n",
      "u deleted it all\n",
      "Tello\n",
      "Ya\n",
      "U pe to hogi saved\n",
      "ðŸ³\n",
      "nooo\n",
      "ðŸðŸ\n",
      "Ill send again if u want\n",
      "i mean chatss\n",
      "Vo saara hi clear hogaya yar i just wanted to remove mediaðŸº\n",
      "Do you have backup\n",
      "u mera chutiya kyu banata h  u didnt even ask\n",
      "wtf\n",
      "ðŸ\n",
      "Sarry\n",
      "ðŸº\n",
      "fuck off\n",
      "Well message again\n",
      "seriouly\n",
      "Im here u are here\n",
      "i dont wanna be now\n",
      "ðŸº\n",
      "Kyooo\n",
      "u didnt even ask \n",
      "i m so mad rn\n",
      "Do you read those messages\n",
      "such asshole\n",
      "Yar sach i was only trying to remove media\n",
      "Ya its \n"
     ]
    }
   ],
   "source": [
    "new_corpus = ''\n",
    "\n",
    "for c in corpus:\n",
    "    if c.isalnum() or c==' ' or c=='\\n':\n",
    "        new_corpus+=c\n",
    "new_corpus = new_corpus.replace(',', '\\n')\n",
    "new_corpus = new_corpus.replace('_', '\\n')\n",
    "new_corpus = new_corpus.replace('.', '\\n')\n",
    "new_corpus = new_corpus.replace(r'[\\n]*', '\\n')\n",
    "new_corpus = new_corpus.replace('\\n\\n', '\\n')\n",
    "print(corpus[:500])\n",
    "print('--------------------------------------------------------------------')\n",
    "print(new_corpus[:500])"
   ]
  },
  {
   "cell_type": "code",
   "execution_count": 8,
   "metadata": {},
   "outputs": [
    {
     "name": "stdout",
     "output_type": "stream",
     "text": [
      "\n",
      "Data fetched from ..//data//chats.json to ..//data//chats.txt\n",
      "\n"
     ]
    }
   ],
   "source": [
    "# return corpus\n",
    "with open(output_file_path, 'w+', encoding='utf-8') as f:\n",
    "    f.write(corpus)\n",
    "print(\"\\nData fetched from \"+input_file_path+' to '+output_file_path+'\\n')"
   ]
  },
  {
   "cell_type": "code",
   "execution_count": null,
   "metadata": {},
   "outputs": [],
   "source": []
  }
 ],
 "metadata": {
  "kernelspec": {
   "display_name": "Python 3.6.8 64-bit",
   "language": "python",
   "name": "python36864bit15d96c899f1a4ead9c7d2fa4d7a63f3a"
  },
  "language_info": {
   "codemirror_mode": {
    "name": "ipython",
    "version": 3
   },
   "file_extension": ".py",
   "mimetype": "text/x-python",
   "name": "python",
   "nbconvert_exporter": "python",
   "pygments_lexer": "ipython3",
   "version": "3.6.8"
  }
 },
 "nbformat": 4,
 "nbformat_minor": 4
}
