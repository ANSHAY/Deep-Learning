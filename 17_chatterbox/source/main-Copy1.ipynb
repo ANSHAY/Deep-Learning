{
 "cells": [
  {
   "cell_type": "markdown",
   "metadata": {},
   "source": [
    "# Chatty the chatterbox"
   ]
  },
  {
   "cell_type": "markdown",
   "metadata": {},
   "source": [
    "## Import Libraries"
   ]
  },
  {
   "cell_type": "code",
   "execution_count": 1,
   "metadata": {},
   "outputs": [],
   "source": [
    "import tensorflow as tf\n",
    "import matplotlib.pyplot as plt\n",
    "import random\n",
    "import numpy as np\n",
    "import time\n",
    "\n",
    "from tensorflow.keras.preprocessing.text import Tokenizer\n",
    "from tensorflow.keras.preprocessing.sequence import pad_sequences"
   ]
  },
  {
   "cell_type": "markdown",
   "metadata": {},
   "source": [
    "## Define Parameters"
   ]
  },
  {
   "cell_type": "code",
   "execution_count": 18,
   "metadata": {},
   "outputs": [],
   "source": [
    "data_path = \"..//data//chats.txt\"\n",
    "\n",
    "output_path = \"..//results//\"\n",
    "output_file_name = \"bots_chats\"\n",
    "\n",
    "files = [\"..//data//chats.txt\"]\n",
    "save_file_path = output_path + output_file_name\n",
    "\n",
    "PADDING = 'pre'\n",
    "TRUNC = 'pre'\n",
    "MAXLEN = 7\n",
    "\n",
    "VOCAB_SIZE = 10000\n",
    "EMB_DIM = 64\n",
    "\n",
    "OPTIMIZER = 'adam'\n",
    "LOSS = 'categorical_crossentropy'\n",
    "METRICS = ['acc']\n",
    "EPOCHS = 100\n",
    "BATCH_SIZE = 128\n",
    "VAL_SPLIT = 0.1\n",
    "\n",
    "SEEDER = 'Hi'    ## Seeder word to start prediction of poetry\n",
    "\n",
    "model_name = \"chats_telegram_model.h5\"\n",
    "\n",
    "data = \"This is some random statement \\n being used as placeholder for the actual data that is to be \\n imported later from a file.\""
   ]
  },
  {
   "cell_type": "markdown",
   "metadata": {},
   "source": [
    "## Load Data"
   ]
  },
  {
   "cell_type": "code",
   "execution_count": 19,
   "metadata": {},
   "outputs": [
    {
     "name": "stdout",
     "output_type": "stream",
     "text": [
      "314\n",
      "i send you thst moaning audio\n",
      "29\n"
     ]
    }
   ],
   "source": [
    "corpus = ''\n",
    "for file in files:\n",
    "    with open(file, encoding='utf-8') as f:\n",
    "        data = f.read()\n",
    "        corpus += data + '\\n'\n",
    "        f.close()\n",
    "#data = data.replace('\\n', ' \\n<>')\n",
    "sentences = corpus[:10000].lower().split('\\n')\n",
    "print(len(sentences))\n",
    "print(sentences[0])\n",
    "print(len(sentences[0]))"
   ]
  },
  {
   "cell_type": "markdown",
   "metadata": {},
   "source": [
    "## Tokenize Data"
   ]
  },
  {
   "cell_type": "code",
   "execution_count": 20,
   "metadata": {},
   "outputs": [
    {
     "name": "stdout",
     "output_type": "stream",
     "text": [
      "811\n",
      "14\n"
     ]
    }
   ],
   "source": [
    "tokenizer = Tokenizer(filters='!\"#$%&()*+,-./:;<=>?@[\\\\]^_`{|}~\\t')\n",
    "tokenizer.fit_on_texts(sentences)\n",
    "word_index = tokenizer.word_index\n",
    "total_words = len(word_index) + 1\n",
    "VOCAB_SIZE = total_words\n",
    "print(total_words)\n",
    "print(word_index['a'])"
   ]
  },
  {
   "cell_type": "code",
   "execution_count": 21,
   "metadata": {},
   "outputs": [
    {
     "name": "stdout",
     "output_type": "stream",
     "text": [
      "u\n"
     ]
    }
   ],
   "source": [
    "## create reverse_word_index\n",
    "reverse_word_index = {}\n",
    "for word, i in word_index.items():\n",
    "    reverse_word_index[i] = word\n",
    "print(reverse_word_index[1])"
   ]
  },
  {
   "cell_type": "markdown",
   "metadata": {},
   "source": [
    "## Change Sentences to Sequences"
   ]
  },
  {
   "cell_type": "code",
   "execution_count": 22,
   "metadata": {},
   "outputs": [
    {
     "name": "stdout",
     "output_type": "stream",
     "text": [
      "[  0   2 160  11 283 284 285]\n"
     ]
    }
   ],
   "source": [
    "sequences = tokenizer.texts_to_sequences(sentences)\n",
    "padded_seq = pad_sequences(sequences, padding=PADDING, truncating=TRUNC, maxlen=MAXLEN)\n",
    "print(padded_seq[0])"
   ]
  },
  {
   "cell_type": "markdown",
   "metadata": {},
   "source": [
    "## Extract trainX and trainY from sequences"
   ]
  },
  {
   "cell_type": "code",
   "execution_count": 23,
   "metadata": {},
   "outputs": [
    {
     "name": "stdout",
     "output_type": "stream",
     "text": [
      "7\n",
      "7\n",
      "(313, 7)\n",
      "(313, 7, 811)\n"
     ]
    }
   ],
   "source": [
    "trainX = padded_seq[:-1,:]\n",
    "trainY = padded_seq[1:,:]\n",
    "\n",
    "INP_LEN = trainX.shape[1]\n",
    "OUT_LEN = trainY.shape[1]\n",
    "trainY = tf.keras.utils.to_categorical(trainY, num_classes=VOCAB_SIZE)\n",
    "\n",
    "print(INP_LEN)\n",
    "print(OUT_LEN)\n",
    "print(trainX.shape)\n",
    "print(trainY.shape)"
   ]
  },
  {
   "cell_type": "code",
   "execution_count": 24,
   "metadata": {},
   "outputs": [
    {
     "name": "stdout",
     "output_type": "stream",
     "text": [
      "[  0   0   0   0   0 168 310]\n",
      "[[1. 0. 0. ... 0. 0. 0.]\n",
      " [1. 0. 0. ... 0. 0. 0.]\n",
      " [1. 0. 0. ... 0. 0. 0.]\n",
      " ...\n",
      " [1. 0. 0. ... 0. 0. 0.]\n",
      " [1. 0. 0. ... 0. 0. 0.]\n",
      " [0. 0. 0. ... 0. 0. 0.]]\n"
     ]
    }
   ],
   "source": [
    "print(trainX[31])\n",
    "print(trainY[0])"
   ]
  },
  {
   "cell_type": "markdown",
   "metadata": {},
   "source": [
    "## Define Callback"
   ]
  },
  {
   "cell_type": "code",
   "execution_count": 25,
   "metadata": {},
   "outputs": [],
   "source": [
    "class myCallback(tf.keras.callbacks.Callback):\n",
    "    def on_epoch_end(self, epochs, log={}):\n",
    "        if (log.get('acc')>0.90):\n",
    "            self.model.stop_training = True\n",
    "            print(\"\\n Stopped training since model reached accuracy of 90%\")\n",
    "callback = myCallback()"
   ]
  },
  {
   "cell_type": "markdown",
   "metadata": {},
   "source": [
    "## Define Model"
   ]
  },
  {
   "cell_type": "code",
   "execution_count": 26,
   "metadata": {},
   "outputs": [],
   "source": [
    "LOAD_MODEL = False\n",
    "\n",
    "if LOAD_MODEL == True:\n",
    "    try:\n",
    "        model = tf.keras.models.load_model(model_name)\n",
    "        print(\"\\nModel loaded successfully\")\n",
    "    except:\n",
    "        print(\"\\nModel not loaded. Building new...\")\n",
    "        LOAD_MODEL = False\n",
    "if LOAD_MODEL == False:\n",
    "    model = tf.keras.models.Sequential([\n",
    "        tf.keras.layers.Embedding(VOCAB_SIZE, EMB_DIM, input_length=INP_LEN),\n",
    "        tf.keras.layers.Bidirectional(tf.keras.layers.LSTM(32, return_sequences=True)),\n",
    "        tf.keras.layers.Bidirectional(tf.keras.layers.LSTM(16, return_sequences=True)),\n",
    "        tf.keras.layers.Dense(VOCAB_SIZE, activation='softmax')\n",
    "    ])\n",
    "    "
   ]
  },
  {
   "cell_type": "code",
   "execution_count": 27,
   "metadata": {},
   "outputs": [
    {
     "name": "stdout",
     "output_type": "stream",
     "text": [
      "Model: \"sequential_1\"\n",
      "_________________________________________________________________\n",
      "Layer (type)                 Output Shape              Param #   \n",
      "=================================================================\n",
      "embedding_1 (Embedding)      (None, 7, 64)             51904     \n",
      "_________________________________________________________________\n",
      "bidirectional_2 (Bidirection (None, 7, 64)             24832     \n",
      "_________________________________________________________________\n",
      "bidirectional_3 (Bidirection (None, 7, 32)             10368     \n",
      "_________________________________________________________________\n",
      "dense_1 (Dense)              (None, 7, 811)            26763     \n",
      "=================================================================\n",
      "Total params: 113,867\n",
      "Trainable params: 113,867\n",
      "Non-trainable params: 0\n",
      "_________________________________________________________________\n"
     ]
    }
   ],
   "source": [
    "model.compile(optimizer=OPTIMIZER, loss=LOSS, metrics=METRICS)\n",
    "model.summary()"
   ]
  },
  {
   "cell_type": "markdown",
   "metadata": {},
   "source": [
    "## Train Model"
   ]
  },
  {
   "cell_type": "code",
   "execution_count": 28,
   "metadata": {
    "scrolled": false
   },
   "outputs": [
    {
     "name": "stdout",
     "output_type": "stream",
     "text": [
      "Epoch 1/100\n",
      "3/3 [==============================] - 2s 509ms/step - loss: 6.6960 - acc: 0.1149 - val_loss: 6.6912 - val_acc: 0.4375\n",
      "Epoch 2/100\n",
      "3/3 [==============================] - 0s 45ms/step - loss: 6.6872 - acc: 0.4814 - val_loss: 6.6836 - val_acc: 0.4375\n",
      "Epoch 3/100\n",
      "3/3 [==============================] - 0s 43ms/step - loss: 6.6764 - acc: 0.4825 - val_loss: 6.6737 - val_acc: 0.4375\n",
      "Epoch 4/100\n",
      "3/3 [==============================] - 0s 40ms/step - loss: 6.6622 - acc: 0.4825 - val_loss: 6.6604 - val_acc: 0.4375\n",
      "Epoch 5/100\n",
      "3/3 [==============================] - 0s 38ms/step - loss: 6.6425 - acc: 0.4825 - val_loss: 6.6419 - val_acc: 0.4375\n",
      "Epoch 6/100\n",
      "3/3 [==============================] - 0s 38ms/step - loss: 6.6144 - acc: 0.4825 - val_loss: 6.6156 - val_acc: 0.4375\n",
      "Epoch 7/100\n",
      "3/3 [==============================] - 0s 40ms/step - loss: 6.5733 - acc: 0.4825 - val_loss: 6.5775 - val_acc: 0.4375\n",
      "Epoch 8/100\n",
      "3/3 [==============================] - 0s 38ms/step - loss: 6.5129 - acc: 0.4825 - val_loss: 6.5225 - val_acc: 0.4375\n",
      "Epoch 9/100\n",
      "3/3 [==============================] - 0s 42ms/step - loss: 6.4247 - acc: 0.4825 - val_loss: 6.4451 - val_acc: 0.4375\n",
      "Epoch 10/100\n",
      "3/3 [==============================] - 0s 41ms/step - loss: 6.3006 - acc: 0.4825 - val_loss: 6.3412 - val_acc: 0.4375\n",
      "Epoch 11/100\n",
      "3/3 [==============================] - 0s 39ms/step - loss: 6.1378 - acc: 0.4825 - val_loss: 6.2119 - val_acc: 0.4375\n",
      "Epoch 12/100\n",
      "3/3 [==============================] - 0s 35ms/step - loss: 5.9449 - acc: 0.4825 - val_loss: 6.0636 - val_acc: 0.4375\n",
      "Epoch 13/100\n",
      "3/3 [==============================] - 0s 44ms/step - loss: 5.7393 - acc: 0.4825 - val_loss: 5.9058 - val_acc: 0.4375\n",
      "Epoch 14/100\n",
      "3/3 [==============================] - 0s 42ms/step - loss: 5.5359 - acc: 0.4825 - val_loss: 5.7493 - val_acc: 0.4375\n",
      "Epoch 15/100\n",
      "3/3 [==============================] - 0s 43ms/step - loss: 5.3410 - acc: 0.4825 - val_loss: 5.6019 - val_acc: 0.4375\n",
      "Epoch 16/100\n",
      "3/3 [==============================] - 0s 35ms/step - loss: 5.1571 - acc: 0.4825 - val_loss: 5.4671 - val_acc: 0.4375\n",
      "Epoch 17/100\n",
      "3/3 [==============================] - 0s 38ms/step - loss: 4.9868 - acc: 0.4825 - val_loss: 5.3455 - val_acc: 0.4375\n",
      "Epoch 18/100\n",
      "3/3 [==============================] - 0s 47ms/step - loss: 4.8319 - acc: 0.4825 - val_loss: 5.2364 - val_acc: 0.4375\n",
      "Epoch 19/100\n",
      "3/3 [==============================] - 0s 38ms/step - loss: 4.6921 - acc: 0.4825 - val_loss: 5.1386 - val_acc: 0.4375\n",
      "Epoch 20/100\n",
      "3/3 [==============================] - 0s 42ms/step - loss: 4.5660 - acc: 0.4825 - val_loss: 5.0506 - val_acc: 0.4375\n",
      "Epoch 21/100\n",
      "3/3 [==============================] - 0s 38ms/step - loss: 4.4519 - acc: 0.4825 - val_loss: 4.9715 - val_acc: 0.4375\n",
      "Epoch 22/100\n",
      "3/3 [==============================] - 0s 36ms/step - loss: 4.3482 - acc: 0.4825 - val_loss: 4.9004 - val_acc: 0.4375\n",
      "Epoch 23/100\n",
      "3/3 [==============================] - 0s 32ms/step - loss: 4.2543 - acc: 0.4825 - val_loss: 4.8371 - val_acc: 0.4375\n",
      "Epoch 24/100\n",
      "3/3 [==============================] - 0s 34ms/step - loss: 4.1698 - acc: 0.4825 - val_loss: 4.7818 - val_acc: 0.4375\n",
      "Epoch 25/100\n",
      "3/3 [==============================] - 0s 36ms/step - loss: 4.0945 - acc: 0.4825 - val_loss: 4.7344 - val_acc: 0.4375\n",
      "Epoch 26/100\n",
      "3/3 [==============================] - 0s 40ms/step - loss: 4.0286 - acc: 0.4825 - val_loss: 4.6951 - val_acc: 0.4375\n",
      "Epoch 27/100\n",
      "3/3 [==============================] - 0s 40ms/step - loss: 3.9717 - acc: 0.4825 - val_loss: 4.6637 - val_acc: 0.4375\n",
      "Epoch 28/100\n",
      "3/3 [==============================] - 0s 28ms/step - loss: 3.9236 - acc: 0.4825 - val_loss: 4.6397 - val_acc: 0.4375\n",
      "Epoch 29/100\n",
      "3/3 [==============================] - 0s 27ms/step - loss: 3.8836 - acc: 0.4825 - val_loss: 4.6226 - val_acc: 0.4375\n",
      "Epoch 30/100\n",
      "3/3 [==============================] - 0s 35ms/step - loss: 3.8507 - acc: 0.4825 - val_loss: 4.6113 - val_acc: 0.4375\n",
      "Epoch 31/100\n",
      "3/3 [==============================] - 0s 33ms/step - loss: 3.8241 - acc: 0.4825 - val_loss: 4.6050 - val_acc: 0.4375\n",
      "Epoch 32/100\n",
      "3/3 [==============================] - 0s 32ms/step - loss: 3.8025 - acc: 0.4825 - val_loss: 4.6025 - val_acc: 0.4375\n",
      "Epoch 33/100\n",
      "3/3 [==============================] - 0s 32ms/step - loss: 3.7848 - acc: 0.4825 - val_loss: 4.6029 - val_acc: 0.4375\n",
      "Epoch 34/100\n",
      "3/3 [==============================] - 0s 33ms/step - loss: 3.7699 - acc: 0.4825 - val_loss: 4.6052 - val_acc: 0.4375\n",
      "Epoch 35/100\n",
      "3/3 [==============================] - 0s 39ms/step - loss: 3.7570 - acc: 0.4825 - val_loss: 4.6087 - val_acc: 0.4375\n",
      "Epoch 36/100\n",
      "3/3 [==============================] - 0s 43ms/step - loss: 3.7461 - acc: 0.4825 - val_loss: 4.6129 - val_acc: 0.4375\n",
      "Epoch 37/100\n",
      "3/3 [==============================] - 0s 41ms/step - loss: 3.7365 - acc: 0.4825 - val_loss: 4.6175 - val_acc: 0.4375\n",
      "Epoch 38/100\n",
      "3/3 [==============================] - 0s 34ms/step - loss: 3.7272 - acc: 0.4825 - val_loss: 4.6219 - val_acc: 0.4375\n",
      "Epoch 39/100\n",
      "3/3 [==============================] - 0s 33ms/step - loss: 3.7177 - acc: 0.4825 - val_loss: 4.6259 - val_acc: 0.4375\n",
      "Epoch 40/100\n",
      "3/3 [==============================] - 0s 42ms/step - loss: 3.7082 - acc: 0.4825 - val_loss: 4.6293 - val_acc: 0.4375\n",
      "Epoch 41/100\n",
      "3/3 [==============================] - 0s 40ms/step - loss: 3.6986 - acc: 0.4825 - val_loss: 4.6320 - val_acc: 0.4375\n",
      "Epoch 42/100\n",
      "3/3 [==============================] - 0s 45ms/step - loss: 3.6889 - acc: 0.4825 - val_loss: 4.6343 - val_acc: 0.4375\n",
      "Epoch 43/100\n",
      "3/3 [==============================] - 0s 45ms/step - loss: 3.6789 - acc: 0.4825 - val_loss: 4.6363 - val_acc: 0.4375\n",
      "Epoch 44/100\n",
      "3/3 [==============================] - 0s 38ms/step - loss: 3.6689 - acc: 0.4825 - val_loss: 4.6383 - val_acc: 0.4375\n",
      "Epoch 45/100\n",
      "3/3 [==============================] - 0s 38ms/step - loss: 3.6588 - acc: 0.4825 - val_loss: 4.6405 - val_acc: 0.4375\n",
      "Epoch 46/100\n",
      "3/3 [==============================] - 0s 46ms/step - loss: 3.6491 - acc: 0.4825 - val_loss: 4.6429 - val_acc: 0.4375\n",
      "Epoch 47/100\n",
      "3/3 [==============================] - 0s 44ms/step - loss: 3.6398 - acc: 0.4825 - val_loss: 4.6454 - val_acc: 0.4375\n",
      "Epoch 48/100\n",
      "3/3 [==============================] - 0s 39ms/step - loss: 3.6305 - acc: 0.4825 - val_loss: 4.6480 - val_acc: 0.4375\n",
      "Epoch 49/100\n",
      "3/3 [==============================] - 0s 30ms/step - loss: 3.6209 - acc: 0.4825 - val_loss: 4.6506 - val_acc: 0.4375\n",
      "Epoch 50/100\n",
      "3/3 [==============================] - 0s 31ms/step - loss: 3.6113 - acc: 0.4825 - val_loss: 4.6533 - val_acc: 0.4375\n",
      "Epoch 51/100\n",
      "3/3 [==============================] - 0s 34ms/step - loss: 3.6018 - acc: 0.4825 - val_loss: 4.6563 - val_acc: 0.4375\n",
      "Epoch 52/100\n",
      "3/3 [==============================] - 0s 31ms/step - loss: 3.5917 - acc: 0.4825 - val_loss: 4.6596 - val_acc: 0.4375\n",
      "Epoch 53/100\n",
      "3/3 [==============================] - 0s 35ms/step - loss: 3.5812 - acc: 0.4825 - val_loss: 4.6628 - val_acc: 0.4375\n",
      "Epoch 54/100\n",
      "3/3 [==============================] - 0s 34ms/step - loss: 3.5702 - acc: 0.4825 - val_loss: 4.6655 - val_acc: 0.4375\n",
      "Epoch 55/100\n",
      "3/3 [==============================] - 0s 43ms/step - loss: 3.5587 - acc: 0.4825 - val_loss: 4.6678 - val_acc: 0.4375\n",
      "Epoch 56/100\n",
      "3/3 [==============================] - 0s 38ms/step - loss: 3.5467 - acc: 0.4825 - val_loss: 4.6695 - val_acc: 0.4375\n",
      "Epoch 57/100\n",
      "3/3 [==============================] - 0s 38ms/step - loss: 3.5355 - acc: 0.4825 - val_loss: 4.6733 - val_acc: 0.4375\n",
      "Epoch 58/100\n",
      "3/3 [==============================] - 0s 39ms/step - loss: 3.5255 - acc: 0.4825 - val_loss: 4.6814 - val_acc: 0.4375\n",
      "Epoch 59/100\n",
      "3/3 [==============================] - 0s 39ms/step - loss: 3.5136 - acc: 0.4825 - val_loss: 4.6901 - val_acc: 0.4375\n",
      "Epoch 60/100\n",
      "3/3 [==============================] - 0s 36ms/step - loss: 3.5029 - acc: 0.4825 - val_loss: 4.6977 - val_acc: 0.4375\n",
      "Epoch 61/100\n",
      "3/3 [==============================] - 0s 38ms/step - loss: 3.4925 - acc: 0.4825 - val_loss: 4.7044 - val_acc: 0.4375\n",
      "Epoch 62/100\n",
      "3/3 [==============================] - 0s 42ms/step - loss: 3.4821 - acc: 0.4825 - val_loss: 4.7109 - val_acc: 0.4375\n",
      "Epoch 63/100\n"
     ]
    },
    {
     "name": "stdout",
     "output_type": "stream",
     "text": [
      "3/3 [==============================] - 0s 39ms/step - loss: 3.4722 - acc: 0.4825 - val_loss: 4.7186 - val_acc: 0.4375\n",
      "Epoch 64/100\n",
      "3/3 [==============================] - 0s 35ms/step - loss: 3.4629 - acc: 0.4825 - val_loss: 4.7281 - val_acc: 0.4375\n",
      "Epoch 65/100\n",
      "3/3 [==============================] - 0s 38ms/step - loss: 3.4533 - acc: 0.4825 - val_loss: 4.7387 - val_acc: 0.4375\n",
      "Epoch 66/100\n",
      "3/3 [==============================] - 0s 39ms/step - loss: 3.4437 - acc: 0.4825 - val_loss: 4.7496 - val_acc: 0.4375\n",
      "Epoch 67/100\n",
      "3/3 [==============================] - 0s 40ms/step - loss: 3.4345 - acc: 0.4825 - val_loss: 4.7604 - val_acc: 0.4375\n",
      "Epoch 68/100\n",
      "3/3 [==============================] - 0s 34ms/step - loss: 3.4253 - acc: 0.4825 - val_loss: 4.7711 - val_acc: 0.4375\n",
      "Epoch 69/100\n",
      "3/3 [==============================] - 0s 34ms/step - loss: 3.4161 - acc: 0.4825 - val_loss: 4.7820 - val_acc: 0.4375\n",
      "Epoch 70/100\n",
      "3/3 [==============================] - 0s 37ms/step - loss: 3.4071 - acc: 0.4825 - val_loss: 4.7931 - val_acc: 0.4375\n",
      "Epoch 71/100\n",
      "3/3 [==============================] - 0s 36ms/step - loss: 3.3980 - acc: 0.4825 - val_loss: 4.8045 - val_acc: 0.4375\n",
      "Epoch 72/100\n",
      "3/3 [==============================] - 0s 37ms/step - loss: 3.3892 - acc: 0.4825 - val_loss: 4.8160 - val_acc: 0.4375\n",
      "Epoch 73/100\n",
      "3/3 [==============================] - 0s 36ms/step - loss: 3.3809 - acc: 0.4825 - val_loss: 4.8284 - val_acc: 0.4375\n",
      "Epoch 74/100\n",
      "3/3 [==============================] - 0s 36ms/step - loss: 3.3727 - acc: 0.4825 - val_loss: 4.8421 - val_acc: 0.4375\n",
      "Epoch 75/100\n",
      "3/3 [==============================] - 0s 36ms/step - loss: 3.3643 - acc: 0.4825 - val_loss: 4.8566 - val_acc: 0.4375\n",
      "Epoch 76/100\n",
      "3/3 [==============================] - 0s 34ms/step - loss: 3.3558 - acc: 0.4825 - val_loss: 4.8712 - val_acc: 0.4375\n",
      "Epoch 77/100\n",
      "3/3 [==============================] - 0s 35ms/step - loss: 3.3475 - acc: 0.4825 - val_loss: 4.8851 - val_acc: 0.4375\n",
      "Epoch 78/100\n",
      "3/3 [==============================] - 0s 42ms/step - loss: 3.3393 - acc: 0.4825 - val_loss: 4.8972 - val_acc: 0.4375\n",
      "Epoch 79/100\n",
      "3/3 [==============================] - 0s 39ms/step - loss: 3.3309 - acc: 0.4825 - val_loss: 4.9076 - val_acc: 0.4375\n",
      "Epoch 80/100\n",
      "3/3 [==============================] - 0s 33ms/step - loss: 3.3229 - acc: 0.4830 - val_loss: 4.9168 - val_acc: 0.4375\n",
      "Epoch 81/100\n",
      "3/3 [==============================] - 0s 32ms/step - loss: 3.3152 - acc: 0.4830 - val_loss: 4.9246 - val_acc: 0.4375\n",
      "Epoch 82/100\n",
      "3/3 [==============================] - 0s 36ms/step - loss: 3.3075 - acc: 0.4830 - val_loss: 4.9319 - val_acc: 0.4375\n",
      "Epoch 83/100\n",
      "3/3 [==============================] - 0s 35ms/step - loss: 3.3000 - acc: 0.4830 - val_loss: 4.9393 - val_acc: 0.4375\n",
      "Epoch 84/100\n",
      "3/3 [==============================] - 0s 33ms/step - loss: 3.2927 - acc: 0.4830 - val_loss: 4.9471 - val_acc: 0.4375\n",
      "Epoch 85/100\n",
      "3/3 [==============================] - 0s 35ms/step - loss: 3.2854 - acc: 0.4830 - val_loss: 4.9546 - val_acc: 0.4375\n",
      "Epoch 86/100\n",
      "3/3 [==============================] - 0s 33ms/step - loss: 3.2785 - acc: 0.4830 - val_loss: 4.9626 - val_acc: 0.4375\n",
      "Epoch 87/100\n",
      "3/3 [==============================] - 0s 35ms/step - loss: 3.2718 - acc: 0.4830 - val_loss: 4.9702 - val_acc: 0.4375\n",
      "Epoch 88/100\n",
      "3/3 [==============================] - 0s 33ms/step - loss: 3.2653 - acc: 0.4830 - val_loss: 4.9781 - val_acc: 0.4375\n",
      "Epoch 89/100\n",
      "3/3 [==============================] - 0s 35ms/step - loss: 3.2583 - acc: 0.4830 - val_loss: 4.9862 - val_acc: 0.4375\n",
      "Epoch 90/100\n",
      "3/3 [==============================] - 0s 34ms/step - loss: 3.2522 - acc: 0.4830 - val_loss: 4.9938 - val_acc: 0.4375\n",
      "Epoch 91/100\n",
      "3/3 [==============================] - 0s 42ms/step - loss: 3.2459 - acc: 0.4830 - val_loss: 5.0024 - val_acc: 0.4375\n",
      "Epoch 92/100\n",
      "3/3 [==============================] - 0s 41ms/step - loss: 3.2396 - acc: 0.4830 - val_loss: 5.0104 - val_acc: 0.4375\n",
      "Epoch 93/100\n",
      "3/3 [==============================] - 0s 36ms/step - loss: 3.2338 - acc: 0.4830 - val_loss: 5.0187 - val_acc: 0.4375\n",
      "Epoch 94/100\n",
      "3/3 [==============================] - 0s 34ms/step - loss: 3.2276 - acc: 0.4830 - val_loss: 5.0274 - val_acc: 0.4375\n",
      "Epoch 95/100\n",
      "3/3 [==============================] - 0s 32ms/step - loss: 3.2218 - acc: 0.4830 - val_loss: 5.0361 - val_acc: 0.4375\n",
      "Epoch 96/100\n",
      "3/3 [==============================] - 0s 35ms/step - loss: 3.2162 - acc: 0.4830 - val_loss: 5.0447 - val_acc: 0.4375\n",
      "Epoch 97/100\n",
      "3/3 [==============================] - 0s 40ms/step - loss: 3.2103 - acc: 0.4830 - val_loss: 5.0531 - val_acc: 0.4375\n",
      "Epoch 98/100\n",
      "3/3 [==============================] - 0s 42ms/step - loss: 3.2046 - acc: 0.4830 - val_loss: 5.0619 - val_acc: 0.4375\n",
      "Epoch 99/100\n",
      "3/3 [==============================] - 0s 39ms/step - loss: 3.1987 - acc: 0.4830 - val_loss: 5.0702 - val_acc: 0.4375\n",
      "Epoch 100/100\n",
      "3/3 [==============================] - 0s 37ms/step - loss: 3.1931 - acc: 0.4830 - val_loss: 5.0789 - val_acc: 0.4375\n"
     ]
    }
   ],
   "source": [
    "history = model.fit(trainX, trainY, validation_split=VAL_SPLIT, verbose=1, epochs = EPOCHS, shuffle=False, batch_size=BATCH_SIZE, callbacks=[callback])"
   ]
  },
  {
   "cell_type": "markdown",
   "metadata": {},
   "source": [
    "## Save Model"
   ]
  },
  {
   "cell_type": "code",
   "execution_count": 29,
   "metadata": {},
   "outputs": [],
   "source": [
    "model.save(model_name)"
   ]
  },
  {
   "cell_type": "markdown",
   "metadata": {},
   "source": [
    "## Plot Results"
   ]
  },
  {
   "cell_type": "code",
   "execution_count": 30,
   "metadata": {},
   "outputs": [
    {
     "name": "stderr",
     "output_type": "stream",
     "text": [
      "C:\\Users\\XARC\\AppData\\Local\\Programs\\Python\\Python36\\lib\\site-packages\\ipykernel_launcher.py:13: UserWarning: Legend does not support 'T' instances.\n",
      "A proxy artist may be used instead.\n",
      "See: http://matplotlib.org/users/legend_guide.html#creating-artists-specifically-for-adding-to-the-legend-aka-proxy-artists\n",
      "  del sys.path[0]\n",
      "C:\\Users\\XARC\\AppData\\Local\\Programs\\Python\\Python36\\lib\\site-packages\\ipykernel_launcher.py:13: UserWarning: Legend does not support 'r' instances.\n",
      "A proxy artist may be used instead.\n",
      "See: http://matplotlib.org/users/legend_guide.html#creating-artists-specifically-for-adding-to-the-legend-aka-proxy-artists\n",
      "  del sys.path[0]\n",
      "C:\\Users\\XARC\\AppData\\Local\\Programs\\Python\\Python36\\lib\\site-packages\\ipykernel_launcher.py:13: UserWarning: Legend does not support 'a' instances.\n",
      "A proxy artist may be used instead.\n",
      "See: http://matplotlib.org/users/legend_guide.html#creating-artists-specifically-for-adding-to-the-legend-aka-proxy-artists\n",
      "  del sys.path[0]\n",
      "C:\\Users\\XARC\\AppData\\Local\\Programs\\Python\\Python36\\lib\\site-packages\\ipykernel_launcher.py:13: UserWarning: Legend does not support 'i' instances.\n",
      "A proxy artist may be used instead.\n",
      "See: http://matplotlib.org/users/legend_guide.html#creating-artists-specifically-for-adding-to-the-legend-aka-proxy-artists\n",
      "  del sys.path[0]\n",
      "C:\\Users\\XARC\\AppData\\Local\\Programs\\Python\\Python36\\lib\\site-packages\\ipykernel_launcher.py:13: UserWarning: Legend does not support 'n' instances.\n",
      "A proxy artist may be used instead.\n",
      "See: http://matplotlib.org/users/legend_guide.html#creating-artists-specifically-for-adding-to-the-legend-aka-proxy-artists\n",
      "  del sys.path[0]\n",
      "C:\\Users\\XARC\\AppData\\Local\\Programs\\Python\\Python36\\lib\\site-packages\\ipykernel_launcher.py:13: UserWarning: Legend does not support ' ' instances.\n",
      "A proxy artist may be used instead.\n",
      "See: http://matplotlib.org/users/legend_guide.html#creating-artists-specifically-for-adding-to-the-legend-aka-proxy-artists\n",
      "  del sys.path[0]\n",
      "C:\\Users\\XARC\\AppData\\Local\\Programs\\Python\\Python36\\lib\\site-packages\\ipykernel_launcher.py:13: UserWarning: Legend does not support 'A' instances.\n",
      "A proxy artist may be used instead.\n",
      "See: http://matplotlib.org/users/legend_guide.html#creating-artists-specifically-for-adding-to-the-legend-aka-proxy-artists\n",
      "  del sys.path[0]\n",
      "C:\\Users\\XARC\\AppData\\Local\\Programs\\Python\\Python36\\lib\\site-packages\\ipykernel_launcher.py:20: UserWarning: Legend does not support 'T' instances.\n",
      "A proxy artist may be used instead.\n",
      "See: http://matplotlib.org/users/legend_guide.html#creating-artists-specifically-for-adding-to-the-legend-aka-proxy-artists\n",
      "C:\\Users\\XARC\\AppData\\Local\\Programs\\Python\\Python36\\lib\\site-packages\\ipykernel_launcher.py:20: UserWarning: Legend does not support 'r' instances.\n",
      "A proxy artist may be used instead.\n",
      "See: http://matplotlib.org/users/legend_guide.html#creating-artists-specifically-for-adding-to-the-legend-aka-proxy-artists\n",
      "C:\\Users\\XARC\\AppData\\Local\\Programs\\Python\\Python36\\lib\\site-packages\\ipykernel_launcher.py:20: UserWarning: Legend does not support 'a' instances.\n",
      "A proxy artist may be used instead.\n",
      "See: http://matplotlib.org/users/legend_guide.html#creating-artists-specifically-for-adding-to-the-legend-aka-proxy-artists\n",
      "C:\\Users\\XARC\\AppData\\Local\\Programs\\Python\\Python36\\lib\\site-packages\\ipykernel_launcher.py:20: UserWarning: Legend does not support 'i' instances.\n",
      "A proxy artist may be used instead.\n",
      "See: http://matplotlib.org/users/legend_guide.html#creating-artists-specifically-for-adding-to-the-legend-aka-proxy-artists\n",
      "C:\\Users\\XARC\\AppData\\Local\\Programs\\Python\\Python36\\lib\\site-packages\\ipykernel_launcher.py:20: UserWarning: Legend does not support 'n' instances.\n",
      "A proxy artist may be used instead.\n",
      "See: http://matplotlib.org/users/legend_guide.html#creating-artists-specifically-for-adding-to-the-legend-aka-proxy-artists\n",
      "C:\\Users\\XARC\\AppData\\Local\\Programs\\Python\\Python36\\lib\\site-packages\\ipykernel_launcher.py:20: UserWarning: Legend does not support ' ' instances.\n",
      "A proxy artist may be used instead.\n",
      "See: http://matplotlib.org/users/legend_guide.html#creating-artists-specifically-for-adding-to-the-legend-aka-proxy-artists\n",
      "C:\\Users\\XARC\\AppData\\Local\\Programs\\Python\\Python36\\lib\\site-packages\\ipykernel_launcher.py:20: UserWarning: Legend does not support 'L' instances.\n",
      "A proxy artist may be used instead.\n",
      "See: http://matplotlib.org/users/legend_guide.html#creating-artists-specifically-for-adding-to-the-legend-aka-proxy-artists\n",
      "C:\\Users\\XARC\\AppData\\Local\\Programs\\Python\\Python36\\lib\\site-packages\\ipykernel_launcher.py:20: UserWarning: Legend does not support 'o' instances.\n",
      "A proxy artist may be used instead.\n",
      "See: http://matplotlib.org/users/legend_guide.html#creating-artists-specifically-for-adding-to-the-legend-aka-proxy-artists\n"
     ]
    },
    {
     "data": {
      "text/plain": [
       "<Figure size 432x288 with 0 Axes>"
      ]
     },
     "execution_count": 30,
     "metadata": {},
     "output_type": "execute_result"
    },
    {
     "data": {
      "image/png": "[encoded data removed]",
      "text/plain": [
       "<Figure size 432x288 with 1 Axes>"
      ]
     },
     "metadata": {
      "needs_background": "light"
     },
     "output_type": "display_data"
    },
    {
     "data": {
      "image/png": "[encoded data removed]",
      "text/plain": [
       "<Figure size 432x288 with 1 Axes>"
      ]
     },
     "metadata": {
      "needs_background": "light"
     },
     "output_type": "display_data"
    },
    {
     "data": {
      "text/plain": [
       "<Figure size 432x288 with 0 Axes>"
      ]
     },
     "metadata": {},
     "output_type": "display_data"
    }
   ],
   "source": [
    "acc = history.history['acc']\n",
    "val_acc = history.history['val_acc']\n",
    "\n",
    "loss = history.history['loss']\n",
    "val_loss = history.history['val_loss']\n",
    "\n",
    "epochs = range(EPOCHS)\n",
    "\n",
    "plt.plot(epochs, acc, 'r')\n",
    "plt.plot(epochs, val_acc, 'b')\n",
    "plt.xlabel('EPOCHS')\n",
    "plt.ylabel('Accuracies')\n",
    "plt.legend('Train Acc', 'Val Acc')\n",
    "plt.figure()\n",
    "\n",
    "plt.plot(epochs, loss, 'r')\n",
    "plt.plot(epochs, val_loss, 'b')\n",
    "plt.xlabel('EPOCHS')\n",
    "plt.ylabel('Losses')\n",
    "plt.legend('Train Loss', 'Val Loss')\n",
    "plt.figure()"
   ]
  },
  {
   "cell_type": "markdown",
   "metadata": {},
   "source": [
    "## Generate Chats by iterating over the predictor from the model and input from user"
   ]
  },
  {
   "cell_type": "code",
   "execution_count": 31,
   "metadata": {},
   "outputs": [],
   "source": [
    "reverse_word_index[0] = '!'"
   ]
  },
  {
   "cell_type": "code",
   "execution_count": 32,
   "metadata": {},
   "outputs": [
    {
     "name": "stdout",
     "output_type": "stream",
     "text": [
      "hi\n",
      "hi\n",
      "             \n",
      "again not saying anything!\n",
      "             \n",
      "stop\n",
      "Bye, See ya later!!!\n"
     ]
    }
   ],
   "source": [
    "sentence = SEEDER.lower()\n",
    "corpus = SEEDER.lower()\n",
    "new_line = False\n",
    "print (sentence, end='\\n')\n",
    "\n",
    "sentence = input()\n",
    "while(sentence != 'stop'):\n",
    "    corpus += '\\nUser: ' + sentence\n",
    "    seq = tokenizer.texts_to_sequences([sentence])\n",
    "    seq = pad_sequences(seq, padding=PADDING, truncating=TRUNC, maxlen=INP_LEN)\n",
    "    pred_seq = model.predict(seq)\n",
    "    pred_seq = np.argmax(pred_seq, axis=2)\n",
    "    pred_sent = [reverse_word_index[x] for x in pred_seq[0]]\n",
    "    pred_sent = ' '.join(pred_sent)\n",
    "    print(pred_sent)\n",
    "    corpus += '\\nBot: ' + pred_sent\n",
    "    sentence = input()\n",
    "print (\"Bye, See ya later!!!\")\n"
   ]
  },
  {
   "cell_type": "markdown",
   "metadata": {},
   "source": [
    "## Save Chats in a file"
   ]
  },
  {
   "cell_type": "code",
   "execution_count": 17,
   "metadata": {},
   "outputs": [],
   "source": [
    "timestr = time.strftime(\"_%Y_%m_%d_%H_%M_%S\")\n",
    "\n",
    "save_file_path += timestr + \".txt\"\n",
    "try:\n",
    "    with open(save_file_path, 'w') as f:\n",
    "        f.write(corpus)\n",
    "        f.close()\n",
    "except:\n",
    "    print(\"\\nWrite was Unsuccessful\")"
   ]
  },
  {
   "cell_type": "code",
   "execution_count": null,
   "metadata": {},
   "outputs": [],
   "source": []
  },
  {
   "cell_type": "code",
   "execution_count": null,
   "metadata": {},
   "outputs": [],
   "source": []
  }
 ],
 "metadata": {
  "kernelspec": {
   "display_name": "Python 3",
   "language": "python",
   "name": "python3"
  },
  "language_info": {
   "codemirror_mode": {
    "name": "ipython",
    "version": 3
   },
   "file_extension": ".py",
   "mimetype": "text/x-python",
   "name": "python",
   "nbconvert_exporter": "python",
   "pygments_lexer": "ipython3",
   "version": "3.6.8"
  }
 },
 "nbformat": 4,
 "nbformat_minor": 2
}
