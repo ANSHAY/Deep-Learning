{
  "nbformat": 4,
  "nbformat_minor": 0,
  "metadata": {
    "colab": {
      "name": "Chatty the chatterbox.ipynb",
      "provenance": [],
      "toc_visible": true
    },
    "kernelspec": {
      "name": "python3",
      "display_name": "Python 3"
    },
    "accelerator": "GPU"
  },
  "cells": [
    {
      "cell_type": "markdown",
      "metadata": {
        "id": "E3WjT2PUkP_y",
        "colab_type": "text"
      },
      "source": [
        "# Chatty the chatterbox"
      ]
    },
    {
      "cell_type": "markdown",
      "metadata": {
        "id": "vDoBxIw7kQc0",
        "colab_type": "text"
      },
      "source": [
        "## Import Libraries"
      ]
    },
    {
      "cell_type": "code",
      "metadata": {
        "id": "O-gkCuSKkVeS",
        "colab_type": "code",
        "colab": {
          "base_uri": "https://localhost:8080/",
          "height": 69
        },
        "outputId": "d7f806b6-3da1-465b-e61a-245e7ab84414"
      },
      "source": [
        "import tensorflow as tf\n",
        "import matplotlib.pyplot as plt\n",
        "import random\n",
        "import numpy as np\n",
        "import time\n",
        "import nltk\n",
        "nltk.download('stopwords')\n",
        "from nltk.corpus import stopwords\n",
        "\n",
        "from tensorflow.keras.preprocessing.text import Tokenizer\n",
        "from tensorflow.keras.preprocessing.sequence import pad_sequences\n",
        "print(tf.__version__)"
      ],
      "execution_count": 1,
      "outputs": [
        {
          "output_type": "stream",
          "text": [
            "[nltk_data] Downloading package stopwords to /root/nltk_data...\n",
            "[nltk_data]   Unzipping corpora/stopwords.zip.\n",
            "2.3.0\n"
          ],
          "name": "stdout"
        }
      ]
    },
    {
      "cell_type": "markdown",
      "metadata": {
        "id": "qsmLeQmWjLlr",
        "colab_type": "text"
      },
      "source": [
        "### Create Directories for data, results and models"
      ]
    },
    {
      "cell_type": "code",
      "metadata": {
        "id": "jK-J4zK8mkkP",
        "colab_type": "code",
        "colab": {
          "base_uri": "https://localhost:8080/",
          "height": 34
        },
        "outputId": "3ef230d0-84a3-4ac1-9bbc-28c45d88130c"
      },
      "source": [
        "!pwd\n",
        "!mkdir ../results\n",
        "!mkdir ../data\n",
        "!mkdir ../models\n"
      ],
      "execution_count": 2,
      "outputs": [
        {
          "output_type": "stream",
          "text": [
            "/content\n"
          ],
          "name": "stdout"
        }
      ]
    },
    {
      "cell_type": "markdown",
      "metadata": {
        "id": "hggqbgKFn8ex",
        "colab_type": "text"
      },
      "source": [
        "###Steps for google colab to copy data file to desired directory\n"
      ]
    },
    {
      "cell_type": "code",
      "metadata": {
        "id": "eGdVzDaSn8-J",
        "colab_type": "code",
        "colab": {}
      },
      "source": [
        "!cp sample_data/chats.txt ../data/chats.txt\n"
      ],
      "execution_count": 3,
      "outputs": []
    },
    {
      "cell_type": "code",
      "metadata": {
        "id": "GPXJEiBYtzTN",
        "colab_type": "code",
        "colab": {
          "base_uri": "https://localhost:8080/",
          "height": 34
        },
        "outputId": "7fa3b101-9d5b-448d-ef6f-fb66a0537dfe"
      },
      "source": [
        "!ls -l /data/chats.txt"
      ],
      "execution_count": 4,
      "outputs": [
        {
          "output_type": "stream",
          "text": [
            "-rw-r--r-- 1 root root 1448972 Sep 14 16:31 /data/chats.txt\n"
          ],
          "name": "stdout"
        }
      ]
    },
    {
      "cell_type": "markdown",
      "metadata": {
        "id": "6bYZ2ZxSkbQm",
        "colab_type": "text"
      },
      "source": [
        "## Define Parameters\n"
      ]
    },
    {
      "cell_type": "code",
      "metadata": {
        "id": "eOVsLs8bkKcc",
        "colab_type": "code",
        "colab": {}
      },
      "source": [
        "data_path = \"..//data//chats.txt\"\n",
        "\n",
        "output_path = \"..//results//\"\n",
        "output_file_name = \"bots_chats\"\n",
        "\n",
        "files = [data_path]\n",
        "save_file_path = output_path + output_file_name\n",
        "\n",
        "PADDING = 'pre'\n",
        "TRUNC = 'pre'\n",
        "MAXLEN = 5\n",
        "\n",
        "VOCAB_SIZE = 10000\n",
        "EMB_DIM = 128\n",
        "\n",
        "OPTIMIZER = 'adam'\n",
        "LOSS = 'sparse_categorical_crossentropy'\n",
        "METRICS = ['acc']\n",
        "EPOCHS = 100\n",
        "BATCH_SIZE = 64\n",
        "VAL_SPLIT = 0.1\n",
        "\n",
        "SEEDER = 'Hi'    ## Seeder word to start prediction of poetry\n",
        "\n",
        "model_name = \"../models//chats_telegram_model.h5\"\n",
        "LOAD_MODEL = False\n",
        "\n",
        "data = \"This is some random statement \\n being used as placeholder for the actual data that is to be \\n imported later from a file.\""
      ],
      "execution_count": 20,
      "outputs": []
    },
    {
      "cell_type": "markdown",
      "metadata": {
        "id": "As_qNsLYklbN",
        "colab_type": "text"
      },
      "source": [
        "## Load Data"
      ]
    },
    {
      "cell_type": "code",
      "metadata": {
        "id": "UOAOU0EAkmg9",
        "colab_type": "code",
        "colab": {}
      },
      "source": [
        "corpus = ''\n",
        "for file in files:\n",
        "    with open(file, encoding='utf-8') as f:\n",
        "        data = f.read()\n",
        "        for word in stopwords.words():\n",
        "          data.replace(word, \" \")\n",
        "        corpus += data + '\\n'\n",
        "        f.close()\n",
        "data = data.replace(',', '\\n')\n",
        "data = data.replace('.', '\\n')\n",
        "data = data.replace('  ', ' ')\n",
        "data = data.replace('\\n\\n', '\\n')\n"
      ],
      "execution_count": 21,
      "outputs": []
    },
    {
      "cell_type": "code",
      "metadata": {
        "id": "lS5UXixq1pTB",
        "colab_type": "code",
        "colab": {
          "base_uri": "https://localhost:8080/",
          "height": 69
        },
        "outputId": "58d71989-742b-429b-9034-2e12c955c91d"
      },
      "source": [
        "sentences = corpus.lower().split('\\n')\n",
        "#sentences = sentences[:10000]  # cutting data becuase of running out of memory\n",
        "NUM_SAMPLES = len(sentences)\n",
        "print(len(sentences))\n",
        "print(sentences[0])\n",
        "print(len(sentences[0]))"
      ],
      "execution_count": 22,
      "outputs": [
        {
          "output_type": "stream",
          "text": [
            "76684\n",
            "i send you thst moaning audio\n",
            "29\n"
          ],
          "name": "stdout"
        }
      ]
    },
    {
      "cell_type": "markdown",
      "metadata": {
        "id": "BwsLkk11km7M",
        "colab_type": "text"
      },
      "source": [
        "## Tokenize Data"
      ]
    },
    {
      "cell_type": "code",
      "metadata": {
        "id": "gucGsbzgknIT",
        "colab_type": "code",
        "colab": {
          "base_uri": "https://localhost:8080/",
          "height": 52
        },
        "outputId": "da6b1e37-4c56-4f77-ba3b-54c6baf7e700"
      },
      "source": [
        "tokenizer = Tokenizer(filters='!\"#$%&()*+,-./:;<=>?@[\\\\]^_`{|}~\\t', oov_token=\"<OOV>\")\n",
        "tokenizer.fit_on_texts(sentences)\n",
        "word_index = tokenizer.word_index\n",
        "total_words = len(word_index) + 1\n",
        "VOCAB_SIZE = total_words\n",
        "print(total_words)\n",
        "print(word_index['a'])"
      ],
      "execution_count": 23,
      "outputs": [
        {
          "output_type": "stream",
          "text": [
            "22105\n",
            "9\n"
          ],
          "name": "stdout"
        }
      ]
    },
    {
      "cell_type": "code",
      "metadata": {
        "id": "oh4v9hbSkPZf",
        "colab_type": "code",
        "colab": {
          "base_uri": "https://localhost:8080/",
          "height": 34
        },
        "outputId": "b3d9c946-14be-4537-d78a-149969ef447d"
      },
      "source": [
        "## create reverse_word_index\n",
        "reverse_word_index = {}\n",
        "for word, i in word_index.items():\n",
        "    reverse_word_index[i] = word\n",
        "print(reverse_word_index[1])"
      ],
      "execution_count": 24,
      "outputs": [
        {
          "output_type": "stream",
          "text": [
            "<OOV>\n"
          ],
          "name": "stdout"
        }
      ]
    },
    {
      "cell_type": "markdown",
      "metadata": {
        "id": "SoD_t60rkpW1",
        "colab_type": "text"
      },
      "source": [
        "## Change Sentences to Sequences"
      ]
    },
    {
      "cell_type": "code",
      "metadata": {
        "id": "r2Qy2_Hkkpls",
        "colab_type": "code",
        "colab": {
          "base_uri": "https://localhost:8080/",
          "height": 34
        },
        "outputId": "4ea97460-c4df-459c-fc23-222d4d90fea8"
      },
      "source": [
        "sequences = tokenizer.texts_to_sequences(sentences)\n",
        "padded_seq = pad_sequences(sequences, padding=PADDING, truncating=TRUNC, maxlen=MAXLEN)\n",
        "print(padded_seq[0])"
      ],
      "execution_count": 25,
      "outputs": [
        {
          "output_type": "stream",
          "text": [
            "[   0    3  478   10 5307 3395  228]\n"
          ],
          "name": "stdout"
        }
      ]
    },
    {
      "cell_type": "markdown",
      "metadata": {
        "id": "4AXeSZRrksuz",
        "colab_type": "text"
      },
      "source": [
        "## Define Callback"
      ]
    },
    {
      "cell_type": "code",
      "metadata": {
        "id": "wWbaawOcks__",
        "colab_type": "code",
        "colab": {}
      },
      "source": [
        "class myCallback(tf.keras.callbacks.Callback):\n",
        "    def on_epoch_end(self, epochs, log={}):\n",
        "        if (log.get('acc')>0.70):\n",
        "            self.model.stop_training = True\n",
        "            print(\"\\n Stopped training since model reached accuracy of 90%\")\n",
        "callback = myCallback()"
      ],
      "execution_count": 26,
      "outputs": []
    },
    {
      "cell_type": "markdown",
      "metadata": {
        "id": "34vx8rYjkqHr",
        "colab_type": "text"
      },
      "source": [
        "## Extract trainX and trainY from sequences"
      ]
    },
    {
      "cell_type": "code",
      "metadata": {
        "id": "W41ZE0ymksbx",
        "colab_type": "code",
        "colab": {
          "base_uri": "https://localhost:8080/",
          "height": 86
        },
        "outputId": "24b85c65-703e-4c56-afd1-89caf6220a88"
      },
      "source": [
        "trainX = padded_seq[:-1,:]\n",
        "trainY = padded_seq[1:,:]\n",
        "\n",
        "INP_LEN = trainX.shape[1]\n",
        "OUT_LEN = trainY.shape[1]\n",
        "\n",
        "print(INP_LEN)\n",
        "print(OUT_LEN)\n",
        "print(trainX.shape)\n",
        "print(trainY.shape)"
      ],
      "execution_count": 27,
      "outputs": [
        {
          "output_type": "stream",
          "text": [
            "7\n",
            "7\n",
            "(76683, 7)\n",
            "(76683, 7)\n"
          ],
          "name": "stdout"
        }
      ]
    },
    {
      "cell_type": "code",
      "metadata": {
        "id": "Eqa1OEJulLP_",
        "colab_type": "code",
        "colab": {
          "base_uri": "https://localhost:8080/",
          "height": 52
        },
        "outputId": "d0030b32-25aa-429c-d35f-1d7abcef66d5"
      },
      "source": [
        "print(trainX[31])\n",
        "print(trainY[0])"
      ],
      "execution_count": 28,
      "outputs": [
        {
          "output_type": "stream",
          "text": [
            "[   0    0    0    0    0  258 1424]\n",
            "[  0   0   0   0   0   0 520]\n"
          ],
          "name": "stdout"
        }
      ]
    },
    {
      "cell_type": "markdown",
      "metadata": {
        "id": "bFFHN1P5kvMQ",
        "colab_type": "text"
      },
      "source": [
        "## Define Model"
      ]
    },
    {
      "cell_type": "code",
      "metadata": {
        "id": "jnyDUDj8lMCU",
        "colab_type": "code",
        "colab": {}
      },
      "source": [
        "# class ToCategorical(tf.keras.layers.Layer):\n",
        "#     def __init__(self, num_words, **kwarg): \n",
        "#       self.num_words = num_words \n",
        "#       super(ToCategorical, self).__init__(**kwarg)\n",
        "#     #def build(self, input_shape):\n",
        "#       #self.output_shape = (input_shape[-1], self.num_words)\n",
        "#     def call(self, input_data):\n",
        "#       return tf.keras.utils.to_categorical(input_data, num_classes=self.num_words)\n",
        "#     #def compute_output_shape(self, input_shape):\n",
        "#     #  return (input_shape[-1], self.num_words)"
      ],
      "execution_count": 29,
      "outputs": []
    },
    {
      "cell_type": "code",
      "metadata": {
        "id": "D00K2HUakvev",
        "colab_type": "code",
        "colab": {}
      },
      "source": [
        "LOAD_MODEL = False\n",
        "if LOAD_MODEL == True:\n",
        "    try:\n",
        "        model = tf.keras.models.load_model(model_name)\n",
        "        print(\"\\nModel loaded successfully\")\n",
        "    except:\n",
        "        print(\"\\nModel not loaded. Building new...\")\n",
        "        LOAD_MODEL = False\n",
        "if LOAD_MODEL == False:\n",
        "    model = tf.keras.models.Sequential([\n",
        "        #ToCategorical(num_words=total_words),\n",
        "        tf.keras.layers.Embedding(VOCAB_SIZE, EMB_DIM, input_length=INP_LEN),\n",
        "        tf.keras.layers.Bidirectional(tf.keras.layers.LSTM(1024, return_sequences=True)),\n",
        "        tf.keras.layers.Bidirectional(tf.keras.layers.LSTM(512, return_sequences=True)),\n",
        "        tf.keras.layers.Dense(VOCAB_SIZE, activation='softmax')\n",
        "    ])\n",
        "    LOAD_MODEL = True\n",
        "    "
      ],
      "execution_count": 30,
      "outputs": []
    },
    {
      "cell_type": "markdown",
      "metadata": {
        "id": "a2BbupW0kxf4",
        "colab_type": "text"
      },
      "source": [
        "## Compile Model\n"
      ]
    },
    {
      "cell_type": "code",
      "metadata": {
        "id": "loKEve6Fkxut",
        "colab_type": "code",
        "colab": {
          "base_uri": "https://localhost:8080/",
          "height": 295
        },
        "outputId": "df1396d6-8fe9-4bcd-eb39-b11cb73ab264"
      },
      "source": [
        "model.compile(optimizer=OPTIMIZER, loss=LOSS, metrics=METRICS)\n",
        "#model.build(input_shape=(MAXLEN,1))\n",
        "model.summary()"
      ],
      "execution_count": 31,
      "outputs": [
        {
          "output_type": "stream",
          "text": [
            "Model: \"sequential_3\"\n",
            "_________________________________________________________________\n",
            "Layer (type)                 Output Shape              Param #   \n",
            "=================================================================\n",
            "embedding_3 (Embedding)      (None, 7, 128)            2829440   \n",
            "_________________________________________________________________\n",
            "bidirectional_6 (Bidirection (None, 7, 256)            263168    \n",
            "_________________________________________________________________\n",
            "bidirectional_7 (Bidirection (None, 7, 128)            164352    \n",
            "_________________________________________________________________\n",
            "dense_3 (Dense)              (None, 7, 22105)          2851545   \n",
            "=================================================================\n",
            "Total params: 6,108,505\n",
            "Trainable params: 6,108,505\n",
            "Non-trainable params: 0\n",
            "_________________________________________________________________\n"
          ],
          "name": "stdout"
        }
      ]
    },
    {
      "cell_type": "markdown",
      "metadata": {
        "id": "3P-7drRHkx8Y",
        "colab_type": "text"
      },
      "source": [
        "## Train Model\n"
      ]
    },
    {
      "cell_type": "code",
      "metadata": {
        "id": "jl3HRqnDkyLh",
        "colab_type": "code",
        "colab": {}
      },
      "source": [
        "#SPLIT_SIZE = 2000 # number of sentences per training iteration\n",
        "#DATA_SIZE = len(trainX)\n",
        "#TRAIN_STEPS = DATA_SIZE//SPLIT_SIZE + 1\n",
        "#for i in range(TRAIN_STEPS):\n",
        "#  X = trainX[i*SPLIT_SIZE:min((i+1)*SPLIT_SIZE, DATA_SIZE)]\n",
        "#  Y = trainY[i*SPLIT_SIZE:min((i+1)*SPLIT_SIZE, DATA_SIZE)]\n",
        "#  Y = tf.keras.utils.to_categorical(Y, VOCAB_SIZE)\n",
        "#  history = model.fit(X, Y, validation_split=VAL_SPLIT, verbose=1, epochs = EPOCHS, shuffle=False, batch_size=BATCH_SIZE, callbacks=[callback])\n"
      ],
      "execution_count": 32,
      "outputs": []
    },
    {
      "cell_type": "code",
      "metadata": {
        "id": "LIZL02DPc6oE",
        "colab_type": "code",
        "colab": {
          "base_uri": "https://localhost:8080/",
          "height": 384
        },
        "outputId": "7e9de761-48c2-41f3-e3c5-9af2cb659a92"
      },
      "source": [
        "history = model.fit(trainX, trainY, validation_split=VAL_SPLIT, verbose=1, epochs = EPOCHS, shuffle=False, batch_size=BATCH_SIZE, callbacks=[callback])"
      ],
      "execution_count": 33,
      "outputs": [
        {
          "output_type": "stream",
          "text": [
            "Epoch 1/10\n",
            "1079/1079 [==============================] - 59s 55ms/step - loss: 3.2783 - acc: 0.6493 - val_loss: 4.0472 - val_acc: 0.5843\n",
            "Epoch 2/10\n",
            "1079/1079 [==============================] - 58s 54ms/step - loss: 3.0191 - acc: 0.6497 - val_loss: 4.0890 - val_acc: 0.5841\n",
            "Epoch 3/10\n",
            "1079/1079 [==============================] - 58s 54ms/step - loss: 2.9563 - acc: 0.6494 - val_loss: 4.0349 - val_acc: 0.5843\n",
            "Epoch 4/10\n",
            "1079/1079 [==============================] - 59s 54ms/step - loss: 2.8706 - acc: 0.6492 - val_loss: 4.1469 - val_acc: 0.5842\n",
            "Epoch 5/10\n",
            "1079/1079 [==============================] - 59s 54ms/step - loss: 2.8070 - acc: 0.6500 - val_loss: 4.1144 - val_acc: 0.5842\n",
            "Epoch 6/10\n",
            "1079/1079 [==============================] - 58s 54ms/step - loss: 2.7575 - acc: 0.6503 - val_loss: 4.0481 - val_acc: 0.5834\n",
            "Epoch 7/10\n",
            "1079/1079 [==============================] - 57s 53ms/step - loss: 2.7131 - acc: 0.6515 - val_loss: 4.0630 - val_acc: 0.5830\n",
            "Epoch 8/10\n",
            "1079/1079 [==============================] - 56s 52ms/step - loss: 2.6736 - acc: 0.6517 - val_loss: 4.0411 - val_acc: 0.5820\n",
            "Epoch 9/10\n",
            "1079/1079 [==============================] - 56s 52ms/step - loss: 2.6318 - acc: 0.6525 - val_loss: 4.0844 - val_acc: 0.5794\n",
            "Epoch 10/10\n",
            "1079/1079 [==============================] - 56s 52ms/step - loss: 2.5904 - acc: 0.6531 - val_loss: 4.0450 - val_acc: 0.5787\n"
          ],
          "name": "stdout"
        }
      ]
    },
    {
      "cell_type": "markdown",
      "metadata": {
        "id": "J2KxXZDik0p7",
        "colab_type": "text"
      },
      "source": [
        "## Save Model"
      ]
    },
    {
      "cell_type": "code",
      "metadata": {
        "id": "RpoLpVr_k04u",
        "colab_type": "code",
        "colab": {}
      },
      "source": [
        "model.save(model_name)"
      ],
      "execution_count": 34,
      "outputs": []
    },
    {
      "cell_type": "code",
      "metadata": {
        "id": "pqcLhugdk1FA",
        "colab_type": "code",
        "colab": {}
      },
      "source": [
        ""
      ],
      "execution_count": 34,
      "outputs": []
    },
    {
      "cell_type": "markdown",
      "metadata": {
        "id": "hX6Lt5rBk1gd",
        "colab_type": "text"
      },
      "source": [
        "## Plot Results"
      ]
    },
    {
      "cell_type": "code",
      "metadata": {
        "id": "iSFNTDQ7k11E",
        "colab_type": "code",
        "colab": {
          "base_uri": "https://localhost:8080/",
          "height": 1000
        },
        "outputId": "01abff6b-51c2-4d4b-de51-e7b5d421535c"
      },
      "source": [
        "acc = history.history['acc']\n",
        "val_acc = history.history['val_acc']\n",
        "\n",
        "loss = history.history['loss']\n",
        "val_loss = history.history['val_loss']\n",
        "\n",
        "epochs = range(EPOCHS)\n",
        "\n",
        "plt.plot(epochs, acc, 'r')\n",
        "plt.plot(epochs, val_acc, 'b')\n",
        "plt.xlabel('EPOCHS')\n",
        "plt.ylabel('Accuracies')\n",
        "plt.legend('Train Acc', 'Val Acc')\n",
        "plt.figure()\n",
        "\n",
        "plt.plot(epochs, loss, 'r')\n",
        "plt.plot(epochs, val_loss, 'b')\n",
        "plt.xlabel('EPOCHS')\n",
        "plt.ylabel('Losses')\n",
        "plt.legend('Train Loss', 'Val Loss')\n",
        "plt.figure()"
      ],
      "execution_count": 35,
      "outputs": [
        {
          "output_type": "stream",
          "text": [
            "/usr/local/lib/python3.6/dist-packages/ipykernel_launcher.py:13: UserWarning: Legend does not support 'T' instances.\n",
            "A proxy artist may be used instead.\n",
            "See: http://matplotlib.org/users/legend_guide.html#creating-artists-specifically-for-adding-to-the-legend-aka-proxy-artists\n",
            "  del sys.path[0]\n",
            "/usr/local/lib/python3.6/dist-packages/ipykernel_launcher.py:13: UserWarning: Legend does not support 'r' instances.\n",
            "A proxy artist may be used instead.\n",
            "See: http://matplotlib.org/users/legend_guide.html#creating-artists-specifically-for-adding-to-the-legend-aka-proxy-artists\n",
            "  del sys.path[0]\n",
            "/usr/local/lib/python3.6/dist-packages/ipykernel_launcher.py:13: UserWarning: Legend does not support 'a' instances.\n",
            "A proxy artist may be used instead.\n",
            "See: http://matplotlib.org/users/legend_guide.html#creating-artists-specifically-for-adding-to-the-legend-aka-proxy-artists\n",
            "  del sys.path[0]\n",
            "/usr/local/lib/python3.6/dist-packages/ipykernel_launcher.py:13: UserWarning: Legend does not support 'i' instances.\n",
            "A proxy artist may be used instead.\n",
            "See: http://matplotlib.org/users/legend_guide.html#creating-artists-specifically-for-adding-to-the-legend-aka-proxy-artists\n",
            "  del sys.path[0]\n",
            "/usr/local/lib/python3.6/dist-packages/ipykernel_launcher.py:13: UserWarning: Legend does not support 'n' instances.\n",
            "A proxy artist may be used instead.\n",
            "See: http://matplotlib.org/users/legend_guide.html#creating-artists-specifically-for-adding-to-the-legend-aka-proxy-artists\n",
            "  del sys.path[0]\n",
            "/usr/local/lib/python3.6/dist-packages/ipykernel_launcher.py:13: UserWarning: Legend does not support ' ' instances.\n",
            "A proxy artist may be used instead.\n",
            "See: http://matplotlib.org/users/legend_guide.html#creating-artists-specifically-for-adding-to-the-legend-aka-proxy-artists\n",
            "  del sys.path[0]\n",
            "/usr/local/lib/python3.6/dist-packages/ipykernel_launcher.py:13: UserWarning: Legend does not support 'A' instances.\n",
            "A proxy artist may be used instead.\n",
            "See: http://matplotlib.org/users/legend_guide.html#creating-artists-specifically-for-adding-to-the-legend-aka-proxy-artists\n",
            "  del sys.path[0]\n",
            "/usr/local/lib/python3.6/dist-packages/ipykernel_launcher.py:20: UserWarning: Legend does not support 'T' instances.\n",
            "A proxy artist may be used instead.\n",
            "See: http://matplotlib.org/users/legend_guide.html#creating-artists-specifically-for-adding-to-the-legend-aka-proxy-artists\n",
            "/usr/local/lib/python3.6/dist-packages/ipykernel_launcher.py:20: UserWarning: Legend does not support 'r' instances.\n",
            "A proxy artist may be used instead.\n",
            "See: http://matplotlib.org/users/legend_guide.html#creating-artists-specifically-for-adding-to-the-legend-aka-proxy-artists\n",
            "/usr/local/lib/python3.6/dist-packages/ipykernel_launcher.py:20: UserWarning: Legend does not support 'a' instances.\n",
            "A proxy artist may be used instead.\n",
            "See: http://matplotlib.org/users/legend_guide.html#creating-artists-specifically-for-adding-to-the-legend-aka-proxy-artists\n",
            "/usr/local/lib/python3.6/dist-packages/ipykernel_launcher.py:20: UserWarning: Legend does not support 'i' instances.\n",
            "A proxy artist may be used instead.\n",
            "See: http://matplotlib.org/users/legend_guide.html#creating-artists-specifically-for-adding-to-the-legend-aka-proxy-artists\n",
            "/usr/local/lib/python3.6/dist-packages/ipykernel_launcher.py:20: UserWarning: Legend does not support 'n' instances.\n",
            "A proxy artist may be used instead.\n",
            "See: http://matplotlib.org/users/legend_guide.html#creating-artists-specifically-for-adding-to-the-legend-aka-proxy-artists\n",
            "/usr/local/lib/python3.6/dist-packages/ipykernel_launcher.py:20: UserWarning: Legend does not support ' ' instances.\n",
            "A proxy artist may be used instead.\n",
            "See: http://matplotlib.org/users/legend_guide.html#creating-artists-specifically-for-adding-to-the-legend-aka-proxy-artists\n",
            "/usr/local/lib/python3.6/dist-packages/ipykernel_launcher.py:20: UserWarning: Legend does not support 'L' instances.\n",
            "A proxy artist may be used instead.\n",
            "See: http://matplotlib.org/users/legend_guide.html#creating-artists-specifically-for-adding-to-the-legend-aka-proxy-artists\n",
            "/usr/local/lib/python3.6/dist-packages/ipykernel_launcher.py:20: UserWarning: Legend does not support 'o' instances.\n",
            "A proxy artist may be used instead.\n",
            "See: http://matplotlib.org/users/legend_guide.html#creating-artists-specifically-for-adding-to-the-legend-aka-proxy-artists\n"
          ],
          "name": "stderr"
        },
        {
          "output_type": "execute_result",
          "data": {
            "text/plain": [
              "<Figure size 432x288 with 0 Axes>"
            ]
          },
          "metadata": {
            "tags": []
          },
          "execution_count": 35
        },
        {
          "output_type": "display_data",
          "data": {
            "image/png": "[encoded data removed]",
            "text/plain": [
              "<Figure size 432x288 with 1 Axes>"
            ]
          },
          "metadata": {
            "tags": [],
            "needs_background": "light"
          }
        },
        {
          "output_type": "display_data",
          "data": {
            "image/png": "[encoded data removed]",
            "text/plain": [
              "<Figure size 432x288 with 1 Axes>"
            ]
          },
          "metadata": {
            "tags": [],
            "needs_background": "light"
          }
        },
        {
          "output_type": "display_data",
          "data": {
            "text/plain": [
              "<Figure size 432x288 with 0 Axes>"
            ]
          },
          "metadata": {
            "tags": []
          }
        }
      ]
    },
    {
      "cell_type": "markdown",
      "metadata": {
        "id": "7PEgt_ETlvqj",
        "colab_type": "text"
      },
      "source": [
        "## Generate Chats by iterating over the predictor from the model and input from user"
      ]
    },
    {
      "cell_type": "code",
      "metadata": {
        "id": "9e7exO8Jlw13",
        "colab_type": "code",
        "colab": {}
      },
      "source": [
        "reverse_word_index[0] = ' '"
      ],
      "execution_count": 36,
      "outputs": []
    },
    {
      "cell_type": "code",
      "metadata": {
        "id": "p-WGIeMelxBg",
        "colab_type": "code",
        "colab": {
          "base_uri": "https://localhost:8080/",
          "height": 312
        },
        "outputId": "e1bf8fa0-b8f7-4056-f9c7-40fd3732325a"
      },
      "source": [
        "sentence = SEEDER.lower()\n",
        "corpus = SEEDER.lower()\n",
        "new_line = False\n",
        "print (sentence, end='\\n')\n",
        "\n",
        "sentence = input()\n",
        "while(sentence != 'stop'):\n",
        "    corpus += '\\nUser: ' + sentence\n",
        "    seq = tokenizer.texts_to_sequences([sentence])\n",
        "    seq = pad_sequences(seq, padding=PADDING, truncating=TRUNC, maxlen=INP_LEN)\n",
        "    pred_seq = model.predict(seq)\n",
        "    pred_seq = np.argmax(pred_seq, axis=2)\n",
        "    pred_sent = [reverse_word_index[x] for x in pred_seq[0]]\n",
        "    pred_sent = ' '.join(pred_sent)\n",
        "    print(pred_sent)\n",
        "    corpus += '\\nBot: ' + pred_sent\n",
        "    sentence = input()\n",
        "print (\"Bye, See ya later!!!\")\n"
      ],
      "execution_count": 37,
      "outputs": [
        {
          "output_type": "stream",
          "text": [
            "hi\n",
            "hi\n",
            "            ðÿ˜‚ðÿ˜‚ðÿ˜‚\n",
            "you smiling?\n",
            "             \n",
            "dont know what to say\n",
            "             \n",
            "u r a quite person\n",
            "             \n",
            "tu kuch bolega bhi\n",
            "             \n",
            "ni bolega\n",
            "             \n",
            "tujhe or sikhana padega\n",
            "      and to or hai\n",
            "stop\n",
            "Bye, See ya later!!!\n"
          ],
          "name": "stdout"
        }
      ]
    },
    {
      "cell_type": "markdown",
      "metadata": {
        "id": "r_bp9h2_l2uX",
        "colab_type": "text"
      },
      "source": [
        "## Save Chats in a file"
      ]
    },
    {
      "cell_type": "code",
      "metadata": {
        "id": "kHDIhns2l4IS",
        "colab_type": "code",
        "colab": {}
      },
      "source": [
        "timestr = time.strftime(\"_%Y_%m_%d_%H_%M_%S\")\n",
        "\n",
        "save_file_path += timestr + \".txt\"\n",
        "try:\n",
        "    with open(save_file_path, 'w') as f:\n",
        "        f.write(corpus)\n",
        "        f.close()\n",
        "except:\n",
        "    print(\"\\nWrite was Unsuccessful\")"
      ],
      "execution_count": null,
      "outputs": []
    },
    {
      "cell_type": "code",
      "metadata": {
        "id": "Rp2JzV3ipDAE",
        "colab_type": "code",
        "colab": {}
      },
      "source": [
        ""
      ],
      "execution_count": null,
      "outputs": []
    }
  ]
}