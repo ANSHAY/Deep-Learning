{
 "cells": [
  {
   "cell_type": "markdown",
   "metadata": {},
   "source": [
    "# Classification of IMDB reviews"
   ]
  },
  {
   "cell_type": "markdown",
   "metadata": {},
   "source": [
    "# Import Libraries"
   ]
  },
  {
   "cell_type": "code",
   "execution_count": 1,
   "metadata": {},
   "outputs": [
    {
     "name": "stdout",
     "output_type": "stream",
     "text": [
      "\n",
      "WARNING: The TensorFlow contrib module will not be included in TensorFlow 2.0.\n",
      "For more information, please see:\n",
      "  * https://github.com/tensorflow/community/blob/master/rfcs/20180907-contrib-sunset.md\n",
      "  * https://github.com/tensorflow/addons\n",
      "If you depend on functionality not listed there, please file an issue.\n",
      "\n"
     ]
    }
   ],
   "source": [
    "import csv\n",
    "import numpy as np\n",
    "import tensorflow as tf\n",
    "import tensorflow_datasets as tfds\n",
    "\n",
    "from tensorflow.keras.preprocessing.text import Tokenizer\n",
    "from tensorflow.keras.preprocessing.sequence import pad_sequences\n",
    "\n",
    "import matplotlib.pyplot as plt"
   ]
  },
  {
   "cell_type": "code",
   "execution_count": 2,
   "metadata": {},
   "outputs": [],
   "source": [
    "tf.enable_eager_execution()"
   ]
  },
  {
   "cell_type": "markdown",
   "metadata": {},
   "source": [
    "# Define Parameters"
   ]
  },
  {
   "cell_type": "code",
   "execution_count": 12,
   "metadata": {},
   "outputs": [],
   "source": [
    "vocab_size = 10000\n",
    "max_len = 200\n",
    "embedding_dim = 16\n",
    "pad_type = 'post'\n",
    "trunc_type = 'post'\n",
    "oov_tok = '<OOV>'\n",
    "EPOCHS = 10\n"
   ]
  },
  {
   "cell_type": "markdown",
   "metadata": {},
   "source": [
    "# Load Data"
   ]
  },
  {
   "cell_type": "code",
   "execution_count": 13,
   "metadata": {},
   "outputs": [],
   "source": [
    "data, info = tfds.load(\"imdb_reviews\", with_info=True, as_supervised=True)\n",
    "train_data, test_data = data['train'], data['test']\n",
    "\n",
    "train_sent = []\n",
    "train_label = []\n",
    "test_sent = []\n",
    "test_label = []\n",
    "\n",
    "for s,l in train_data:\n",
    "    train_sent.append(str(s.numpy()))\n",
    "    train_label.append(l.numpy())\n",
    "for s,l in test_data:\n",
    "    test_sent.append(str(s.numpy()))\n",
    "    test_label.append(l.numpy())\n",
    "\n",
    "train_label = np.array(train_label)\n",
    "test_label = np.array(test_label)\n"
   ]
  },
  {
   "cell_type": "code",
   "execution_count": 14,
   "metadata": {},
   "outputs": [
    {
     "name": "stdout",
     "output_type": "stream",
     "text": [
      "b\"Oh yeah! Jenna Jameson did it again! Yeah Baby! This movie rocks. It was one of the 1st movies i saw of her. And i have to say i feel in love with her, she was great in this move.<br /><br />Her performance was outstanding and what i liked the most was the scenery and the wardrobe it was amazing you can tell that they put a lot into the movie the girls cloth were amazing.<br /><br />I hope this comment helps and u can buy the movie, the storyline is awesome is very unique and i'm sure u are going to like it. Jenna amazed us once more and no wonder the movie won so many awards. Her make-up and wardrobe is very very sexy and the girls on girls scene is amazing. specially the one where she looks like an angel. It's a must see and i hope u share my interests\"\n",
      "(25000,)\n",
      "b\"I've watched the movie actually several times. And what i want to say about it is the only thing that made this movie high rank was the Burak Altay's incredible performance, absolutely nothing but that. Not even those silly model named Deniz Akkaya and some of these popular names at times in the movie... Burak is definitely very talented i've seen a few jobs he made and been through. Even though this is kind of horror movie, he's doing really good job in comedy movies and also in dramas too. I bet most of you all saw Asmali Konak the movie and TV series, those two would go for an example... All i'm gonna say is you better watch out for the new works coming out from Burak then you'll see.. Keep the good work bro, much love..\"\n",
      "(25000,)\n"
     ]
    }
   ],
   "source": [
    "print(train_sent[0])\n",
    "print(train_label.shape)\n",
    "print(test_sent[0])\n",
    "print(test_label.shape)"
   ]
  },
  {
   "cell_type": "markdown",
   "metadata": {},
   "source": [
    "# Sentences to Sequences"
   ]
  },
  {
   "cell_type": "code",
   "execution_count": 15,
   "metadata": {},
   "outputs": [],
   "source": [
    "tokenizer = Tokenizer(num_words=vocab_size, oov_token=oov_tok)\n",
    "tokenizer.fit_on_texts(train_sent)\n",
    "word_index = tokenizer.word_index\n",
    "\n",
    "train_seq = tokenizer.texts_to_sequences(train_sent)\n",
    "train_seq_pad = pad_sequences(train_seq, padding=pad_type, truncating=trunc_type, maxlen=max_len)\n",
    "\n",
    "test_seq = tokenizer.texts_to_sequences(test_sent)\n",
    "test_seq_pad = pad_sequences(test_seq, padding=pad_type, truncating=trunc_type, maxlen=max_len)\n"
   ]
  },
  {
   "cell_type": "code",
   "execution_count": 21,
   "metadata": {},
   "outputs": [
    {
     "name": "stdout",
     "output_type": "stream",
     "text": [
      "[  59  474 1281 6747 9711  123   10  172 1281  899   12   18 3387   10\n",
      "   14   30    5    2 3418  101   11  216    5   40    3   11   28    6\n",
      "  136   11  231    9  119   17   40   56   14   88    9   12  854    8\n",
      "    8   40  234   14 1362    3   51   11  432    2   92   14    2 1396\n",
      "    3    2 6175   10   14  490   23   58  382   13   34  276    4  173\n",
      "   86    2   18    2  538 8836   72  490    8    8   11  448   12  938\n",
      " 1550    3 1221   58  827    2   18    2  777    7 1208    7   54  963\n",
      "    3  319  250 1221   25  168    6   39   10 6747 2691  178  288   53\n",
      "    3   61  604    2   18  547   37  112 2147   40   97   57    3 6175\n",
      "    7   54   54 1296    3    2  538   22  538  137    7  490 4916    2\n",
      "   30  121   56  272   39   35 2326  103    4  211   69    3   11  448\n",
      " 1221 1517   63 5050    0    0    0    0    0    0    0    0    0    0\n",
      "    0    0    0    0    0    0    0    0    0    0    0    0    0    0\n",
      "    0    0    0    0    0    0    0    0    0    0    0    0    0    0\n",
      "    0    0    0    0]\n",
      "[1 1 0 ... 1 0 1]\n"
     ]
    }
   ],
   "source": [
    "print(train_seq_pad[0])\n",
    "print(train_label)"
   ]
  },
  {
   "cell_type": "markdown",
   "metadata": {},
   "source": [
    "# Define Model"
   ]
  },
  {
   "cell_type": "code",
   "execution_count": 25,
   "metadata": {},
   "outputs": [
    {
     "name": "stdout",
     "output_type": "stream",
     "text": [
      "_________________________________________________________________\n",
      "Layer (type)                 Output Shape              Param #   \n",
      "=================================================================\n",
      "embedding_4 (Embedding)      (None, 200, 16)           160000    \n",
      "_________________________________________________________________\n",
      "global_average_pooling1d_2 ( (None, 16)                0         \n",
      "_________________________________________________________________\n",
      "dense_8 (Dense)              (None, 24)                408       \n",
      "_________________________________________________________________\n",
      "dense_9 (Dense)              (None, 1)                 25        \n",
      "=================================================================\n",
      "Total params: 160,433\n",
      "Trainable params: 160,433\n",
      "Non-trainable params: 0\n",
      "_________________________________________________________________\n"
     ]
    }
   ],
   "source": [
    "model = tf.keras.Sequential([\n",
    "    tf.keras.layers.Embedding(vocab_size, embedding_dim, input_length=max_len),\n",
    "    tf.keras.layers.GlobalAveragePooling1D(),\n",
    "    tf.keras.layers.Dense(24, activation='relu'),\n",
    "    tf.keras.layers.Dense(1, activation='sigmoid')\n",
    "])\n",
    "model.compile(optimizer='adam', loss='binary_crossentropy', metrics=['acc'])\n",
    "model.summary()"
   ]
  },
  {
   "cell_type": "markdown",
   "metadata": {},
   "source": [
    "# Train Model"
   ]
  },
  {
   "cell_type": "code",
   "execution_count": 26,
   "metadata": {},
   "outputs": [
    {
     "name": "stdout",
     "output_type": "stream",
     "text": [
      "Train on 25000 samples, validate on 25000 samples\n",
      "Epoch 1/20\n",
      " - 4s - loss: 0.4941 - acc: 0.7696 - val_loss: 0.3446 - val_acc: 0.8554\n",
      "Epoch 2/20\n",
      " - 4s - loss: 0.2740 - acc: 0.8912 - val_loss: 0.3207 - val_acc: 0.8653\n",
      "Epoch 3/20\n",
      " - 3s - loss: 0.2204 - acc: 0.9159 - val_loss: 0.3327 - val_acc: 0.8604\n",
      "Epoch 4/20\n",
      " - 3s - loss: 0.1868 - acc: 0.9312 - val_loss: 0.3651 - val_acc: 0.8534\n",
      "Epoch 5/20\n",
      " - 3s - loss: 0.1610 - acc: 0.9428 - val_loss: 0.4065 - val_acc: 0.8467\n",
      "Epoch 6/20\n",
      " - 3s - loss: 0.1407 - acc: 0.9522 - val_loss: 0.4403 - val_acc: 0.8432\n",
      "Epoch 7/20\n",
      " - 3s - loss: 0.1227 - acc: 0.9594 - val_loss: 0.4836 - val_acc: 0.8398\n",
      "Epoch 8/20\n",
      " - 3s - loss: 0.1096 - acc: 0.9651 - val_loss: 0.5090 - val_acc: 0.8362\n",
      "Epoch 9/20\n",
      " - 3s - loss: 0.0971 - acc: 0.9683 - val_loss: 0.5795 - val_acc: 0.8282\n",
      "Epoch 10/20\n",
      " - 3s - loss: 0.0843 - acc: 0.9753 - val_loss: 0.5936 - val_acc: 0.8292\n",
      "Epoch 11/20\n",
      " - 3s - loss: 0.0744 - acc: 0.9790 - val_loss: 0.6703 - val_acc: 0.8250\n",
      "Epoch 12/20\n",
      " - 3s - loss: 0.0646 - acc: 0.9832 - val_loss: 0.7171 - val_acc: 0.8238\n",
      "Epoch 13/20\n",
      " - 3s - loss: 0.0575 - acc: 0.9853 - val_loss: 0.7745 - val_acc: 0.8202\n",
      "Epoch 14/20\n",
      " - 3s - loss: 0.0494 - acc: 0.9876 - val_loss: 0.8285 - val_acc: 0.8185\n",
      "Epoch 15/20\n",
      " - 3s - loss: 0.0446 - acc: 0.9890 - val_loss: 0.9245 - val_acc: 0.8155\n",
      "Epoch 16/20\n",
      " - 3s - loss: 0.0410 - acc: 0.9898 - val_loss: 0.9989 - val_acc: 0.8111\n",
      "Epoch 17/20\n",
      " - 3s - loss: 0.0350 - acc: 0.9910 - val_loss: 1.0721 - val_acc: 0.8086\n",
      "Epoch 18/20\n",
      " - 3s - loss: 0.0290 - acc: 0.9932 - val_loss: 1.1044 - val_acc: 0.8081\n",
      "Epoch 19/20\n",
      " - 3s - loss: 0.0257 - acc: 0.9934 - val_loss: 1.2038 - val_acc: 0.8067\n",
      "Epoch 20/20\n",
      " - 3s - loss: 0.0230 - acc: 0.9937 - val_loss: 1.2844 - val_acc: 0.8076\n"
     ]
    }
   ],
   "source": [
    "history = model.fit(train_seq_pad, train_label, epochs=EPOCHS, validation_data=(test_seq_pad, test_label), verbose=2)"
   ]
  },
  {
   "cell_type": "markdown",
   "metadata": {},
   "source": [
    "# Plot results"
   ]
  },
  {
   "cell_type": "code",
   "execution_count": 27,
   "metadata": {},
   "outputs": [
    {
     "name": "stderr",
     "output_type": "stream",
     "text": [
      "W0702 18:39:02.067520 13444 legend.py:1289] No handles with labels found to put in legend.\n"
     ]
    },
    {
     "data": {
      "image/png": "[encoded data removed]",
      "text/plain": [
       "<Figure size 432x288 with 1 Axes>"
      ]
     },
     "metadata": {
      "needs_background": "light"
     },
     "output_type": "display_data"
    },
    {
     "name": "stderr",
     "output_type": "stream",
     "text": [
      "W0702 18:39:02.216403 13444 legend.py:1289] No handles with labels found to put in legend.\n"
     ]
    },
    {
     "data": {
      "image/png": "[encoded data removed]",
      "text/plain": [
       "<Figure size 432x288 with 1 Axes>"
      ]
     },
     "metadata": {
      "needs_background": "light"
     },
     "output_type": "display_data"
    }
   ],
   "source": [
    "def plot_data(history, string):\n",
    "    epochs = range(EPOCHS)\n",
    "    plt.plot(epochs, history.history[string])\n",
    "    plt.plot(epochs, history.history['val_'+string])\n",
    "    plt.legend()\n",
    "    plt.show()\n",
    "\n",
    "plot_data(history, 'acc')\n",
    "plot_data(history, 'loss')"
   ]
  },
  {
   "cell_type": "code",
   "execution_count": null,
   "metadata": {},
   "outputs": [],
   "source": []
  }
 ],
 "metadata": {
  "kernelspec": {
   "display_name": "Python 3",
   "language": "python",
   "name": "python3"
  },
  "language_info": {
   "codemirror_mode": {
    "name": "ipython",
    "version": 3
   },
   "file_extension": ".py",
   "mimetype": "text/x-python",
   "name": "python",
   "nbconvert_exporter": "python",
   "pygments_lexer": "ipython3",
   "version": "3.7.3"
  }
 },
 "nbformat": 4,
 "nbformat_minor": 2
}
