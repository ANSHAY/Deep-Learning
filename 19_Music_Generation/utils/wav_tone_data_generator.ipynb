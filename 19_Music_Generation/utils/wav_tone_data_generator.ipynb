{
 "cells": [
  {
   "cell_type": "code",
   "execution_count": 1,
   "metadata": {},
   "outputs": [],
   "source": [
    "import wavio\n",
    "import numpy as np\n"
   ]
  },
  {
   "cell_type": "code",
   "execution_count": 2,
   "metadata": {},
   "outputs": [],
   "source": [
    "# metadata\n",
    "NUM_FILES = 100\n",
    "SAMPLING_RATE = 44100\n",
    "SAMPLE_WIDTH = 3\n",
    "TONE_DUR = 30 # duration of tone in seconds\n",
    "FREQ_BASE = 400\n",
    "FREQ_INC = 100\n",
    "\n",
    "FILE_PATH = '../data/wav/sine_tones/'\n",
    "FILE_NAME = 'sine_'"
   ]
  },
  {
   "cell_type": "code",
   "execution_count": 6,
   "metadata": {},
   "outputs": [
    {
     "name": "stdout",
     "output_type": "stream",
     "text": [
      "1323000\n"
     ]
    }
   ],
   "source": [
    "# define time\n",
    "time = np.array(range(SAMPLING_RATE*TONE_DUR)) / SAMPLING_RATE\n",
    "print(len(time))"
   ]
  },
  {
   "cell_type": "code",
   "execution_count": 9,
   "metadata": {},
   "outputs": [],
   "source": [
    "# create tones and write to files\n",
    "for i in range(NUM_FILES):\n",
    "    freq = FREQ_BASE + FREQ_INC*i\n",
    "    tone = np.sin(2*np.pi*freq*time)\n",
    "    file = FILE_PATH + FILE_NAME + str(freq) + '.wav'\n",
    "    wavio.write(file, tone, SAMPLING_RATE, sampwidth=SAMPLE_WIDTH)\n",
    "print('done')"
   ]
  },
  {
   "cell_type": "code",
   "execution_count": 10,
   "metadata": {},
   "outputs": [
    {
     "name": "stdout",
     "output_type": "stream",
     "text": [
      "done\n"
     ]
    }
   ],
   "source": []
  },
  {
   "cell_type": "code",
   "execution_count": null,
   "metadata": {},
   "outputs": [],
   "source": []
  }
 ],
 "metadata": {
  "kernelspec": {
   "display_name": "Python 3",
   "language": "python",
   "name": "python3"
  },
  "language_info": {
   "codemirror_mode": {
    "name": "ipython",
    "version": 3
   },
   "file_extension": ".py",
   "mimetype": "text/x-python",
   "name": "python",
   "nbconvert_exporter": "python",
   "pygments_lexer": "ipython3",
   "version": "3.8.2"
  }
 },
 "nbformat": 4,
 "nbformat_minor": 4
}
