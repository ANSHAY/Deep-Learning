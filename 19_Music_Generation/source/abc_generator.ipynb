{
 "cells": [
  {
   "cell_type": "code",
   "execution_count": null,
   "metadata": {},
   "outputs": [],
   "source": [
    "# import libraries\n",
    "import tensorflow as tf\n",
    "import numpy as np\n",
    "import time\n",
    "import os"
   ]
  },
  {
   "cell_type": "code",
   "execution_count": null,
   "metadata": {},
   "outputs": [],
   "source": [
    "# define hyperparameters\n",
    "# file I/O parameters\n",
    "INPUT_DATA_PATH = '../data/'\n",
    "OUTPUT_MODEL_PATH = '../models/'\n",
    "OUTPUT_MUSIC_PATH = '../music/'\n",
    "OUTPUT_MUSIC_FORMAT = '.abc'\n",
    "\n",
    "# tokenizer parameters\n",
    "OOV_TOKEN = '<oov>'\n",
    "\n",
    "# padding parameters\n",
    "TRUNC = 'post'\n",
    "PADDING = 'pre'\n",
    "MAXLEN = 10\n",
    "INP_LEN = 10\n",
    "\n",
    "# embedding parameters\n",
    "EMB_DIM = 16\n",
    "\n",
    "# model compiling paramenters\n",
    "OPTIMIZER = 'adam'\n",
    "LOSS = 'sparse_categorical_crossentropy'\n",
    "METRICS = ['accuracy']"
   ]
  },
  {
   "cell_type": "code",
   "execution_count": null,
   "metadata": {},
   "outputs": [],
   "source": [
    "# load data\n",
    "filenames = os.listdir(INPUT_DATA_PATH)\n",
    "corpus = ''\n",
    "for file in filenames:\n",
    "    with open(INPUT_DATA_PATH+file, 'r') as f:\n",
    "        corpus += f.read()+'\\n'\n",
    "vocab = sorted(set(corpus))\n",
    "VOCAB_SIZE = len(vocab)\n",
    "print(VOCAB_SIZE)"
   ]
  },
  {
   "cell_type": "code",
   "execution_count": null,
   "metadata": {},
   "outputs": [],
   "source": [
    "# create dictionaries to change char to number and versa\n",
    "char2idx = {c:i for i, c in enumerate(vocab)}\n",
    "idx2char = {i:c for c, i in char2idx.items()}"
   ]
  },
  {
   "cell_type": "code",
   "execution_count": null,
   "metadata": {},
   "outputs": [],
   "source": [
    "# create array of numbers from corpus\n",
    "n = len(corpus)\n",
    "data = np.array([[car2idx[c] for c in corpus[i:i+INP_LEN]] for i in range(n-INP_LEN)])"
   ]
  },
  {
   "cell_type": "code",
   "execution_count": null,
   "metadata": {},
   "outputs": [],
   "source": [
    "# define input and output arrays\n",
    "x = data[:, :-1]\n",
    "y = data[:, -1]\n",
    "print(x.shape)\n",
    "print(y.shape)"
   ]
  },
  {
   "cell_type": "code",
   "execution_count": null,
   "metadata": {},
   "outputs": [],
   "source": [
    "# define model\n",
    "model = tf.keras.Sequential([\n",
    "    tf.keras.layers.Embedding(VOCAB_SIZE, EMB_DIM),\n",
    "    tf.keras.layers.Bidirectional(tf.keras.layers.LSTM(1024, return_sequences=True)),\n",
    "    tf,keras.layers.Bidirectional(tf.keras.layers.LSTM(512)),\n",
    "    tf.keras.layers.Dense(128, 'relu'),\n",
    "    tf.keras.layers.Dense(VOCAB_SIZE, 'softmax')\n",
    "])"
   ]
  },
  {
   "cell_type": "code",
   "execution_count": null,
   "metadata": {},
   "outputs": [],
   "source": [
    "# compile model\n",
    "model.compile(optimizer=OPTIMIZER, loss=LOSS, metrics=METRICS)\n",
    "model.summary()"
   ]
  },
  {
   "cell_type": "code",
   "execution_count": null,
   "metadata": {},
   "outputs": [],
   "source": [
    "# define callbacks\n",
    "class myCallback(tf.keras.callbacks.Callback):\n",
    "  def on_epoch_end(self, epoch, logs={}):\n",
    "    if(logs.get('accuracy')>=0.8):\n",
    "      print(\"Accuracy reached 80%. Stopping learning!\")\n",
    "      self.model.stop_training=True\n",
    "callback = myCallback()"
   ]
  },
  {
   "cell_type": "code",
   "execution_count": null,
   "metadata": {},
   "outputs": [],
   "source": [
    "# fit model\n",
    "model.fit(x, y, epochs=100, verbose=1, validation_split=0.1, batch_size=256, callbacks=[callback])"
   ]
  },
  {
   "cell_type": "code",
   "execution_count": null,
   "metadata": {},
   "outputs": [],
   "source": [
    "# save model \n",
    "output_file_name = time.strftime(\"%Y%m%d_%H%M%S\") # TODO: change it to parameters of model instead of timestamp\n",
    "model.save(OUTPUT_MODEL_PATH + output_file_name + '.h5')"
   ]
  },
  {
   "cell_type": "code",
   "execution_count": null,
   "metadata": {},
   "outputs": [],
   "source": [
    "# predict on new data"
   ]
  },
  {
   "cell_type": "code",
   "execution_count": 1,
   "metadata": {},
   "outputs": [
    {
     "ename": "NameError",
     "evalue": "name 'x' is not defined",
     "output_type": "error",
     "traceback": [
      "\u001b[0;31m---------------------------------------------------------------------------\u001b[0m",
      "\u001b[0;31mNameError\u001b[0m                                 Traceback (most recent call last)",
      "\u001b[0;32m<ipython-input-1-8dedd49d1a3c>\u001b[0m in \u001b[0;36m<module>\u001b[0;34m\u001b[0m\n\u001b[1;32m      1\u001b[0m \u001b[0;31m# create new music and save to file\u001b[0m\u001b[0;34m\u001b[0m\u001b[0;34m\u001b[0m\u001b[0;34m\u001b[0m\u001b[0m\n\u001b[1;32m      2\u001b[0m \u001b[0mMUSIC_LENGTH\u001b[0m \u001b[0;34m=\u001b[0m \u001b[0;36m1000\u001b[0m\u001b[0;34m\u001b[0m\u001b[0;34m\u001b[0m\u001b[0m\n\u001b[0;32m----> 3\u001b[0;31m \u001b[0mseed\u001b[0m \u001b[0;34m=\u001b[0m \u001b[0mx\u001b[0m\u001b[0;34m[\u001b[0m\u001b[0;36m0\u001b[0m\u001b[0;34m]\u001b[0m\u001b[0;34m\u001b[0m\u001b[0;34m\u001b[0m\u001b[0m\n\u001b[0m\u001b[1;32m      4\u001b[0m \u001b[0mmusic_string\u001b[0m \u001b[0;34m=\u001b[0m \u001b[0;34m''\u001b[0m\u001b[0;34m\u001b[0m\u001b[0;34m\u001b[0m\u001b[0m\n\u001b[1;32m      5\u001b[0m \u001b[0;32mfor\u001b[0m \u001b[0mc\u001b[0m \u001b[0;32min\u001b[0m \u001b[0mcorpus\u001b[0m\u001b[0;34m:\u001b[0m\u001b[0;34m\u001b[0m\u001b[0;34m\u001b[0m\u001b[0m\n",
      "\u001b[0;31mNameError\u001b[0m: name 'x' is not defined"
     ]
    }
   ],
   "source": [
    "# create new music and save to file\n",
    "MUSIC_LENGTH = 1000\n",
    "seed = x[0]\n",
    "music_string = ''\n",
    "for c in corpus:\n",
    "    if (c == 'K'):\n",
    "        music_string+=\"K:\\n\"\n",
    "        break\n",
    "    else:\n",
    "        music_string+=c\n",
    "\n",
    "for i in range(MUSIC_LENGTH):\n",
    "    n = model.predict(np.array([seed]))\n",
    "    n = np.argmax(n)\n",
    "    new_note = idx2char[n]\n",
    "    music_string += new_note\n",
    "    seed = np.append(seed,n)[1:]\n",
    "\n",
    "output_music_file = time.strftime(\"%Y%m%d_%H%M%S\") + OUTPUT_MUSIC_FORMAT\n",
    "with open(OUTPUT_MUSIC_PATH+output_music_file, 'w+') as f:\n",
    "    f.write(music_string)"
   ]
  },
  {
   "cell_type": "code",
   "execution_count": null,
   "metadata": {},
   "outputs": [],
   "source": [
    "# covert music from string to audio and play"
   ]
  }
 ],
 "metadata": {
  "kernelspec": {
   "display_name": "Python 3",
   "language": "python",
   "name": "python3"
  },
  "language_info": {
   "codemirror_mode": {
    "name": "ipython",
    "version": 3
   },
   "file_extension": ".py",
   "mimetype": "text/x-python",
   "name": "python",
   "nbconvert_exporter": "python",
   "pygments_lexer": "ipython3",
   "version": "3.8.2"
  }
 },
 "nbformat": 4,
 "nbformat_minor": 4
}
