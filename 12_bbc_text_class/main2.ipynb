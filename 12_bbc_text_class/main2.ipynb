{
 "cells": [
  {
   "cell_type": "markdown",
   "metadata": {},
   "source": [
    "# BBC text classification\n"
   ]
  },
  {
   "cell_type": "markdown",
   "metadata": {},
   "source": [
    "### Import Libraries"
   ]
  },
  {
   "cell_type": "code",
   "execution_count": 1,
   "metadata": {},
   "outputs": [],
   "source": [
    "import csv\n",
    "import numpy as np\n",
    "\n",
    "import tensorflow as tf\n",
    "import matplotlib.pyplot as plt\n",
    "\n",
    "from tensorflow.keras.preprocessing.text import Tokenizer\n",
    "from tensorflow.keras.preprocessing.sequence import pad_sequences"
   ]
  },
  {
   "cell_type": "markdown",
   "metadata": {},
   "source": [
    "### Define Parameters"
   ]
  },
  {
   "cell_type": "code",
   "execution_count": 2,
   "metadata": {},
   "outputs": [],
   "source": [
    "train_split = 0.9\n",
    "VOCAB_SIZE = 10000\n",
    "OOV_TOK = '<oov>'\n",
    "PADDING = 'post'\n",
    "TRUNC = 'post'\n",
    "MAX_LENGTH = 2000\n",
    "EMBEDDING_DIM = 16\n",
    "EPOCHS = 20\n",
    "\n",
    "stopwords = [ \"a\", \"about\", \"above\", \"after\", \"again\", \"against\", \"all\", \"am\", \"an\", \"and\", \"any\", \"are\", \"as\", \"at\", \"be\", \"because\", \"been\", \"before\", \"being\", \"below\", \"between\", \"both\", \"but\", \"by\", \"could\", \"did\", \"do\", \"does\", \"doing\", \"down\", \"during\", \"each\", \"few\", \"for\", \"from\", \"further\", \"had\", \"has\", \"have\", \"having\", \"he\", \"he'd\", \"he'll\", \"he's\", \"her\", \"here\", \"here's\", \"hers\", \"herself\", \"him\", \"himself\", \"his\", \"how\", \"how's\", \"i\", \"i'd\", \"i'll\", \"i'm\", \"i've\", \"if\", \"in\", \"into\", \"is\", \"it\", \"it's\", \"its\", \"itself\", \"let's\", \"me\", \"more\", \"most\", \"my\", \"myself\", \"nor\", \"of\", \"on\", \"once\", \"only\", \"or\", \"other\", \"ought\", \"our\", \"ours\", \"ourselves\", \"out\", \"over\", \"own\", \"same\", \"she\", \"she'd\", \"she'll\", \"she's\", \"should\", \"so\", \"some\", \"such\", \"than\", \"that\", \"that's\", \"the\", \"their\", \"theirs\", \"them\", \"themselves\", \"then\", \"there\", \"there's\", \"these\", \"they\", \"they'd\", \"they'll\", \"they're\", \"they've\", \"this\", \"those\", \"through\", \"to\", \"too\", \"under\", \"until\", \"up\", \"very\", \"was\", \"we\", \"we'd\", \"we'll\", \"we're\", \"we've\", \"were\", \"what\", \"what's\", \"when\", \"when's\", \"where\", \"where's\", \"which\", \"while\", \"who\", \"who's\", \"whom\", \"why\", \"why's\", \"with\", \"would\", \"you\", \"you'd\", \"you'll\", \"you're\", \"you've\", \"your\", \"yours\", \"yourself\", \"yourselves\" ]\n"
   ]
  },
  {
   "cell_type": "markdown",
   "metadata": {},
   "source": [
    "### Load Data"
   ]
  },
  {
   "cell_type": "code",
   "execution_count": 3,
   "metadata": {},
   "outputs": [],
   "source": [
    "#### Download Data"
   ]
  },
  {
   "cell_type": "code",
   "execution_count": 4,
   "metadata": {},
   "outputs": [
    {
     "name": "stdout",
     "output_type": "stream",
     "text": [
      "2225\n",
      "2225\n"
     ]
    }
   ],
   "source": [
    "sentences = []\n",
    "labels = []\n",
    "\n",
    "with open(\"D:\\\\Datasets\\\\bbc_text\\\\bbc_text.csv\") as file:\n",
    "    csvReader = csv.reader(file)\n",
    "    next(csvReader)\n",
    "    for row in csvReader:\n",
    "        labels.append(row[0])\n",
    "        sentence = row[1]\n",
    "        for word in stopwords:\n",
    "            sentence = sentence.replace(' '+word+' ', ' ')\n",
    "            sentence = sentence.replace('  ', ' ')\n",
    "        sentences.append(sentence)\n",
    "\n",
    "print(len(sentences))\n",
    "print(len(labels))"
   ]
  },
  {
   "cell_type": "code",
   "execution_count": 5,
   "metadata": {},
   "outputs": [
    {
     "name": "stdout",
     "output_type": "stream",
     "text": [
      "2002\n",
      "2002\n",
      "223\n",
      "223\n"
     ]
    }
   ],
   "source": [
    "split_index = int(train_split*len(sentences))\n",
    "\n",
    "train_sent = sentences[:split_index]\n",
    "train_labels = labels[:split_index]\n",
    "\n",
    "val_sent = sentences[split_index:]\n",
    "val_labels = labels[split_index:]\n",
    "\n",
    "print(len(train_sent))\n",
    "print(len(train_labels))\n",
    "print(len(val_sent))\n",
    "print(len(val_labels))"
   ]
  },
  {
   "cell_type": "markdown",
   "metadata": {},
   "source": [
    "#### Convert sentences to sequences"
   ]
  },
  {
   "cell_type": "code",
   "execution_count": 6,
   "metadata": {},
   "outputs": [
    {
     "name": "stdout",
     "output_type": "stream",
     "text": [
      "28590\n"
     ]
    }
   ],
   "source": [
    "tokenizer = Tokenizer(num_words=VOCAB_SIZE, oov_token=OOV_TOK)\n",
    "tokenizer.fit_on_texts(train_sent)\n",
    "word_index = tokenizer.word_index\n",
    "\n",
    "print(len(word_index))"
   ]
  },
  {
   "cell_type": "code",
   "execution_count": 7,
   "metadata": {},
   "outputs": [
    {
     "name": "stdout",
     "output_type": "stream",
     "text": [
      "(2002, 2000)\n",
      "(223, 2000)\n"
     ]
    }
   ],
   "source": [
    "train_seq = tokenizer.texts_to_sequences(train_sent)\n",
    "train_seq = pad_sequences(train_seq, padding=PADDING, truncating=TRUNC, maxlen=MAX_LENGTH)\n",
    "\n",
    "val_seq = tokenizer.texts_to_sequences(val_sent)\n",
    "val_seq = pad_sequences(val_seq, padding=PADDING, truncating=TRUNC, maxlen=MAX_LENGTH)\n",
    "\n",
    "print (train_seq.shape)\n",
    "print(val_seq.shape)"
   ]
  },
  {
   "cell_type": "markdown",
   "metadata": {},
   "source": [
    "#### Convert labels to numbers"
   ]
  },
  {
   "cell_type": "code",
   "execution_count": 8,
   "metadata": {},
   "outputs": [
    {
     "name": "stdout",
     "output_type": "stream",
     "text": [
      "{'sport': 1, 'business': 2, 'politics': 3, 'entertainment': 4, 'tech': 5}\n",
      "(2002, 1)\n",
      "(223, 1)\n"
     ]
    }
   ],
   "source": [
    "tokenizer_label = Tokenizer()\n",
    "tokenizer_label.fit_on_texts(train_labels)\n",
    "train_labels_seq = tokenizer_label.texts_to_sequences(train_labels)\n",
    "val_labels_seq = tokenizer_label.texts_to_sequences(val_labels)\n",
    "\n",
    "train_labels_seq = np.array(train_labels_seq)\n",
    "val_labels_seq = np.array(val_labels_seq)\n",
    "\n",
    "classes = len(tokenizer_label.word_index) + 1\n",
    "print (tokenizer_label.word_index)\n",
    "print (train_labels_seq.shape)\n",
    "print(val_labels_seq.shape)"
   ]
  },
  {
   "cell_type": "markdown",
   "metadata": {},
   "source": [
    "### Define Model"
   ]
  },
  {
   "cell_type": "code",
   "execution_count": 9,
   "metadata": {},
   "outputs": [
    {
     "name": "stdout",
     "output_type": "stream",
     "text": [
      "WARNING:tensorflow:From C:\\Users\\XARC\\Anaconda3\\lib\\site-packages\\tensorflow\\python\\ops\\resource_variable_ops.py:435: colocate_with (from tensorflow.python.framework.ops) is deprecated and will be removed in a future version.\n",
      "Instructions for updating:\n",
      "Colocations handled automatically by placer.\n"
     ]
    }
   ],
   "source": [
    "model = tf.keras.models.Sequential([\n",
    "    tf.keras.layers.Embedding(VOCAB_SIZE, EMBEDDING_DIM, input_length=MAX_LENGTH),\n",
    "    tf.keras.layers.Bidirectional(tf.keras.layers.LSTM(64)),\n",
    "    tf.keras.layers.Dense(32, activation='tanh'),\n",
    "    tf.keras.layers.Dense(classes, activation='softmax')\n",
    "])"
   ]
  },
  {
   "cell_type": "code",
   "execution_count": 10,
   "metadata": {},
   "outputs": [
    {
     "name": "stdout",
     "output_type": "stream",
     "text": [
      "_________________________________________________________________\n",
      "Layer (type)                 Output Shape              Param #   \n",
      "=================================================================\n",
      "embedding (Embedding)        (None, 2000, 16)          160000    \n",
      "_________________________________________________________________\n",
      "bidirectional (Bidirectional (None, 128)               41472     \n",
      "_________________________________________________________________\n",
      "dense (Dense)                (None, 32)                4128      \n",
      "_________________________________________________________________\n",
      "dense_1 (Dense)              (None, 6)                 198       \n",
      "=================================================================\n",
      "Total params: 205,798\n",
      "Trainable params: 205,798\n",
      "Non-trainable params: 0\n",
      "_________________________________________________________________\n"
     ]
    }
   ],
   "source": [
    "model.compile(optimizer='adam', loss='sparse_categorical_crossentropy', metrics=['acc'])\n",
    "model.summary()"
   ]
  },
  {
   "cell_type": "code",
   "execution_count": 11,
   "metadata": {},
   "outputs": [
    {
     "name": "stdout",
     "output_type": "stream",
     "text": [
      "Train on 2002 samples, validate on 223 samples\n",
      "Epoch 1/20\n",
      "2002/2002 [==============================] - 193s 96ms/sample - loss: 1.6455 - acc: 0.2373 - val_loss: 1.5660 - val_acc: 0.4305\n",
      "Epoch 2/20\n",
      "2002/2002 [==============================] - 190s 95ms/sample - loss: 1.1247 - acc: 0.5864 - val_loss: 0.7919 - val_acc: 0.6816\n",
      "Epoch 3/20\n",
      "2002/2002 [==============================] - 195s 97ms/sample - loss: 0.6192 - acc: 0.7542 - val_loss: 0.6633 - val_acc: 0.7130\n",
      "Epoch 4/20\n",
      "2002/2002 [==============================] - 238s 119ms/sample - loss: 0.4188 - acc: 0.8941 - val_loss: 1.3708 - val_acc: 0.6457\n",
      "Epoch 5/20\n",
      "2002/2002 [==============================] - 179s 89ms/sample - loss: 0.6113 - acc: 0.8566 - val_loss: 0.6103 - val_acc: 0.8072\n",
      "Epoch 6/20\n",
      "2002/2002 [==============================] - 186s 93ms/sample - loss: 0.2185 - acc: 0.9795 - val_loss: 0.5187 - val_acc: 0.8430\n",
      "Epoch 7/20\n",
      "2002/2002 [==============================] - 195s 97ms/sample - loss: 0.0943 - acc: 0.9980 - val_loss: 0.5025 - val_acc: 0.8475\n",
      "Epoch 8/20\n",
      "2002/2002 [==============================] - 192s 96ms/sample - loss: 0.0509 - acc: 1.0000 - val_loss: 0.5080 - val_acc: 0.8475\n",
      "Epoch 9/20\n",
      "2002/2002 [==============================] - 193s 96ms/sample - loss: 0.0326 - acc: 1.0000 - val_loss: 0.5141 - val_acc: 0.8565\n",
      "Epoch 10/20\n",
      "2002/2002 [==============================] - 189s 95ms/sample - loss: 0.0238 - acc: 1.0000 - val_loss: 0.5329 - val_acc: 0.8520\n",
      "Epoch 11/20\n",
      "2002/2002 [==============================] - 182s 91ms/sample - loss: 0.0184 - acc: 0.9995 - val_loss: 0.5339 - val_acc: 0.8565\n",
      "Epoch 12/20\n",
      "2002/2002 [==============================] - 175s 88ms/sample - loss: 0.0139 - acc: 1.0000 - val_loss: 0.5515 - val_acc: 0.8565\n",
      "Epoch 13/20\n",
      "2002/2002 [==============================] - 180s 90ms/sample - loss: 0.0113 - acc: 1.0000 - val_loss: 0.5659 - val_acc: 0.8520\n",
      "Epoch 14/20\n",
      "2002/2002 [==============================] - 180s 90ms/sample - loss: 0.0094 - acc: 1.0000 - val_loss: 0.5653 - val_acc: 0.8475\n",
      "Epoch 15/20\n",
      "2002/2002 [==============================] - 178s 89ms/sample - loss: 0.0087 - acc: 1.0000 - val_loss: 0.5612 - val_acc: 0.8565\n",
      "Epoch 16/20\n",
      "2002/2002 [==============================] - 181s 90ms/sample - loss: 0.0075 - acc: 0.9995 - val_loss: 0.5847 - val_acc: 0.8610\n",
      "Epoch 17/20\n",
      "2002/2002 [==============================] - 174s 87ms/sample - loss: 0.0060 - acc: 1.0000 - val_loss: 0.5964 - val_acc: 0.8520\n",
      "Epoch 18/20\n",
      "2002/2002 [==============================] - 183s 91ms/sample - loss: 0.0052 - acc: 1.0000 - val_loss: 0.6084 - val_acc: 0.8520\n",
      "Epoch 19/20\n",
      "2002/2002 [==============================] - 180s 90ms/sample - loss: 0.0046 - acc: 1.0000 - val_loss: 0.6194 - val_acc: 0.8520\n",
      "Epoch 20/20\n",
      "2002/2002 [==============================] - 186s 93ms/sample - loss: 0.0041 - acc: 1.0000 - val_loss: 0.6264 - val_acc: 0.8475\n"
     ]
    }
   ],
   "source": [
    "history = model.fit(train_seq, train_labels_seq, epochs=EPOCHS, validation_data=(val_seq, val_labels_seq), verbose=1)"
   ]
  },
  {
   "cell_type": "markdown",
   "metadata": {},
   "source": [
    "### Plot results"
   ]
  },
  {
   "cell_type": "code",
   "execution_count": 12,
   "metadata": {},
   "outputs": [
    {
     "name": "stderr",
     "output_type": "stream",
     "text": [
      "C:\\Users\\XARC\\Anaconda3\\lib\\site-packages\\matplotlib\\legend.py:798: UserWarning: Legend does not support 'T' instances.\n",
      "A proxy artist may be used instead.\n",
      "See: http://matplotlib.org/users/legend_guide.html#creating-artists-specifically-for-adding-to-the-legend-aka-proxy-artists\n",
      "  \"aka-proxy-artists\".format(orig_handle)\n",
      "C:\\Users\\XARC\\Anaconda3\\lib\\site-packages\\matplotlib\\legend.py:798: UserWarning: Legend does not support 'r' instances.\n",
      "A proxy artist may be used instead.\n",
      "See: http://matplotlib.org/users/legend_guide.html#creating-artists-specifically-for-adding-to-the-legend-aka-proxy-artists\n",
      "  \"aka-proxy-artists\".format(orig_handle)\n",
      "C:\\Users\\XARC\\Anaconda3\\lib\\site-packages\\matplotlib\\legend.py:798: UserWarning: Legend does not support 'a' instances.\n",
      "A proxy artist may be used instead.\n",
      "See: http://matplotlib.org/users/legend_guide.html#creating-artists-specifically-for-adding-to-the-legend-aka-proxy-artists\n",
      "  \"aka-proxy-artists\".format(orig_handle)\n",
      "C:\\Users\\XARC\\Anaconda3\\lib\\site-packages\\matplotlib\\legend.py:798: UserWarning: Legend does not support 'i' instances.\n",
      "A proxy artist may be used instead.\n",
      "See: http://matplotlib.org/users/legend_guide.html#creating-artists-specifically-for-adding-to-the-legend-aka-proxy-artists\n",
      "  \"aka-proxy-artists\".format(orig_handle)\n",
      "C:\\Users\\XARC\\Anaconda3\\lib\\site-packages\\matplotlib\\legend.py:798: UserWarning: Legend does not support 'n' instances.\n",
      "A proxy artist may be used instead.\n",
      "See: http://matplotlib.org/users/legend_guide.html#creating-artists-specifically-for-adding-to-the-legend-aka-proxy-artists\n",
      "  \"aka-proxy-artists\".format(orig_handle)\n",
      "C:\\Users\\XARC\\Anaconda3\\lib\\site-packages\\matplotlib\\legend.py:798: UserWarning: Legend does not support ' ' instances.\n",
      "A proxy artist may be used instead.\n",
      "See: http://matplotlib.org/users/legend_guide.html#creating-artists-specifically-for-adding-to-the-legend-aka-proxy-artists\n",
      "  \"aka-proxy-artists\".format(orig_handle)\n",
      "C:\\Users\\XARC\\Anaconda3\\lib\\site-packages\\matplotlib\\legend.py:798: UserWarning: Legend does not support 'A' instances.\n",
      "A proxy artist may be used instead.\n",
      "See: http://matplotlib.org/users/legend_guide.html#creating-artists-specifically-for-adding-to-the-legend-aka-proxy-artists\n",
      "  \"aka-proxy-artists\".format(orig_handle)\n",
      "C:\\Users\\XARC\\Anaconda3\\lib\\site-packages\\matplotlib\\legend.py:798: UserWarning: Legend does not support 'L' instances.\n",
      "A proxy artist may be used instead.\n",
      "See: http://matplotlib.org/users/legend_guide.html#creating-artists-specifically-for-adding-to-the-legend-aka-proxy-artists\n",
      "  \"aka-proxy-artists\".format(orig_handle)\n",
      "C:\\Users\\XARC\\Anaconda3\\lib\\site-packages\\matplotlib\\legend.py:798: UserWarning: Legend does not support 'o' instances.\n",
      "A proxy artist may be used instead.\n",
      "See: http://matplotlib.org/users/legend_guide.html#creating-artists-specifically-for-adding-to-the-legend-aka-proxy-artists\n",
      "  \"aka-proxy-artists\".format(orig_handle)\n"
     ]
    },
    {
     "data": {
      "text/plain": [
       "<Figure size 432x288 with 0 Axes>"
      ]
     },
     "execution_count": 12,
     "metadata": {},
     "output_type": "execute_result"
    },
    {
     "data": {
      "image/png": "[encoded data removed]",
      "text/plain": [
       "<Figure size 432x288 with 1 Axes>"
      ]
     },
     "metadata": {
      "needs_background": "light"
     },
     "output_type": "display_data"
    },
    {
     "data": {
      "image/png": "[encoded data removed]",
      "text/plain": [
       "<Figure size 432x288 with 1 Axes>"
      ]
     },
     "metadata": {
      "needs_background": "light"
     },
     "output_type": "display_data"
    },
    {
     "data": {
      "text/plain": [
       "<Figure size 432x288 with 0 Axes>"
      ]
     },
     "metadata": {},
     "output_type": "display_data"
    }
   ],
   "source": [
    "acc = history.history['acc']\n",
    "val_acc = history.history['val_acc']\n",
    "\n",
    "loss = history.history['loss']\n",
    "val_loss = history.history['val_loss']\n",
    "\n",
    "epochs = range(EPOCHS)\n",
    "\n",
    "plt.plot(epochs, acc, 'r')\n",
    "plt.plot(epochs, val_acc, 'b')\n",
    "plt.xlabel('EPOCHS')\n",
    "plt.ylabel('Accuracies')\n",
    "plt.legend('Train Acc', 'Val Acc')\n",
    "plt.figure()\n",
    "\n",
    "plt.plot(epochs, loss, 'r')\n",
    "plt.plot(epochs, val_loss, 'b')\n",
    "plt.xlabel('EPOCHS')\n",
    "plt.ylabel('Losses')\n",
    "plt.legend('Train Loss', 'Val Loss')\n",
    "plt.figure()"
   ]
  },
  {
   "cell_type": "code",
   "execution_count": null,
   "metadata": {},
   "outputs": [],
   "source": []
  }
 ],
 "metadata": {
  "kernelspec": {
   "display_name": "Python 3",
   "language": "python",
   "name": "python3"
  },
  "language_info": {
   "codemirror_mode": {
    "name": "ipython",
    "version": 3
   },
   "file_extension": ".py",
   "mimetype": "text/x-python",
   "name": "python",
   "nbconvert_exporter": "python",
   "pygments_lexer": "ipython3",
   "version": "3.8.2"
  }
 },
 "nbformat": 4,
 "nbformat_minor": 2
}
