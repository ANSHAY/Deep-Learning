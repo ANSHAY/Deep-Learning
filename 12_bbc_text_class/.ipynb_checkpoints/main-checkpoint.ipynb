{
 "cells": [
  {
   "cell_type": "markdown",
   "metadata": {},
   "source": [
    "# Text classification on BBC Text data"
   ]
  },
  {
   "cell_type": "code",
   "execution_count": 17,
   "metadata": {},
   "outputs": [],
   "source": [
    "## Import Libraries\n",
    "import tensorflow as tf\n",
    "from tensorflow.keras.optimizers import RMSprop\n",
    "from tensorflow.keras.preprocessing.text import Tokenizer\n",
    "from tensorflow.keras.preprocessing.sequence import pad_sequences\n",
    "\n",
    "import csv\n",
    "import numpy as np\n",
    "from matplotlib import pyplot as plt"
   ]
  },
  {
   "cell_type": "code",
   "execution_count": 2,
   "metadata": {},
   "outputs": [],
   "source": [
    "## Define Parameters\n",
    "EPOCHS = 20\n",
    "MAXLEN = 64*64\n",
    "VOCAB_SIZE = 30000\n",
    "stopwords = [ \"a\", \"about\", \"above\", \"after\", \"again\", \"against\", \"all\", \"am\", \"an\", \"and\", \"any\", \"are\", \"as\", \"at\", \"be\", \"because\", \"been\", \"before\", \"being\", \"below\", \"between\", \"both\", \"but\", \"by\", \"could\", \"did\", \"do\", \"does\", \"doing\", \"down\", \"during\", \"each\", \"few\", \"for\", \"from\", \"further\", \"had\", \"has\", \"have\", \"having\", \"he\", \"he'd\", \"he'll\", \"he's\", \"her\", \"here\", \"here's\", \"hers\", \"herself\", \"him\", \"himself\", \"his\", \"how\", \"how's\", \"i\", \"i'd\", \"i'll\", \"i'm\", \"i've\", \"if\", \"in\", \"into\", \"is\", \"it\", \"it's\", \"its\", \"itself\", \"let's\", \"me\", \"more\", \"most\", \"my\", \"myself\", \"nor\", \"of\", \"on\", \"once\", \"only\", \"or\", \"other\", \"ought\", \"our\", \"ours\", \"ourselves\", \"out\", \"over\", \"own\", \"same\", \"she\", \"she'd\", \"she'll\", \"she's\", \"should\", \"so\", \"some\", \"such\", \"than\", \"that\", \"that's\", \"the\", \"their\", \"theirs\", \"them\", \"themselves\", \"then\", \"there\", \"there's\", \"these\", \"they\", \"they'd\", \"they'll\", \"they're\", \"they've\", \"this\", \"those\", \"through\", \"to\", \"too\", \"under\", \"until\", \"up\", \"very\", \"was\", \"we\", \"we'd\", \"we'll\", \"we're\", \"we've\", \"were\", \"what\", \"what's\", \"when\", \"when's\", \"where\", \"where's\", \"which\", \"while\", \"who\", \"who's\", \"whom\", \"why\", \"why's\", \"with\", \"would\", \"you\", \"you'd\", \"you'll\", \"you're\", \"you've\", \"your\", \"yours\", \"yourself\", \"yourselves\" ]"
   ]
  },
  {
   "cell_type": "code",
   "execution_count": 3,
   "metadata": {},
   "outputs": [],
   "source": [
    "## Function to load csv data\n",
    "### csv file contains labels which are single\n",
    "### words and sentences which are long sentences\n",
    "### of text that need to be classified as one of\n",
    "### the labels\n",
    "\n",
    "def load_csv_data(filename):\n",
    "    sentences = []\n",
    "    labels = []\n",
    "    with open(filename) as csvFile:\n",
    "        csvReader = csv.reader(csvFile)\n",
    "        next(csvReader)\n",
    "        for row in csvReader:\n",
    "            labels.append(row[0])\n",
    "            sentence = row[1]\n",
    "            for word in stopwords:\n",
    "                token = \" \" + word + \" \"\n",
    "                sentence = sentence.replace(token, \" \")\n",
    "                sentence = sentence.replace(\"  \", \" \")\n",
    "            sentences.append(sentence) \n",
    "    return sentences, labels\n"
   ]
  },
  {
   "cell_type": "code",
   "execution_count": 4,
   "metadata": {
    "scrolled": false
   },
   "outputs": [
    {
     "name": "stdout",
     "output_type": "stream",
     "text": [
      "2225\n",
      "2225\n"
     ]
    }
   ],
   "source": [
    "## Load Data\n",
    "# data_dir = \"D://Datasets//bbc_text//\" ## on windows\n",
    "data_dir = \"/media/Git/Datasets/bbc_text/\"\n",
    "train_file = data_dir + \"bbc_text.csv\"\n",
    "#test_file = data_dir + \"bbc_text_test.csv\"\n",
    "\n",
    "train_sentences, train_labels = load_csv_data(train_file)\n",
    "#test_sentences, test_labels = load_csv_data(test_file)\n",
    "\n",
    "print(len(train_sentences))\n",
    "#print(test_sentences.shape)\n",
    "print(len(train_labels))\n",
    "#print(test_labels.shape)"
   ]
  },
  {
   "cell_type": "code",
   "execution_count": 5,
   "metadata": {},
   "outputs": [
    {
     "name": "stdout",
     "output_type": "stream",
     "text": [
      "29714\n",
      "{'sport': 1, 'business': 2, 'politics': 3, 'tech': 4, 'entertainment': 5}\n",
      "[4.]\n"
     ]
    }
   ],
   "source": [
    "## Change sentences and labels to sequences and indices to make compatible for training\n",
    "\n",
    "## Define tokenizer\n",
    "tokenizer_data = Tokenizer(num_words=VOCAB_SIZE, oov_token='<OOV>')\n",
    "tokenizer_data.fit_on_texts(train_sentences)\n",
    "word_index = tokenizer_data.word_index\n",
    "print(len(word_index))\n",
    "\n",
    "## change sentences to sequences\n",
    "train_sequences = tokenizer_data.texts_to_sequences(train_sentences)\n",
    "train_sequences = pad_sequences(train_sequences, padding='post', maxlen=MAXLEN)\n",
    "maxlen = len(train_sequences[0])\n",
    "#test_sequences = tokenizer.texts_to_sequences(test_sentences)\n",
    "#test_sequences = pad_sequences(test_sequences, padding='post', maxlen=MAXLEN, truncating='post')\n",
    "\n",
    "## Same for labels\n",
    "tokenizer_lab = Tokenizer()\n",
    "tokenizer_lab.fit_on_texts(train_labels)\n",
    "word_index = tokenizer_lab.word_index\n",
    "print(word_index)\n",
    "num_classes = len(word_index)+1\n",
    "train_lab_seq = tokenizer_lab.texts_to_sequences(train_labels)\n",
    "#test_lab_seq = tokenizer.texts_to_sequences(test_labels)\n",
    "\n",
    "train_labels = np.array(train_lab_seq).astype('float')\n",
    "print(train_labels[0])"
   ]
  },
  {
   "cell_type": "code",
   "execution_count": 6,
   "metadata": {},
   "outputs": [
    {
     "name": "stdout",
     "output_type": "stream",
     "text": [
      "4096\n",
      "4096\n"
     ]
    }
   ],
   "source": [
    "print(len(train_sequences[1]))\n",
    "print(maxlen)\n"
   ]
  },
  {
   "cell_type": "code",
   "execution_count": 7,
   "metadata": {},
   "outputs": [],
   "source": [
    "## change lists to arrays\n",
    "train_data = np.array(train_sequences).astype('float')\n",
    "#test_data = np.array(test_sequences)"
   ]
  },
  {
   "cell_type": "code",
   "execution_count": 8,
   "metadata": {},
   "outputs": [
    {
     "name": "stdout",
     "output_type": "stream",
     "text": [
      "(2225, 4096)\n"
     ]
    }
   ],
   "source": [
    "print(train_data.shape)"
   ]
  },
  {
   "cell_type": "code",
   "execution_count": 9,
   "metadata": {},
   "outputs": [
    {
     "name": "stdout",
     "output_type": "stream",
     "text": [
      "(2225, 64, 64, 1)\n"
     ]
    }
   ],
   "source": [
    "#train_data = np.reshape(train_data, [2225, 64, 64, 1])\n",
    "print(train_data.shape)"
   ]
  },
  {
   "cell_type": "code",
   "execution_count": 10,
   "metadata": {},
   "outputs": [
    {
     "name": "stdout",
     "output_type": "stream",
     "text": [
      "(2225, 64, 64, 1)\n",
      "[[9.6000e+01]\n",
      " [1.7600e+02]\n",
      " [1.1580e+03]\n",
      " [1.2210e+03]\n",
      " [5.4000e+01]\n",
      " [1.1230e+03]\n",
      " [7.4200e+02]\n",
      " [5.2150e+03]\n",
      " [8.5000e+01]\n",
      " [1.0740e+03]\n",
      " [4.2710e+03]\n",
      " [1.4700e+02]\n",
      " [1.8400e+02]\n",
      " [4.1310e+03]\n",
      " [1.3460e+03]\n",
      " [1.3120e+03]\n",
      " [1.5970e+03]\n",
      " [4.7000e+01]\n",
      " [9.0000e+00]\n",
      " [9.4900e+02]\n",
      " [9.6000e+01]\n",
      " [4.0000e+00]\n",
      " [6.5180e+03]\n",
      " [3.2900e+02]\n",
      " [9.2000e+01]\n",
      " [2.3000e+01]\n",
      " [1.7000e+01]\n",
      " [1.4000e+02]\n",
      " [3.1290e+03]\n",
      " [1.3320e+03]\n",
      " [2.5210e+03]\n",
      " [5.7700e+02]\n",
      " [4.1900e+02]\n",
      " [1.2780e+03]\n",
      " [7.2000e+01]\n",
      " [2.9630e+03]\n",
      " [3.0470e+03]\n",
      " [1.7560e+03]\n",
      " [1.0000e+01]\n",
      " [8.9400e+02]\n",
      " [4.0000e+00]\n",
      " [7.5500e+02]\n",
      " [1.2000e+01]\n",
      " [9.5400e+02]\n",
      " [1.9516e+04]\n",
      " [1.1000e+01]\n",
      " [6.5600e+02]\n",
      " [1.5790e+03]\n",
      " [1.0530e+03]\n",
      " [4.1400e+02]\n",
      " [4.0000e+00]\n",
      " [2.0020e+03]\n",
      " [1.2210e+03]\n",
      " [7.7900e+02]\n",
      " [5.4000e+01]\n",
      " [5.0300e+02]\n",
      " [1.5000e+03]\n",
      " [2.1150e+03]\n",
      " [1.6540e+03]\n",
      " [1.3500e+02]\n",
      " [3.3300e+02]\n",
      " [1.2300e+02]\n",
      " [2.7450e+03]\n",
      " [8.1800e+02]]\n"
     ]
    }
   ],
   "source": [
    "## Expand data dimensions to support with Keras\n",
    "#train_data = np.expand_dims(train_data, axis=-1)\n",
    "#test_data = np.expand_dims(test_data, axis=-1)\n",
    "print(train_data.shape)\n",
    "print(train_data[0][0])"
   ]
  },
  {
   "cell_type": "code",
   "execution_count": 11,
   "metadata": {},
   "outputs": [],
   "source": [
    "## Define ImageDataGenerator\n",
    "#train_gen = ImageDataGenerator(rescale=1/255.,\n",
    "#                               rotation_range=40,\n",
    "#                               width_shift_range=0.2,\n",
    "#                               height_shift_range=0.2,\n",
    "#                               zoom_range=0.2,\n",
    "#                               shear_range=0.2,\n",
    "#                               horizontal_flip=True)\n",
    "#val_gen = ImageDataGenerator(rescale=1/255.)"
   ]
  },
  {
   "cell_type": "code",
   "execution_count": 12,
   "metadata": {},
   "outputs": [],
   "source": [
    "## Define Model\n",
    "model = tf.keras.models.Sequential([tf.keras.layers.Embedding(VOCAB_SIZE, 16),\n",
    "                                    tf.keras.layers.Reshape((64,64,16)),\n",
    "                                    tf.keras.layers.Conv2D(256, (3,3), activation='relu', input_shape=(64,64,16)),\n",
    "                                    tf.keras.layers.MaxPooling2D(2,2),\n",
    "                                    tf.keras.layers.Conv2D(128, (3,3), activation='relu'),\n",
    "                                    tf.keras.layers.MaxPooling2D(2,2),\n",
    "                                    tf.keras.layers.Flatten(),\n",
    "                                    tf.keras.layers.Dense(512, activation='relu'),\n",
    "                                    tf.keras.layers.Dense(num_classes, activation='softmax')])"
   ]
  },
  {
   "cell_type": "code",
   "execution_count": 13,
   "metadata": {},
   "outputs": [],
   "source": [
    "## Compile Model\n",
    "model.compile(optimizer=RMSprop(lr=0.001), loss='sparse_categorical_crossentropy', metrics=['acc'])"
   ]
  },
  {
   "cell_type": "code",
   "execution_count": 14,
   "metadata": {},
   "outputs": [],
   "source": [
    "## Define Callback\n",
    "class myCallback(tf.keras.callbacks.Callback):\n",
    "    def on_epoch_end(self, epochs, logs={}):\n",
    "        if (logs.get('acc') > 0.9999):\n",
    "            print (\"\\nAccuracy reached 99.99%. Stopping operations.\")\n",
    "            self.model.stop_training = True\n",
    "callback = myCallback()"
   ]
  },
  {
   "cell_type": "code",
   "execution_count": 15,
   "metadata": {},
   "outputs": [
    {
     "name": "stdout",
     "output_type": "stream",
     "text": [
      "Epoch 1/20\n",
      "WARNING:tensorflow:Model was constructed with shape (None, None) for input Tensor(\"embedding_input:0\", shape=(None, None), dtype=float32), but it was called on an input with incompatible shape (None, 64, 64, 1).\n",
      "WARNING:tensorflow:Model was constructed with shape (None, None) for input Tensor(\"embedding_input:0\", shape=(None, None), dtype=float32), but it was called on an input with incompatible shape (None, 64, 64, 1).\n",
      "63/63 [==============================] - ETA: 0s - loss: 1.3838 - acc: 0.4031WARNING:tensorflow:Model was constructed with shape (None, None) for input Tensor(\"embedding_input:0\", shape=(None, None), dtype=float32), but it was called on an input with incompatible shape (None, 64, 64, 1).\n",
      "63/63 [==============================] - 61s 967ms/step - loss: 1.3838 - acc: 0.4031 - val_loss: 0.9710 - val_acc: 0.5516\n",
      "Epoch 2/20\n",
      "63/63 [==============================] - 61s 965ms/step - loss: 0.8639 - acc: 0.6364 - val_loss: 0.6777 - val_acc: 0.7534\n",
      "Epoch 3/20\n",
      "63/63 [==============================] - 64s 1s/step - loss: 0.5196 - acc: 0.8092 - val_loss: 0.6201 - val_acc: 0.7623\n",
      "Epoch 4/20\n",
      "63/63 [==============================] - 63s 1s/step - loss: 0.3178 - acc: 0.8821 - val_loss: 0.5739 - val_acc: 0.8117\n",
      "Epoch 5/20\n",
      "63/63 [==============================] - 64s 1s/step - loss: 0.1737 - acc: 0.9525 - val_loss: 0.7821 - val_acc: 0.7982\n",
      "Epoch 6/20\n",
      "63/63 [==============================] - 63s 1s/step - loss: 0.1006 - acc: 0.9655 - val_loss: 0.8665 - val_acc: 0.7848\n",
      "Epoch 7/20\n",
      "63/63 [==============================] - 63s 1000ms/step - loss: 0.0475 - acc: 0.9855 - val_loss: 1.1223 - val_acc: 0.7489\n",
      "Epoch 8/20\n",
      "63/63 [==============================] - ETA: 0s - loss: 0.0308 - acc: 0.9915\n",
      "Accuracy reached 99%. Stopping operations.\n",
      "63/63 [==============================] - 64s 1s/step - loss: 0.0308 - acc: 0.9915 - val_loss: 0.8958 - val_acc: 0.8206\n"
     ]
    }
   ],
   "source": [
    "## Train Model\n",
    "history = model.fit(train_data, \n",
    "                    train_labels,\n",
    "                      epochs=EPOCHS,\n",
    "                      validation_split=0.1,\n",
    "                      callbacks=[callback],\n",
    "                      verbose=1)"
   ]
  },
  {
   "cell_type": "code",
   "execution_count": 19,
   "metadata": {},
   "outputs": [
    {
     "data": {
      "image/png": "[encoded data removed]",
      "text/plain": [
       "<Figure size 432x288 with 1 Axes>"
      ]
     },
     "metadata": {
      "needs_background": "light"
     },
     "output_type": "display_data"
    }
   ],
   "source": [
    "## Plot Loss and Accuracy\n",
    "train_acc = history.history['acc']\n",
    "val_acc = history.history['val_acc']\n",
    "train_loss = history.history['loss']\n",
    "val_loss = history.history['val_loss']\n",
    "\n",
    "epochs = range(len(train_acc))\n",
    "\n",
    "plt.figure\n",
    "plt.plot(epochs, train_acc, 'r', label='train_acc')\n",
    "plt.plot(epochs, val_acc, 'b', label='val_acc')\n",
    "plt.title('Train and Val accuracies')\n",
    "plt.xlabel('Epochs')\n",
    "plt.ylabel('Accuracies')\n",
    "plt.legend\n",
    "\n",
    "plt.show()"
   ]
  },
  {
   "cell_type": "code",
   "execution_count": 20,
   "metadata": {},
   "outputs": [
    {
     "data": {
      "image/png": "[encoded data removed]",
      "text/plain": [
       "<Figure size 432x288 with 1 Axes>"
      ]
     },
     "metadata": {
      "needs_background": "light"
     },
     "output_type": "display_data"
    }
   ],
   "source": [
    "plt.figure\n",
    "plt.plot(epochs, train_loss, 'r', label='train_loss')\n",
    "plt.plot(epochs, val_loss, 'b', label='val_loss')\n",
    "plt.title('Train and Val losses')\n",
    "plt.xlabel('Epochs')\n",
    "plt.ylabel('Accuracies')\n",
    "plt.legend\n",
    "\n",
    "plt.show()"
   ]
  },
  {
   "cell_type": "code",
   "execution_count": 17,
   "metadata": {},
   "outputs": [
    {
     "name": "stdout",
     "output_type": "stream",
     "text": [
      "7172/7172 [==============================] - 18s 2ms/sample - loss: 7.6315 - acc: 0.5197\n"
     ]
    },
    {
     "data": {
      "text/plain": [
       "[7.631528957556295, 0.5196598]"
      ]
     },
     "execution_count": 17,
     "metadata": {},
     "output_type": "execute_result"
    }
   ],
   "source": [
    "## Evaluate Model\n",
    "model.evaluate(test_data, test_labels)"
   ]
  },
  {
   "cell_type": "code",
   "execution_count": null,
   "metadata": {},
   "outputs": [],
   "source": []
  },
  {
   "cell_type": "code",
   "execution_count": null,
   "metadata": {},
   "outputs": [],
   "source": []
  }
 ],
 "metadata": {
  "kernelspec": {
   "display_name": "Python 3",
   "language": "python",
   "name": "python3"
  },
  "language_info": {
   "codemirror_mode": {
    "name": "ipython",
    "version": 3
   },
   "file_extension": ".py",
   "mimetype": "text/x-python",
   "name": "python",
   "nbconvert_exporter": "python",
   "pygments_lexer": "ipython3",
   "version": "3.8.2"
  }
 },
 "nbformat": 4,
 "nbformat_minor": 2
}
